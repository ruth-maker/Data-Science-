{
 "cells": [
  {
   "cell_type": "code",
   "execution_count": 4,
   "metadata": {},
   "outputs": [
    {
     "data": {
      "text/plain": [
       "complex"
      ]
     },
     "execution_count": 4,
     "metadata": {},
     "output_type": "execute_result"
    }
   ],
   "source": [
    "                                      # Numbers\n",
    "'''\n",
    "/ = classic division returns a float\n",
    "// = floor division \n",
    "\n",
    "'''\n",
    "\n",
    "# complex numbers always have a 'j' or 'J'\n",
    "z = 1+5j\n",
    "type(z)"
   ]
  },
  {
   "cell_type": "code",
   "execution_count": 21,
   "metadata": {},
   "outputs": [
    {
     "name": "stdout",
     "output_type": "stream",
     "text": [
      "this is a string: hhhhhhhh\n"
     ]
    }
   ],
   "source": [
    "# cool tricks\n",
    "a = 'hhhhhhhh'\n",
    "print('this is a string: ', end=  '')\n",
    "print(a)"
   ]
  },
  {
   "cell_type": "code",
   "execution_count": 22,
   "metadata": {},
   "outputs": [
    {
     "name": "stdout",
     "output_type": "stream",
     "text": [
      "these are numbers: 30 (1+5j) 20.44\n"
     ]
    }
   ],
   "source": [
    "# cool tricks, you can do as much as you want\n",
    "a = 30\n",
    "print('these are numbers: ', end=  '')\n",
    "print(a,z,b)"
   ]
  },
  {
   "cell_type": "code",
   "execution_count": 14,
   "metadata": {},
   "outputs": [
    {
     "data": {
      "text/plain": [
       "40"
      ]
     },
     "execution_count": 14,
     "metadata": {},
     "output_type": "execute_result"
    }
   ],
   "source": [
    "# the last printed expression is assigned to the variable '_' \n",
    "a = 30\n",
    "b = 10\n",
    "a + b #You have to print it out first"
   ]
  },
  {
   "cell_type": "code",
   "execution_count": 15,
   "metadata": {},
   "outputs": [
    {
     "data": {
      "text/plain": [
       "70"
      ]
     },
     "execution_count": 15,
     "metadata": {},
     "output_type": "execute_result"
    }
   ],
   "source": [
    "a + _ # it works"
   ]
  },
  {
   "cell_type": "code",
   "execution_count": 17,
   "metadata": {},
   "outputs": [
    {
     "data": {
      "text/plain": [
       "20"
      ]
     },
     "execution_count": 17,
     "metadata": {},
     "output_type": "execute_result"
    }
   ],
   "source": [
    "# converting Numbers, note you can not convert a complex type to another number type\n",
    "a = 3\n",
    "b = 20.44\n",
    "c = 134 + 7J\n",
    "int(b)"
   ]
  },
  {
   "cell_type": "code",
   "execution_count": 18,
   "metadata": {},
   "outputs": [
    {
     "data": {
      "text/plain": [
       "3.0"
      ]
     },
     "execution_count": 18,
     "metadata": {},
     "output_type": "execute_result"
    }
   ],
   "source": [
    "float(a)"
   ]
  },
  {
   "cell_type": "code",
   "execution_count": 19,
   "metadata": {},
   "outputs": [
    {
     "data": {
      "text/plain": [
       "(20.44+0j)"
      ]
     },
     "execution_count": 19,
     "metadata": {},
     "output_type": "execute_result"
    }
   ],
   "source": [
    "complex(b)"
   ]
  },
  {
   "cell_type": "code",
   "execution_count": 25,
   "metadata": {},
   "outputs": [
    {
     "name": "stdout",
     "output_type": "stream",
     "text": [
      "Lorem ipsum dolor sit amet\n",
      "consectetur adipiscing elit,\n",
      "sed do eiusmod tempor incididunt\n",
      "ut labore et dolore magna aliqua.\n"
     ]
    }
   ],
   "source": [
    "                                        # Strings\n",
    "# You can assign a multiline string to a variable by using three quotes:\n",
    "a = \"\"\"Lorem ipsum dolor sit amet\n",
    "consectetur adipiscing elit,\n",
    "sed do eiusmod tempor incididunt\n",
    "ut labore et dolore magna aliqua.\"\"\"\n",
    "print(a)"
   ]
  },
  {
   "cell_type": "code",
   "execution_count": 29,
   "metadata": {},
   "outputs": [
    {
     "name": "stdout",
     "output_type": "stream",
     "text": [
      "Ruth Ovuike\n"
     ]
    }
   ],
   "source": [
    "# the strip method removes any white spaces form the beginning or the end\n",
    "a =  \" Ruth Ovuike \"\n",
    "print(a.strip())"
   ]
  },
  {
   "cell_type": "code",
   "execution_count": 30,
   "metadata": {},
   "outputs": [
    {
     "name": "stdout",
     "output_type": "stream",
     "text": [
      " Ruth Lvuike \n"
     ]
    }
   ],
   "source": [
    "# the replace method\n",
    "print(a.replace('O',\"L\"))"
   ]
  },
  {
   "cell_type": "code",
   "execution_count": 33,
   "metadata": {},
   "outputs": [
    {
     "name": "stdout",
     "output_type": "stream",
     "text": [
      "[' Ruth Ovuike ']\n"
     ]
    }
   ],
   "source": [
    "# The split() method splits the string into substrings if it finds instances of the separator\n",
    "print(a.split(\",\"))"
   ]
  },
  {
   "cell_type": "code",
   "execution_count": 34,
   "metadata": {},
   "outputs": [
    {
     "name": "stdout",
     "output_type": "stream",
     "text": [
      "True\n"
     ]
    }
   ],
   "source": [
    "# Check if the phrase \"uik\" is present in the following text\n",
    "z = 'uik' in a\n",
    "print(z)"
   ]
  },
  {
   "cell_type": "code",
   "execution_count": 35,
   "metadata": {},
   "outputs": [
    {
     "name": "stdout",
     "output_type": "stream",
     "text": [
      "True\n"
     ]
    }
   ],
   "source": [
    "# Check if the phrase \"ain\" is NOT present in the following text\n",
    "x = 'ain'not in a\n",
    "print(x)"
   ]
  },
  {
   "cell_type": "code",
   "execution_count": 2,
   "metadata": {},
   "outputs": [
    {
     "name": "stdout",
     "output_type": "stream",
     "text": [
      "My name is ruth and I am 20 \n"
     ]
    }
   ],
   "source": [
    "# The format() method takes the passed arguments, formats them, and places them in the string where the placeholders {} are\n",
    "txt = 'My name is ruth and I am {} '\n",
    "age = 20\n",
    "print(txt.format(age))"
   ]
  },
  {
   "cell_type": "code",
   "execution_count": 3,
   "metadata": {},
   "outputs": [
    {
     "name": "stdout",
     "output_type": "stream",
     "text": [
      "I want to pay $25 dollars for 44 pieces of apples.\n"
     ]
    }
   ],
   "source": [
    "# The format() method takes unlimited number of arguments, and are placed into the respective placeholders\n",
    "item = 'apples'\n",
    "price = '$25'\n",
    "quantity = '44'\n",
    "myorder = \"I want to pay {} dollars for {} pieces of {}.\"\n",
    "print(myorder.format(price,quantity,item))"
   ]
  },
  {
   "cell_type": "code",
   "execution_count": 4,
   "metadata": {},
   "outputs": [
    {
     "name": "stdout",
     "output_type": "stream",
     "text": [
      "I want to pay $25 dollars for 44 pieces of apples.\n"
     ]
    }
   ],
   "source": [
    "# You can use index numbers {0} to be sure the arguments are placed in the correct placeholders\n",
    "item = 'apples'\n",
    "price = '$25'\n",
    "quantity = '44'\n",
    "myorder = \"I want to pay {1} dollars for {2} pieces of {0}.\"\n",
    "print(myorder.format(item,price,quantity))"
   ]
  },
  {
   "cell_type": "code",
   "execution_count": 6,
   "metadata": {},
   "outputs": [
    {
     "data": {
      "text/plain": [
       "'We are the so-called \"Vikings\" from the north.'"
      ]
     },
     "execution_count": 6,
     "metadata": {},
     "output_type": "execute_result"
    }
   ],
   "source": [
    "'''\n",
    "To insert characters that are illegal in a string, use an escape character.\n",
    "An escape character is a backslash \\ followed by the character you want to insert.\n",
    "An example of an illegal character is a double quote inside a string that is surrounded by double quotes:\n",
    "'''\n",
    "txt = \"We are the so-called \\\"Vikings\\\" from the north.\"\n",
    "txt"
   ]
  },
  {
   "cell_type": "code",
   "execution_count": 12,
   "metadata": {},
   "outputs": [
    {
     "name": "stdout",
     "output_type": "stream",
     "text": [
      "This will insert one \\ (backslash).\n"
     ]
    }
   ],
   "source": [
    "# Other escape characters used in Python:\n",
    "\n",
    "# \\' : Single Quote\n",
    "# \\\\ : Backslash\n",
    "# \\n : New Line\n",
    "# \\r : Carriage Return\n",
    "# \\t : Tab\n",
    "# \\b : Backspace\n",
    "# \\f : Form Feed\n",
    "# \\ooo : Octal value\n",
    "# \\xhh : Hex value\n",
    "\n",
    "# Backslash\n",
    "txt = \"This will insert one \\\\ (backslash).\"\n",
    "print(txt) "
   ]
  },
  {
   "cell_type": "code",
   "execution_count": 17,
   "metadata": {},
   "outputs": [
    {
     "name": "stdout",
     "output_type": "stream",
     "text": [
      "Apple\n",
      "Pie\n"
     ]
    }
   ],
   "source": [
    "# New line\n",
    "txt = 'Apple\\nPie'\n",
    "print(txt)"
   ]
  },
  {
   "cell_type": "code",
   "execution_count": 20,
   "metadata": {},
   "outputs": [
    {
     "name": "stdout",
     "output_type": "stream",
     "text": [
      "C:\\Users\\wisdom ovuike\n"
     ]
    }
   ],
   "source": [
    "# raw text\n",
    "txt = r'C:\\Users\\wisdom ovuike'\n",
    "print(txt)"
   ]
  },
  {
   "cell_type": "code",
   "execution_count": 23,
   "metadata": {},
   "outputs": [
    {
     "name": "stdout",
     "output_type": "stream",
     "text": [
      "Ruth\r",
      "Ovuike\n"
     ]
    }
   ],
   "source": [
    "# Carriage return\n",
    "txt = 'Ruth\\rOvuike'\n",
    "print(txt)"
   ]
  },
  {
   "cell_type": "code",
   "execution_count": 25,
   "metadata": {},
   "outputs": [
    {
     "name": "stdout",
     "output_type": "stream",
     "text": [
      "Apple\tCider\n"
     ]
    }
   ],
   "source": [
    "# tab\n",
    "txt = 'Apple\\tCider'\n",
    "print(txt)"
   ]
  },
  {
   "cell_type": "code",
   "execution_count": 37,
   "metadata": {},
   "outputs": [
    {
     "name": "stdout",
     "output_type": "stream",
     "text": [
      "R \bu \bt \bh\n"
     ]
    }
   ],
   "source": [
    "# Back space\n",
    "txt = 'R \\bu \\bt \\bh'\n",
    "print(txt)"
   ]
  },
  {
   "cell_type": "code",
   "execution_count": 31,
   "metadata": {},
   "outputs": [
    {
     "data": {
      "text/plain": [
       "'a, b, c'"
      ]
     },
     "execution_count": 31,
     "metadata": {},
     "output_type": "execute_result"
    }
   ],
   "source": [
    "# Format examples\n",
    "'{}, {}, {}'.format('a','b','c')"
   ]
  },
  {
   "cell_type": "code",
   "execution_count": 32,
   "metadata": {},
   "outputs": [
    {
     "data": {
      "text/plain": [
       "'b, a, c'"
      ]
     },
     "execution_count": 32,
     "metadata": {},
     "output_type": "execute_result"
    }
   ],
   "source": [
    "'{1}, {0}, {2}'.format('a','b','c')"
   ]
  },
  {
   "cell_type": "code",
   "execution_count": 34,
   "metadata": {},
   "outputs": [
    {
     "data": {
      "text/plain": [
       "'a, b, c'"
      ]
     },
     "execution_count": 34,
     "metadata": {},
     "output_type": "execute_result"
    }
   ],
   "source": [
    "'{}, {}, {}'.format(*'abc') # use * for all tuples, unpackaging tuples"
   ]
  },
  {
   "cell_type": "code",
   "execution_count": 36,
   "metadata": {},
   "outputs": [
    {
     "data": {
      "text/plain": [
       "'abracadabra'"
      ]
     },
     "execution_count": 36,
     "metadata": {},
     "output_type": "execute_result"
    }
   ],
   "source": [
    "'{0}{1}{0}'.format('abra', 'cad')   # arguments' indices can be repeated\n"
   ]
  },
  {
   "cell_type": "code",
   "execution_count": 40,
   "metadata": {},
   "outputs": [
    {
     "data": {
      "text/plain": [
       "'Number of groups: 10,12,33'"
      ]
     },
     "execution_count": 40,
     "metadata": {},
     "output_type": "execute_result"
    }
   ],
   "source": [
    "# Accessing arguments by name\n",
    "'Number of groups: {boys},{gilrs},{other}'.format(boys = 10, gilrs = 12, other = 33)"
   ]
  },
  {
   "cell_type": "code",
   "execution_count": 43,
   "metadata": {},
   "outputs": [
    {
     "data": {
      "text/plain": [
       "'Her name is Ruth and she is 20'"
      ]
     },
     "execution_count": 43,
     "metadata": {},
     "output_type": "execute_result"
    }
   ],
   "source": [
    "info = {'name': 'Ruth', 'age':'20'}\n",
    "'Her name is {name} and she is {age}'.format(**info)"
   ]
  },
  {
   "cell_type": "code",
   "execution_count": 44,
   "metadata": {},
   "outputs": [
    {
     "data": {
      "text/plain": [
       "'250,654'"
      ]
     },
     "execution_count": 44,
     "metadata": {},
     "output_type": "execute_result"
    }
   ],
   "source": [
    "# Using the comma as a thousands separator\n",
    "'{:,}'.format(250654)"
   ]
  },
  {
   "cell_type": "code",
   "execution_count": 45,
   "metadata": {},
   "outputs": [
    {
     "data": {
      "text/plain": [
       "'Percentage: 41.38%'"
      ]
     },
     "execution_count": 45,
     "metadata": {},
     "output_type": "execute_result"
    }
   ],
   "source": [
    "# Expressing a percentage\n",
    "pionts = 12\n",
    "total = 29\n",
    "'Percentage: {:.2%}'.format(pionts/total)"
   ]
  },
  {
   "cell_type": "code",
   "execution_count": 133,
   "metadata": {},
   "outputs": [
    {
     "data": {
      "text/plain": [
       "\"He said his name is 'Frank'.\""
      ]
     },
     "execution_count": 133,
     "metadata": {},
     "output_type": "execute_result"
    }
   ],
   "source": [
    "name = 'Frank'\n",
    "f'He said his name is {name!r}.'"
   ]
  },
  {
   "cell_type": "code",
   "execution_count": 49,
   "metadata": {},
   "outputs": [
    {
     "data": {
      "text/plain": [
       "\"He said his name is 'Frank'\""
      ]
     },
     "execution_count": 49,
     "metadata": {},
     "output_type": "execute_result"
    }
   ],
   "source": [
    "f'He said his name is {repr(name)}'"
   ]
  },
  {
   "cell_type": "code",
   "execution_count": 88,
   "metadata": {},
   "outputs": [],
   "source": [
    "                                       # String Methods\n",
    "#1 Capitalize() = Converts the first character to upper case\n",
    "#2 Casefold() = Converts string into lower case, stronger than lower()\n",
    "#3 Center() = Returns a centered string\n",
    "#4 Count() = Returns the number of times a specified value occurs in a string\n",
    "#5 Encode() = Returns an encoded version of the string\n",
    "#6 Endswith() = Returns true if the string ends with the specified value\n",
    "#7 Expandtabs() = Sets the tab size of the string\n",
    "#8 Find() = Searches the string for a specified value and returns the position of where it was found\n",
    "#9 Format() = Formats specified values in a string\n",
    "#10 Format_map() = Is used to return an dictionary key's value\n",
    "#11 Index() = Searches the string for a specified value and returns the position of where it was found\n",
    "#12 Isalnum() = Returns True if all characters in the string are alphanumeric\n",
    "#13 Isalpha() = Returns True if all characters in the string are in the alphabet\n",
    "#14 Isdecimal() = Returns True if all characters in the string are decimals\n",
    "#15 Isdigit() = Returns True if all characters in the string are digits\n",
    "#16 Isidentifier() = Returns True if the string is an identifier\n",
    "#17 Islower() = Returns True if all characters in the string are lower case\n",
    "#18 Isnumeric() = Returns True if all characters in the string are numeric\n",
    "#19 Isprintable() = Returns True if all characters in the string are printable\n",
    "#20 Isspace() = Returns True if all characters in the string are whitespaces\n",
    "#21 Istitle() = Returns True if the string follows the rules of a title\n",
    "#22 Isupper() = Returns True if all characters in the string are upper case\n",
    "#23 Join() = Joins the elements of an iterable to the end of the string\n",
    "#24 Ljust() = Returns a left justified version of the string\n",
    "#25 lower() = Converts a string into lower case\n",
    "#26 lstrip() = Returns a left trim version of the string\n",
    "#27 Maketrans() = Returns a translation table to be used in translations\n",
    "#28 Translate() = Returns a translated string\n",
    "#29 Replace() = Returns a string where a specified value is replaced with a specified value\n",
    "#30 Partition() = Returns a tuple where the string is parted into three parts\n",
    "#31 Split() = Splits the string at the specified separator, and returns a list\n",
    "#32 Rpartition() = Returns a tuple where the string is parted into three parts\n",
    "#33 Rsplit() = Splits the string at the specified separator, and returns a list\n",
    "#34 Splitlines() = Splits the string at line breaks and returns a list\n",
    "#35 title() = Converts the first character of each word to upper case\n",
    "#36 upper() = Converts a string into upper case\n",
    "#37 zfill() = Fills the string with a specified number of 0 values at the beginning\n",
    "#38 strip() = Returns a trimmed version of the string\n",
    "#39 rstrip() = Returns a right trim version of the string\n",
    "#40 swapcase() = Swaps cases, lower case becomes upper case and vice versa\n",
    "#41 startswith() = method returns True if the string starts with the specified value, otherwise False\n",
    "#42 rfind() = Searches the string for a specified value and returns the last position of where it was found\n",
    "#43 rindex() = Searches the string for a specified value and returns the last position of where it was found\n",
    "#44 rjust() = Returns a right justified version of the string"
   ]
  },
  {
   "cell_type": "code",
   "execution_count": 55,
   "metadata": {},
   "outputs": [
    {
     "data": {
      "text/plain": [
       "'Ruth'"
      ]
     },
     "execution_count": 55,
     "metadata": {},
     "output_type": "execute_result"
    }
   ],
   "source": [
    "#1 The capitalize() method returns a string where the first character is upper case.\n",
    "'ruth'.capitalize()"
   ]
  },
  {
   "cell_type": "code",
   "execution_count": 56,
   "metadata": {},
   "outputs": [
    {
     "data": {
      "text/plain": [
       "'i love him'"
      ]
     },
     "execution_count": 56,
     "metadata": {},
     "output_type": "execute_result"
    }
   ],
   "source": [
    "#2 The casefold() method is stronger, more aggressive, meaning that it will convert more characters into lowercase\n",
    "'I LOVE HIM'.casefold()"
   ]
  },
  {
   "cell_type": "code",
   "execution_count": 66,
   "metadata": {},
   "outputs": [
    {
     "data": {
      "text/plain": [
       "'1111111111ruth1111111111'"
      ]
     },
     "execution_count": 66,
     "metadata": {},
     "output_type": "execute_result"
    }
   ],
   "source": [
    "#3 Center()\tprint the word \"banana\", taking up the space of 39 characters, with \"banana\" in the middle\n",
    "# String.center(length, character) \n",
    "'banana'.center(39)\n",
    "'ruth'.center(24, '1')"
   ]
  },
  {
   "cell_type": "code",
   "execution_count": 58,
   "metadata": {},
   "outputs": [
    {
     "data": {
      "text/plain": [
       "3"
      ]
     },
     "execution_count": 58,
     "metadata": {},
     "output_type": "execute_result"
    }
   ],
   "source": [
    "#4 Count(), string.count(value, start, end) \n",
    "txt = 'I am so happy today'\n",
    "a = txt.count('a')\n",
    "a"
   ]
  },
  {
   "cell_type": "code",
   "execution_count": 59,
   "metadata": {},
   "outputs": [
    {
     "data": {
      "text/plain": [
       "3"
      ]
     },
     "execution_count": 59,
     "metadata": {},
     "output_type": "execute_result"
    }
   ],
   "source": [
    "txt = 'wewwbtwwkf'\n",
    "b = txt.count('w',3,-1)\n",
    "b"
   ]
  },
  {
   "cell_type": "code",
   "execution_count": 69,
   "metadata": {},
   "outputs": [
    {
     "data": {
      "text/plain": [
       "True"
      ]
     },
     "execution_count": 69,
     "metadata": {},
     "output_type": "execute_result"
    }
   ],
   "source": [
    "#6 String.endswith(value, start, end)  \n",
    "txt = r'C:\\Users\\wisdom ovuike'\n",
    "txt.endswith('wisdom',9,15)"
   ]
  },
  {
   "cell_type": "code",
   "execution_count": 74,
   "metadata": {},
   "outputs": [
    {
     "data": {
      "text/plain": [
       "'w e l c o m e '"
      ]
     },
     "execution_count": 74,
     "metadata": {},
     "output_type": "execute_result"
    }
   ],
   "source": [
    "#7 Expandtabs(), string.expandtabs(tabsize), tabs default is 8 spaces \n",
    "'w\\te\\tl\\tc\\to\\tm\\te\\t'.expandtabs(1)"
   ]
  },
  {
   "cell_type": "code",
   "execution_count": 83,
   "metadata": {},
   "outputs": [
    {
     "data": {
      "text/plain": [
       "'1        22       333      4444     55555    666666   7777777  88888888 999999999         '"
      ]
     },
     "execution_count": 83,
     "metadata": {},
     "output_type": "execute_result"
    }
   ],
   "source": [
    "'1\\t22\\t333\\t4444\\t55555\\t666666\\t7777777\\t88888888\\t999999999\\t'.expandtabs(9)"
   ]
  },
  {
   "cell_type": "code",
   "execution_count": 84,
   "metadata": {},
   "outputs": [
    {
     "data": {
      "text/plain": [
       "6"
      ]
     },
     "execution_count": 84,
     "metadata": {},
     "output_type": "execute_result"
    }
   ],
   "source": [
    "#8 The find() method finds the first occurrence of the specified value.\n",
    "# The find() method returns -1 if the value is not found.\n",
    "# The only difference is that the index() method raises an exception\n",
    "# String.find(value, start, end)\n",
    "txt = 'Picture perfect you do\\'nt need no filter'\n",
    "txt.find('e')"
   ]
  },
  {
   "cell_type": "code",
   "execution_count": 86,
   "metadata": {},
   "outputs": [
    {
     "data": {
      "text/plain": [
       "-1"
      ]
     },
     "execution_count": 86,
     "metadata": {},
     "output_type": "execute_result"
    }
   ],
   "source": [
    "txt.find('i',5,24)"
   ]
  },
  {
   "cell_type": "code",
   "execution_count": 89,
   "metadata": {},
   "outputs": [
    {
     "data": {
      "text/plain": [
       "'My name is Robin and I am 25 and I live in Dublin'"
      ]
     },
     "execution_count": 89,
     "metadata": {},
     "output_type": "execute_result"
    }
   ],
   "source": [
    "#9 The placeholder is defined using curly brackets: {} \n",
    "# String.format(value1, value2...)\n",
    "'My name is {} and I am {} and I live in {}'.format('Robin',25,'Dublin')"
   ]
  },
  {
   "cell_type": "code",
   "execution_count": 90,
   "metadata": {},
   "outputs": [
    {
     "data": {
      "text/plain": [
       "'My name is Jack and I am 39 and I live in NY'"
      ]
     },
     "execution_count": 90,
     "metadata": {},
     "output_type": "execute_result"
    }
   ],
   "source": [
    "'My name is {1} and I am {0} and I live in {2}'.format(39,'Jack','NY')"
   ]
  },
  {
   "cell_type": "code",
   "execution_count": 91,
   "metadata": {},
   "outputs": [
    {
     "data": {
      "text/plain": [
       "'My name is Mary and I am 99 and I live in Italy'"
      ]
     },
     "execution_count": 91,
     "metadata": {},
     "output_type": "execute_result"
    }
   ],
   "source": [
    "'My name is {fname} and I am {age} and I live in {live}'.format(fname = 'Mary',age = 99, live = 'Italy')"
   ]
  },
  {
   "cell_type": "code",
   "execution_count": 92,
   "metadata": {},
   "outputs": [],
   "source": [
    "# Formatting Types, numbers\n",
    "#1 :< = Left aligns the result (within the available space)\n",
    "#2 :> = Right aligns the result (within the available space)\n",
    "#3 :^ = Center aligns the result (within the available space)\n",
    "#4 := = Places the sign to the left most position\n",
    "#5 :+ = Use a plus sign to indicate if the result is positive or negative\n",
    "#6 :- = Use a minus sign for negative values only\n",
    "#7 :, = Use a comma as a thousand separator\n",
    "#8 :_ = Use a underscore as a thousand separator\n",
    "#9 :f = Fix point number format\n",
    "#10 :% = Percentage format"
   ]
  },
  {
   "cell_type": "code",
   "execution_count": 93,
   "metadata": {},
   "outputs": [
    {
     "data": {
      "text/plain": [
       "'I ate 11   chocolate'"
      ]
     },
     "execution_count": 93,
     "metadata": {},
     "output_type": "execute_result"
    }
   ],
   "source": [
    "#1 Use \"<\" to left-align the value,we insert the number to set the available space.\n",
    "txt = 'I ate {:<4} chocolate'\n",
    "txt.format(11)"
   ]
  },
  {
   "cell_type": "code",
   "execution_count": 99,
   "metadata": {},
   "outputs": [
    {
     "data": {
      "text/plain": [
       "'I ate   11 chocolate'"
      ]
     },
     "execution_count": 99,
     "metadata": {},
     "output_type": "execute_result"
    }
   ],
   "source": [
    "#2 Use \">\" to right-align the value\n",
    "txt = 'I ate {:>4} chocolate'\n",
    "txt.format(11)"
   ]
  },
  {
   "cell_type": "code",
   "execution_count": 100,
   "metadata": {},
   "outputs": [
    {
     "data": {
      "text/plain": [
       "'I ate  11  chocolate'"
      ]
     },
     "execution_count": 100,
     "metadata": {},
     "output_type": "execute_result"
    }
   ],
   "source": [
    "#3 Use \"^\" to center-align the value\n",
    "txt = 'I ate {:^4} chocolate'\n",
    "txt.format(11)"
   ]
  },
  {
   "cell_type": "code",
   "execution_count": 105,
   "metadata": {},
   "outputs": [
    {
     "data": {
      "text/plain": [
       "'I ate -     11 choclate'"
      ]
     },
     "execution_count": 105,
     "metadata": {},
     "output_type": "execute_result"
    }
   ],
   "source": [
    "#4 Use \"=\" to place the plus/minus sign at the left most position\n",
    "txt = 'I ate {:=8} choclate'\n",
    "txt.format(-11)"
   ]
  },
  {
   "cell_type": "code",
   "execution_count": 108,
   "metadata": {},
   "outputs": [
    {
     "data": {
      "text/plain": [
       "'The temp is between -3 and +7 degress'"
      ]
     },
     "execution_count": 108,
     "metadata": {},
     "output_type": "execute_result"
    }
   ],
   "source": [
    "#5 Use \"+\" to always indicate if the number is positive or negative\n",
    "txt = 'The temp is between {:+} and {:+} degress'\n",
    "txt.format(-3,7)"
   ]
  },
  {
   "cell_type": "code",
   "execution_count": 110,
   "metadata": {},
   "outputs": [
    {
     "data": {
      "text/plain": [
       "'The temp is between -3 and -7 degress'"
      ]
     },
     "execution_count": 110,
     "metadata": {},
     "output_type": "execute_result"
    }
   ],
   "source": [
    "#6 Use \"-\" to always indicate if the number is negative (positive numbers are displayed without any sign)\n",
    "txt = 'The temp is between {:-} and {:-} degress'\n",
    "txt.format(-3,-7)"
   ]
  },
  {
   "cell_type": "code",
   "execution_count": 118,
   "metadata": {},
   "outputs": [
    {
     "data": {
      "text/plain": [
       "\"This is 13 billion and 80 million in f'format: 13,800,000,000\""
      ]
     },
     "execution_count": 118,
     "metadata": {},
     "output_type": "execute_result"
    }
   ],
   "source": [
    "#7 Use \",\" to add a comma as a thousand separator:\n",
    "txt = 'This is 13 billion and 80 million in f\\'format: {:,}'\n",
    "txt.format(13800000000)"
   ]
  },
  {
   "cell_type": "code",
   "execution_count": 116,
   "metadata": {},
   "outputs": [
    {
     "data": {
      "text/plain": [
       "\"This is 8 million and 250 thousand and 125 dollars in another way of f'format: 8_250_125\""
      ]
     },
     "execution_count": 116,
     "metadata": {},
     "output_type": "execute_result"
    }
   ],
   "source": [
    "#8 Use \"_\" to add a underscore character as a thousand separator\n",
    "txt = 'This is 8 million and 250 thousand and 125 dollars in another way of f\\'format: {:_}'\n",
    "txt.format(8250125)"
   ]
  },
  {
   "cell_type": "code",
   "execution_count": 124,
   "metadata": {},
   "outputs": [
    {
     "data": {
      "text/plain": [
       "'It was exactly 4.80'"
      ]
     },
     "execution_count": 124,
     "metadata": {},
     "output_type": "execute_result"
    }
   ],
   "source": [
    "#9 Use \"f\" to convert a number into a fixed point number \n",
    "# Default with 6 decimals, but use a period followed by a number to specify the number of decimals\n",
    "'It was exactly {:.2f}'.format(24/5)"
   ]
  },
  {
   "cell_type": "code",
   "execution_count": 125,
   "metadata": {},
   "outputs": [
    {
     "data": {
      "text/plain": [
       "'It was exactly 1.846154'"
      ]
     },
     "execution_count": 125,
     "metadata": {},
     "output_type": "execute_result"
    }
   ],
   "source": [
    "'It was exactly {:f}'.format(24/13) # defalut 6 fixed point number"
   ]
  },
  {
   "cell_type": "code",
   "execution_count": 131,
   "metadata": {},
   "outputs": [
    {
     "data": {
      "text/plain": [
       "'It was exacly 75%'"
      ]
     },
     "execution_count": 131,
     "metadata": {},
     "output_type": "execute_result"
    }
   ],
   "source": [
    "#10 Use \"%\" to convert the number into a percentage format\n",
    "# defalut 6 fixed point number\n",
    "'It was exacly {:.0%}'.format(15/20)"
   ]
  },
  {
   "cell_type": "code",
   "execution_count": 5,
   "metadata": {},
   "outputs": [
    {
     "data": {
      "text/plain": [
       "'My name is Ruth and I am 20 years old'"
      ]
     },
     "execution_count": 5,
     "metadata": {},
     "output_type": "execute_result"
    }
   ],
   "source": [
    "                 # F-string vs format() vs % string formater\n",
    "# Example 1: F-string\n",
    "sentence = f\"My name is {'Ruth'} and I am {20} years old\"\n",
    "sentence"
   ]
  },
  {
   "cell_type": "code",
   "execution_count": 3,
   "metadata": {},
   "outputs": [
    {
     "data": {
      "text/plain": [
       "'My name is TobbbySmith'"
      ]
     },
     "execution_count": 3,
     "metadata": {},
     "output_type": "execute_result"
    }
   ],
   "source": [
    "fname = 'Tobbby'\n",
    "lname = 'Smith'\n",
    "sentence = f'My name is {fname}{lname}'\n",
    "sentence"
   ]
  },
  {
   "cell_type": "markdown",
   "metadata": {},
   "source": [
    "fname = 'Tobbby\\t'\n",
    "lname = 'Smith'\n",
    "sentence = f'My name is {fname.expandtabs(1)}{lname}'\n",
    "print(sentence)"
   ]
  },
  {
   "cell_type": "code",
   "execution_count": 22,
   "metadata": {},
   "outputs": [
    {
     "name": "stdout",
     "output_type": "stream",
     "text": [
      "My name is TOBBBY SMITH\n"
     ]
    }
   ],
   "source": [
    "fname = 'Tobbby'\n",
    "lname = 'Smith'\n",
    "sentence = f'My name is {fname.upper()} {lname.upper()}'\n",
    "print(sentence)"
   ]
  },
  {
   "cell_type": "code",
   "execution_count": 27,
   "metadata": {},
   "outputs": [
    {
     "data": {
      "text/plain": [
       "'His name is mike and he is 20'"
      ]
     },
     "execution_count": 27,
     "metadata": {},
     "output_type": "execute_result"
    }
   ],
   "source": [
    "# Example 2: Format()\n",
    "person = {'name':'mike','age': '20'}\n",
    "sentence = 'His name is {name} and he is {age}'.format(**person)\n",
    "sentence"
   ]
  },
  {
   "cell_type": "code",
   "execution_count": 32,
   "metadata": {},
   "outputs": [
    {
     "data": {
      "text/plain": [
       "'Her name is Rose and she is 45'"
      ]
     },
     "execution_count": 32,
     "metadata": {},
     "output_type": "execute_result"
    }
   ],
   "source": [
    "person = {'name':'Rose','age': 45}\n",
    "sentence = 'Her name is {} and she is {}'.format(person['name'],person['age'])\n",
    "sentence"
   ]
  },
  {
   "cell_type": "code",
   "execution_count": 36,
   "metadata": {},
   "outputs": [
    {
     "data": {
      "text/plain": [
       "'Her name is ROSE and she is 45'"
      ]
     },
     "execution_count": 36,
     "metadata": {},
     "output_type": "execute_result"
    }
   ],
   "source": [
    "# Example 3: F-string\n",
    "person = {'name':'Rose','age': 45}\n",
    "sentence = f\"Her name is {person['name'].upper()} and she is {person['age']}\"\n",
    "sentence"
   ]
  },
  {
   "cell_type": "code",
   "execution_count": 38,
   "metadata": {},
   "outputs": [
    {
     "data": {
      "text/plain": [
       "'4 times is 11 is equal to 44'"
      ]
     },
     "execution_count": 38,
     "metadata": {},
     "output_type": "execute_result"
    }
   ],
   "source": [
    "f'4 times is 11 is equal to {4*11}'"
   ]
  },
  {
   "cell_type": "code",
   "execution_count": 44,
   "metadata": {},
   "outputs": [
    {
     "name": "stdout",
     "output_type": "stream",
     "text": [
      "The value is 0001\n",
      "The value is 0002\n",
      "The value is 0003\n",
      "The value is 0004\n",
      "The value is 0005\n",
      "The value is 0006\n",
      "The value is 0007\n",
      "The value is 0008\n",
      "The value is 0009\n",
      "The value is 0010\n"
     ]
    }
   ],
   "source": [
    "for i in range(1,11):\n",
    "    print(f'The value is {i:04}') # zero pad in f-string"
   ]
  },
  {
   "cell_type": "code",
   "execution_count": 43,
   "metadata": {},
   "outputs": [
    {
     "data": {
      "text/plain": [
       "'Pi is equal 3.142'"
      ]
     },
     "execution_count": 43,
     "metadata": {},
     "output_type": "execute_result"
    }
   ],
   "source": [
    "pi = 3.14159265\n",
    "f'Pi is equal\\t{pi:.3f}'.expandtabs(1)"
   ]
  },
  {
   "cell_type": "code",
   "execution_count": 45,
   "metadata": {},
   "outputs": [],
   "source": [
    "# F-string Types, numbers\n",
    "#1 :< = Left aligns the result (within the available space)\n",
    "#2 :> = Right aligns the result (within the available space)\n",
    "#3 :^ = Center aligns the result (within the available space)\n",
    "#4 := = Places the sign to the left most position\n",
    "#5 :+ = Use a plus sign to indicate if the result is positive or negative\n",
    "#6 :- = Use a minus sign for negative values only\n",
    "#7 :, = Use a comma as a thousand separator\n",
    "#8 :_ = Use a underscore as a thousand separator\n",
    "#9 :f = Fix point number format\n",
    "#10 :% = Percentage format\n",
    "#11 :(how many timws you want to space)"
   ]
  },
  {
   "cell_type": "code",
   "execution_count": 56,
   "metadata": {},
   "outputs": [
    {
     "data": {
      "text/plain": [
       "'I ate 300      chocolate bars'"
      ]
     },
     "execution_count": 56,
     "metadata": {},
     "output_type": "execute_result"
    }
   ],
   "source": [
    "#1\n",
    "f'I ate {300:<8} chocolate bars'"
   ]
  },
  {
   "cell_type": "code",
   "execution_count": 60,
   "metadata": {},
   "outputs": [
    {
     "data": {
      "text/plain": [
       "'I love to have     1000'"
      ]
     },
     "execution_count": 60,
     "metadata": {},
     "output_type": "execute_result"
    }
   ],
   "source": [
    "#2\n",
    "f'I love to have {1000:>8}'"
   ]
  },
  {
   "cell_type": "code",
   "execution_count": 66,
   "metadata": {},
   "outputs": [
    {
     "data": {
      "text/plain": [
       "'I ate 300GGGGG chocolate bars'"
      ]
     },
     "execution_count": 66,
     "metadata": {},
     "output_type": "execute_result"
    }
   ],
   "source": [
    "# Padding with nubers and or strings or other characters\n",
    "f'I ate {300:G<8} chocolate bars'"
   ]
  },
  {
   "cell_type": "code",
   "execution_count": 65,
   "metadata": {},
   "outputs": [
    {
     "data": {
      "text/plain": [
       "'I love to have $$$$1000'"
      ]
     },
     "execution_count": 65,
     "metadata": {},
     "output_type": "execute_result"
    }
   ],
   "source": [
    "f'I love to have {1000:$>8}'# padding"
   ]
  },
  {
   "cell_type": "code",
   "execution_count": 68,
   "metadata": {},
   "outputs": [
    {
     "data": {
      "text/plain": [
       "'I have ***34*** apples in my bag'"
      ]
     },
     "execution_count": 68,
     "metadata": {},
     "output_type": "execute_result"
    }
   ],
   "source": [
    "#3, padding\n",
    "f'I have {34:*^8} apples in my bag'"
   ]
  },
  {
   "cell_type": "code",
   "execution_count": 70,
   "metadata": {},
   "outputs": [
    {
     "data": {
      "text/plain": [
       "'It was -  4degress outside'"
      ]
     },
     "execution_count": 70,
     "metadata": {},
     "output_type": "execute_result"
    }
   ],
   "source": [
    "#4\n",
    "f'It was {-4:=4}degress outside'"
   ]
  },
  {
   "cell_type": "code",
   "execution_count": 73,
   "metadata": {},
   "outputs": [
    {
     "data": {
      "text/plain": [
       "'It was -**4 degress outside'"
      ]
     },
     "execution_count": 73,
     "metadata": {},
     "output_type": "execute_result"
    }
   ],
   "source": [
    "f'It was {-4:*=4} degress outside'#padding"
   ]
  },
  {
   "cell_type": "code",
   "execution_count": 75,
   "metadata": {},
   "outputs": [
    {
     "data": {
      "text/plain": [
       "'The temp was bwtween +7 and -40 degress'"
      ]
     },
     "execution_count": 75,
     "metadata": {},
     "output_type": "execute_result"
    }
   ],
   "source": [
    "#5\n",
    "sentence = f'The temp was bwtween {7:+} and {-40:+} degress'\n",
    "sentence"
   ]
  },
  {
   "cell_type": "code",
   "execution_count": 76,
   "metadata": {},
   "outputs": [
    {
     "data": {
      "text/plain": [
       "'The temp was bwtween 7 and -40 degress'"
      ]
     },
     "execution_count": 76,
     "metadata": {},
     "output_type": "execute_result"
    }
   ],
   "source": [
    "#6\n",
    "sentence = f'The temp was bwtween {7:-} and {-40:-} degress'\n",
    "sentence"
   ]
  },
  {
   "cell_type": "code",
   "execution_count": 77,
   "metadata": {},
   "outputs": [
    {
     "data": {
      "text/plain": [
       "'This is one thousand dollars and three hundrend dollars in f-strig format: 1,300'"
      ]
     },
     "execution_count": 77,
     "metadata": {},
     "output_type": "execute_result"
    }
   ],
   "source": [
    "#7\n",
    "f'This is one thousand dollars and three hundrend dollars in f-strig format: {1300:,}'"
   ]
  },
  {
   "cell_type": "code",
   "execution_count": 79,
   "metadata": {},
   "outputs": [
    {
     "data": {
      "text/plain": [
       "'This is another way of having 400 million and 58 thousand and 135 dollars: 400_058_135'"
      ]
     },
     "execution_count": 79,
     "metadata": {},
     "output_type": "execute_result"
    }
   ],
   "source": [
    "#8\n",
    "f'This is another way of having 400 million and 58 thousand and 135 dollars: {400058135:_}'"
   ]
  },
  {
   "cell_type": "code",
   "execution_count": 80,
   "metadata": {},
   "outputs": [
    {
     "data": {
      "text/plain": [
       "'+3.141593'"
      ]
     },
     "execution_count": 80,
     "metadata": {},
     "output_type": "execute_result"
    }
   ],
   "source": [
    "#9\n",
    "f'{3.1415926:+.6f}'"
   ]
  },
  {
   "cell_type": "code",
   "execution_count": 82,
   "metadata": {},
   "outputs": [
    {
     "data": {
      "text/plain": [
       "'4'"
      ]
     },
     "execution_count": 82,
     "metadata": {},
     "output_type": "execute_result"
    }
   ],
   "source": [
    "f'{3.987:-.0f}'"
   ]
  },
  {
   "cell_type": "code",
   "execution_count": 87,
   "metadata": {},
   "outputs": [
    {
     "data": {
      "text/plain": [
       "'+1.5152'"
      ]
     },
     "execution_count": 87,
     "metadata": {},
     "output_type": "execute_result"
    }
   ],
   "source": [
    "f'{100/66:+.4f}' #classic devision"
   ]
  },
  {
   "cell_type": "code",
   "execution_count": 88,
   "metadata": {},
   "outputs": [
    {
     "data": {
      "text/plain": [
       "'+2'"
      ]
     },
     "execution_count": 88,
     "metadata": {},
     "output_type": "execute_result"
    }
   ],
   "source": [
    "f'{100/66:+.0f}' #classic devision"
   ]
  },
  {
   "cell_type": "code",
   "execution_count": 99,
   "metadata": {},
   "outputs": [
    {
     "data": {
      "text/plain": [
       "'43.478261%'"
      ]
     },
     "execution_count": 99,
     "metadata": {},
     "output_type": "execute_result"
    }
   ],
   "source": [
    "#10\n",
    "i = f'{20/46:%}'\n",
    "i"
   ]
  },
  {
   "cell_type": "code",
   "execution_count": 101,
   "metadata": {},
   "outputs": [
    {
     "data": {
      "text/plain": [
       "'43.48%'"
      ]
     },
     "execution_count": 101,
     "metadata": {},
     "output_type": "execute_result"
    }
   ],
   "source": [
    "i = f'{20/46:.2%}'\n",
    "i"
   ]
  },
  {
   "cell_type": "code",
   "execution_count": 103,
   "metadata": {},
   "outputs": [
    {
     "name": "stdout",
     "output_type": "stream",
     "text": [
      "3.142\n"
     ]
    }
   ],
   "source": [
    "# Example 4: format(), rounding\n",
    "pi = 3.1415926\n",
    "precision = 3\n",
    "print('{:.{}f}'.format(pi,precision))"
   ]
  },
  {
   "cell_type": "code",
   "execution_count": 107,
   "metadata": {},
   "outputs": [
    {
     "data": {
      "text/plain": [
       "'Cats and dogs living together'"
      ]
     },
     "execution_count": 107,
     "metadata": {},
     "output_type": "execute_result"
    }
   ],
   "source": [
    "# Example4: %s(old) vs format()(new)\n",
    "s1 = 'dogs'\n",
    "s2 = 'cats'\n",
    "s3 = '%s and %s living together'%(s2.title(),s1)#old\n",
    "s3"
   ]
  },
  {
   "cell_type": "code",
   "execution_count": 109,
   "metadata": {},
   "outputs": [
    {
     "data": {
      "text/plain": [
       "'Dogs and cats living together'"
      ]
     },
     "execution_count": 109,
     "metadata": {},
     "output_type": "execute_result"
    }
   ],
   "source": [
    "s4 = '{} and {} living together'.format(s1.title(),s2)#new\n",
    "s4"
   ]
  },
  {
   "cell_type": "code",
   "execution_count": 112,
   "metadata": {},
   "outputs": [
    {
     "data": {
      "text/plain": [
       "'My email address is ruthovuike@gmail.com'"
      ]
     },
     "execution_count": 112,
     "metadata": {},
     "output_type": "execute_result"
    }
   ],
   "source": [
    "#Example 4: Use format as a function\n",
    "emailinfo = 'My email address is {email}'.format\n",
    "emailinfo(email='ruthovuike@gmail.com')"
   ]
  },
  {
   "cell_type": "code",
   "execution_count": 114,
   "metadata": {},
   "outputs": [
    {
     "data": {
      "text/plain": [
       "'900,234,567'"
      ]
     },
     "execution_count": 114,
     "metadata": {},
     "output_type": "execute_result"
    }
   ],
   "source": [
    "# set user preferred format\n",
    "numformat = '{:,}'.format\n",
    "# use elsewhere\n",
    "numformat(900234567)"
   ]
  },
  {
   "cell_type": "code",
   "execution_count": 118,
   "metadata": {},
   "outputs": [
    {
     "data": {
      "text/plain": [
       "'6.6667'"
      ]
     },
     "execution_count": 118,
     "metadata": {},
     "output_type": "execute_result"
    }
   ],
   "source": [
    "numformat = '{:.4f}'.format\n",
    "numformat(20/3)"
   ]
  },
  {
   "cell_type": "code",
   "execution_count": 120,
   "metadata": {},
   "outputs": [
    {
     "data": {
      "text/plain": [
       "'GGGGGGG2'"
      ]
     },
     "execution_count": 120,
     "metadata": {},
     "output_type": "execute_result"
    }
   ],
   "source": [
    "numformat = '{:G>8}'.format\n",
    "numformat(2)"
   ]
  },
  {
   "cell_type": "code",
   "execution_count": 121,
   "metadata": {},
   "outputs": [
    {
     "name": "stdout",
     "output_type": "stream",
     "text": [
      "The empty set is normally represnted by {0}\n"
     ]
    }
   ],
   "source": [
    "print('The {} set is normally represnted by {{0}}'.format('empty'))"
   ]
  },
  {
   "cell_type": "code",
   "execution_count": 122,
   "metadata": {},
   "outputs": [
    {
     "data": {
      "text/plain": [
       "'The empty set is normally represnted by {0}'"
      ]
     },
     "execution_count": 122,
     "metadata": {},
     "output_type": "execute_result"
    }
   ],
   "source": [
    "word = 'empty'\n",
    "f'The {word} set is normally represnted by {{0}}'"
   ]
  },
  {
   "cell_type": "code",
   "execution_count": 19,
   "metadata": {},
   "outputs": [
    {
     "name": "stdout",
     "output_type": "stream",
     "text": [
      "this is amazing    and cool\n"
     ]
    }
   ],
   "source": [
    "#11\n",
    "print(\"This is {:10} and cool\".format('amazing'))#strings move to the left"
   ]
  },
  {
   "cell_type": "code",
   "execution_count": 20,
   "metadata": {},
   "outputs": [
    {
     "name": "stdout",
     "output_type": "stream",
     "text": [
      "There is 11         apples\n"
     ]
    }
   ],
   "source": [
    "print(\"There is {:10} apples\".format('11'))#strings move to the left"
   ]
  },
  {
   "cell_type": "code",
   "execution_count": 21,
   "metadata": {},
   "outputs": [
    {
     "name": "stdout",
     "output_type": "stream",
     "text": [
      "There is         11 apples\n"
     ]
    }
   ],
   "source": [
    "print(\"There is {:10} apples\".format(11))#integers move to the right"
   ]
  },
  {
   "cell_type": "code",
   "execution_count": 32,
   "metadata": {},
   "outputs": [
    {
     "name": "stdout",
     "output_type": "stream",
     "text": [
      "| Mary   | 44 | New York     | Doctor       |\n",
      "| Alex   | 65 | New Jersey   | Buisness Man |\n",
      "| Peter  | 21 | Los Angeles  | Chief        |\n",
      "| Lily   | 33 | Florida      | Swimmer      |\n"
     ]
    }
   ],
   "source": [
    "info =[\n",
    "    ['Mary', 44 ,'New York','Doctor'],\n",
    "    ['Alex', 65 ,'New Jersey','Buisness Man'],\n",
    "    ['Peter',21 ,'Los Angeles','Chief'],\n",
    "    ['Lily', 33, 'Florida', 'Swimmer'],\n",
    "]\n",
    "row = \"| {name:6} | {age:2} | {city:12} | {work:12} |\".format\n",
    "for i in info:\n",
    "    print(row(name=i[0], age=i[1], city=i[2], work=i[3]))"
   ]
  },
  {
   "cell_type": "code",
   "execution_count": 38,
   "metadata": {},
   "outputs": [
    {
     "data": {
      "text/plain": [
       "'26 muliplied by it self is: 676'"
      ]
     },
     "execution_count": 38,
     "metadata": {},
     "output_type": "execute_result"
    }
   ],
   "source": [
    "# Example 5, Any inner curly braces as placeholders in a f-string are Python run-time !!!\n",
    "def multiply(num):\n",
    "      return num*num\n",
    "f'26 muliplied by it self is: {multiply(26)}'"
   ]
  },
  {
   "cell_type": "code",
   "execution_count": 5,
   "metadata": {},
   "outputs": [
    {
     "name": "stdout",
     "output_type": "stream",
     "text": [
      "I have 3 missed calls, 4 missed messages, I made 5 calls and 6 messages\n"
     ]
    }
   ],
   "source": [
    "#10 format_map()\n",
    "def phoneinfo(a,b,c,d):\n",
    "    f = {'missedcalls': a, 'missedmesg':b, 'callsmade': c, 'mesgmade':d}\n",
    "    print('I have {missedcalls} missed calls, {missedmesg} missed messages, I made {callsmade} calls and {mesgmade} messages'.format_map(f))\n",
    "phoneinfo(3,4,5,6)"
   ]
  },
  {
   "cell_type": "code",
   "execution_count": 10,
   "metadata": {},
   "outputs": [
    {
     "data": {
      "text/plain": [
       "2"
      ]
     },
     "execution_count": 10,
     "metadata": {},
     "output_type": "execute_result"
    }
   ],
   "source": [
    "#11 method finds the first occurrence of the specified value\n",
    "word = 'Ruth Ovuike'\n",
    "word.index('th O',0,6)"
   ]
  },
  {
   "cell_type": "code",
   "execution_count": 11,
   "metadata": {},
   "outputs": [
    {
     "data": {
      "text/plain": [
       "-1"
      ]
     },
     "execution_count": 11,
     "metadata": {},
     "output_type": "execute_result"
    }
   ],
   "source": [
    "# Index() vs Find() vs In\n",
    "# find() method returns -1 if the value is not found\n",
    "# In returns false if the value is not find but dosnet give you position index\n",
    "# Index returns a error which breaks your code\n",
    "word.find('z')"
   ]
  },
  {
   "cell_type": "code",
   "execution_count": 12,
   "metadata": {},
   "outputs": [
    {
     "data": {
      "text/plain": [
       "False"
      ]
     },
     "execution_count": 12,
     "metadata": {},
     "output_type": "execute_result"
    }
   ],
   "source": [
    "'z'in word"
   ]
  },
  {
   "cell_type": "code",
   "execution_count": 13,
   "metadata": {},
   "outputs": [
    {
     "data": {
      "text/plain": [
       "False"
      ]
     },
     "execution_count": 13,
     "metadata": {},
     "output_type": "execute_result"
    }
   ],
   "source": [
    "#12 - #22\n",
    "#12 isalnum(),returns True if all the characters are alphanumeric, meaning alphabet letter (a-z) and numbers (0-9), no spaces or !@#$%\n",
    "word = 'Ruth Ovuike'\n",
    "word.isalnum()"
   ]
  },
  {
   "cell_type": "code",
   "execution_count": 17,
   "metadata": {},
   "outputs": [
    {
     "data": {
      "text/plain": [
       "True"
      ]
     },
     "execution_count": 17,
     "metadata": {},
     "output_type": "execute_result"
    }
   ],
   "source": [
    "word = '20'\n",
    "word.isalnum()"
   ]
  },
  {
   "cell_type": "code",
   "execution_count": 18,
   "metadata": {},
   "outputs": [
    {
     "data": {
      "text/plain": [
       "False"
      ]
     },
     "execution_count": 18,
     "metadata": {},
     "output_type": "execute_result"
    }
   ],
   "source": [
    "#13 isalpha() method returns True if all the characters are alphabet letters (a-z)\n",
    "num = '12'\n",
    "num.isalpha()"
   ]
  },
  {
   "cell_type": "code",
   "execution_count": 19,
   "metadata": {},
   "outputs": [
    {
     "data": {
      "text/plain": [
       "True"
      ]
     },
     "execution_count": 19,
     "metadata": {},
     "output_type": "execute_result"
    }
   ],
   "source": [
    "#15 isdigit() method returns True if all the characters are digits, otherwise False\n",
    "'2345'.isdigit()"
   ]
  },
  {
   "cell_type": "code",
   "execution_count": 23,
   "metadata": {},
   "outputs": [
    {
     "data": {
      "text/plain": [
       "False"
      ]
     },
     "execution_count": 23,
     "metadata": {},
     "output_type": "execute_result"
    }
   ],
   "source": [
    "#16 isidentifier() method returns True if the string is a valid identifier\n",
    "#A string is considered a valid identifier if it only contains alphanumeric letters (a-z) and (0-9), or underscores (_)\n",
    "#Cannot start with a number, or contain any spaces.\n",
    "txt = 'Ruth Smith'\n",
    "txt.isidentifier()"
   ]
  },
  {
   "cell_type": "code",
   "execution_count": 24,
   "metadata": {},
   "outputs": [
    {
     "data": {
      "text/plain": [
       "False"
      ]
     },
     "execution_count": 24,
     "metadata": {},
     "output_type": "execute_result"
    }
   ],
   "source": [
    "'2Ruth'.isidentifier()"
   ]
  },
  {
   "cell_type": "code",
   "execution_count": 26,
   "metadata": {},
   "outputs": [
    {
     "data": {
      "text/plain": [
       "False"
      ]
     },
     "execution_count": 26,
     "metadata": {},
     "output_type": "execute_result"
    }
   ],
   "source": [
    "#17 islower() method returns True if all the characters are in lower case, otherwise False\n",
    "'Kenny'.islower()"
   ]
  },
  {
   "cell_type": "code",
   "execution_count": 27,
   "metadata": {},
   "outputs": [
    {
     "data": {
      "text/plain": [
       "False"
      ]
     },
     "execution_count": 27,
     "metadata": {},
     "output_type": "execute_result"
    }
   ],
   "source": [
    "'123'.islower()"
   ]
  },
  {
   "cell_type": "code",
   "execution_count": 28,
   "metadata": {},
   "outputs": [
    {
     "data": {
      "text/plain": [
       "True"
      ]
     },
     "execution_count": 28,
     "metadata": {},
     "output_type": "execute_result"
    }
   ],
   "source": [
    "'ruth20'.islower()"
   ]
  },
  {
   "cell_type": "code",
   "execution_count": 30,
   "metadata": {},
   "outputs": [
    {
     "data": {
      "text/plain": [
       "True"
      ]
     },
     "execution_count": 30,
     "metadata": {},
     "output_type": "execute_result"
    }
   ],
   "source": [
    "#18 isnumeric() Check if all the characters in the text are numeric\n",
    "#Exponents, like ² and ¾ are also considered to be numeric values.\n",
    "'345672'.isnumeric()"
   ]
  },
  {
   "cell_type": "code",
   "execution_count": 31,
   "metadata": {},
   "outputs": [
    {
     "data": {
      "text/plain": [
       "False"
      ]
     },
     "execution_count": 31,
     "metadata": {},
     "output_type": "execute_result"
    }
   ],
   "source": [
    "#19 isprintable() method returns True if all the characters are printable, otherwise False\n",
    "#none printable character can be carriage return and line feed\n",
    "'my\\tname\\tis\\tlilly'.isprintable()"
   ]
  },
  {
   "cell_type": "code",
   "execution_count": 32,
   "metadata": {},
   "outputs": [
    {
     "data": {
      "text/plain": [
       "True"
      ]
     },
     "execution_count": 32,
     "metadata": {},
     "output_type": "execute_result"
    }
   ],
   "source": [
    "#20 isspace() method returns True if all the characters in a string are whitespaces, otherwise False\n",
    "' '.isspace()"
   ]
  },
  {
   "cell_type": "code",
   "execution_count": 33,
   "metadata": {},
   "outputs": [
    {
     "data": {
      "text/plain": [
       "False"
      ]
     },
     "execution_count": 33,
     "metadata": {},
     "output_type": "execute_result"
    }
   ],
   "source": [
    "'jack'.isspace()"
   ]
  },
  {
   "cell_type": "code",
   "execution_count": 34,
   "metadata": {},
   "outputs": [
    {
     "data": {
      "text/plain": [
       "True"
      ]
     },
     "execution_count": 34,
     "metadata": {},
     "output_type": "execute_result"
    }
   ],
   "source": [
    "#21 The istitle() method returns True if all words in a text start with a upper case letter\n",
    "#AND the rest of the word are lower case letters, otherwise False.\n",
    "'Ruth Ovuike'.istitle()"
   ]
  },
  {
   "cell_type": "code",
   "execution_count": 35,
   "metadata": {},
   "outputs": [
    {
     "data": {
      "text/plain": [
       "False"
      ]
     },
     "execution_count": 35,
     "metadata": {},
     "output_type": "execute_result"
    }
   ],
   "source": [
    "'Jack smith'.istitle()"
   ]
  },
  {
   "cell_type": "code",
   "execution_count": 36,
   "metadata": {},
   "outputs": [
    {
     "data": {
      "text/plain": [
       "True"
      ]
     },
     "execution_count": 36,
     "metadata": {},
     "output_type": "execute_result"
    }
   ],
   "source": [
    "#22 isupper() method returns True if all the characters are in upper case, otherwise False\n",
    "'RUTH'.isupper()"
   ]
  },
  {
   "cell_type": "code",
   "execution_count": 37,
   "metadata": {},
   "outputs": [
    {
     "data": {
      "text/plain": [
       "False"
      ]
     },
     "execution_count": 37,
     "metadata": {},
     "output_type": "execute_result"
    }
   ],
   "source": [
    "'LilLy'.isupper()"
   ]
  },
  {
   "cell_type": "code",
   "execution_count": 6,
   "metadata": {},
   "outputs": [
    {
     "data": {
      "text/plain": [
       "'a,c,d'"
      ]
     },
     "execution_count": 6,
     "metadata": {},
     "output_type": "execute_result"
    }
   ],
   "source": [
    "#23 The join() method takes all items in an iterable and joins them into one string\n",
    "a = ','\n",
    "a.join('acd')"
   ]
  },
  {
   "cell_type": "code",
   "execution_count": 7,
   "metadata": {},
   "outputs": [
    {
     "data": {
      "text/plain": [
       "'acd'"
      ]
     },
     "execution_count": 7,
     "metadata": {},
     "output_type": "execute_result"
    }
   ],
   "source": [
    "a = ''\n",
    "a.join(('a','c','d'))"
   ]
  },
  {
   "cell_type": "code",
   "execution_count": 9,
   "metadata": {},
   "outputs": [
    {
     "data": {
      "text/plain": [
       "'d,e,f'"
      ]
     },
     "execution_count": 9,
     "metadata": {},
     "output_type": "execute_result"
    }
   ],
   "source": [
    "mytuple = ('d','e','f')\n",
    "x = ','.join(mytuple)\n",
    "x"
   ]
  },
  {
   "cell_type": "code",
   "execution_count": 10,
   "metadata": {},
   "outputs": [
    {
     "data": {
      "text/plain": [
       "'ApplePie'"
      ]
     },
     "execution_count": 10,
     "metadata": {},
     "output_type": "execute_result"
    }
   ],
   "source": [
    "x = ('Apple','Pie')\n",
    "z = ''\n",
    "z.join(x)"
   ]
  },
  {
   "cell_type": "code",
   "execution_count": 13,
   "metadata": {},
   "outputs": [
    {
     "data": {
      "text/plain": [
       "'Ruth!!!!!!!!!!!!!!!!!!!!!!!!!!'"
      ]
     },
     "execution_count": 13,
     "metadata": {},
     "output_type": "execute_result"
    }
   ],
   "source": [
    "#24 The ljust() method will left align the string, using a specified character (space is default) as the fill character.\n",
    "z = 'Ruth'\n",
    "z.ljust(30,'!')"
   ]
  },
  {
   "cell_type": "code",
   "execution_count": 16,
   "metadata": {},
   "outputs": [
    {
     "name": "stdout",
     "output_type": "stream",
     "text": [
      "Apple!!!!! is my fav fruit\n"
     ]
    }
   ],
   "source": [
    "z = 'Apple'\n",
    "x = z.ljust(10,'!')\n",
    "print(x, 'is my fav fruit')"
   ]
  },
  {
   "cell_type": "code",
   "execution_count": 17,
   "metadata": {},
   "outputs": [
    {
     "data": {
      "text/plain": [
       "'ruth'"
      ]
     },
     "execution_count": 17,
     "metadata": {},
     "output_type": "execute_result"
    }
   ],
   "source": [
    "#25 lower() method returns a string where all characters are lower case\n",
    "x = 'RUTH'\n",
    "x.lower()"
   ]
  },
  {
   "cell_type": "code",
   "execution_count": 18,
   "metadata": {},
   "outputs": [
    {
     "data": {
      "text/plain": [
       "'ohhhhh'"
      ]
     },
     "execution_count": 18,
     "metadata": {},
     "output_type": "execute_result"
    }
   ],
   "source": [
    "'OHHHHH'.lower()"
   ]
  },
  {
   "cell_type": "code",
   "execution_count": 27,
   "metadata": {},
   "outputs": [
    {
     "data": {
      "text/plain": [
       "'chocolate     '"
      ]
     },
     "execution_count": 27,
     "metadata": {},
     "output_type": "execute_result"
    }
   ],
   "source": [
    "#27 lstrip() method removes any leading characters (space is the default leading character to remove)\n",
    "x = '           chocolate     '.lstrip()\n",
    "x"
   ]
  },
  {
   "cell_type": "code",
   "execution_count": 29,
   "metadata": {},
   "outputs": [
    {
     "data": {
      "text/plain": [
       "'!!!!!!.....Ruth'"
      ]
     },
     "execution_count": 29,
     "metadata": {},
     "output_type": "execute_result"
    }
   ],
   "source": [
    "x= ',,,,,!!!!!!.....Ruth'.lstrip(',.')\n",
    "x"
   ]
  },
  {
   "cell_type": "code",
   "execution_count": 30,
   "metadata": {},
   "outputs": [
    {
     "data": {
      "text/plain": [
       "'.....Ruth'"
      ]
     },
     "execution_count": 30,
     "metadata": {},
     "output_type": "execute_result"
    }
   ],
   "source": [
    "x= ',,,,,!!!!!!.....Ruth'.lstrip(',!')\n",
    "x"
   ]
  },
  {
   "cell_type": "code",
   "execution_count": null,
   "metadata": {},
   "outputs": [],
   "source": [
    "#27 Maketrans() = The maketrans() method returns a mapping table for translation usable for translate() method\n",
    "# str.maketrans(x(first item you wanna change),y(second itrm you wanna change),z(what you wanna delete)\n",
    "#28 Translate() = Method returns a string where each character is mapped to its corresponding character in the translation table\n",
    "# vari.translate.(table)\n",
    "#29 Replace() = replaces a specified phrase with another specified phrase, string.replace(oldvalue, newvalue, count)"
   ]
  },
  {
   "cell_type": "code",
   "execution_count": 35,
   "metadata": {},
   "outputs": [
    {
     "data": {
      "text/plain": [
       "{97: 122, 100: 99, 102: 111, 103: None, 104: None, 105: None, 107: None}"
      ]
     },
     "execution_count": 35,
     "metadata": {},
     "output_type": "execute_result"
    }
   ],
   "source": [
    "#27 & 28\n",
    "x = str.maketrans('adf','zco','ghik') # 'ghik' are going to be delete\n",
    "x"
   ]
  },
  {
   "cell_type": "code",
   "execution_count": 36,
   "metadata": {},
   "outputs": [
    {
     "data": {
      "text/plain": [
       "'zbcceojlmnoprstuvwxyzzbcceojlmnoprstuvwxyzzbcceojlmnoprstuvwxyz'"
      ]
     },
     "execution_count": 36,
     "metadata": {},
     "output_type": "execute_result"
    }
   ],
   "source": [
    "'abcdefghijklmnopkrstuvwxyzabcdefghijklmnopkrstuvwxyzabcdefghijklmnopkrstuvwxyz'.translate(x)"
   ]
  },
  {
   "cell_type": "code",
   "execution_count": 37,
   "metadata": {},
   "outputs": [
    {
     "data": {
      "text/plain": [
       "{114: 'h', 103: 'l', 105: 'o', 107: None, 97: None, 98: None}"
      ]
     },
     "execution_count": 37,
     "metadata": {},
     "output_type": "execute_result"
    }
   ],
   "source": [
    "z = str.maketrans({'r':'h','g':'l','i':'o','k':None, 'a':None, 'b':None})\n",
    "z"
   ]
  },
  {
   "cell_type": "code",
   "execution_count": 38,
   "metadata": {},
   "outputs": [
    {
     "data": {
      "text/plain": [
       "'Ilove my self nd evehyone hound me'"
      ]
     },
     "execution_count": 38,
     "metadata": {},
     "output_type": "execute_result"
    }
   ],
   "source": [
    "txt = 'Ilove my self and everyone around me'\n",
    "txt.translate(z)"
   ]
  },
  {
   "cell_type": "code",
   "execution_count": 41,
   "metadata": {},
   "outputs": [
    {
     "data": {
      "text/plain": [
       "'eeedefghijklmnopkrstuvwxyzeeedefghijklmnopkrstuvwxyzeeedefghijklmnopkrstuvwxyz'"
      ]
     },
     "execution_count": 41,
     "metadata": {},
     "output_type": "execute_result"
    }
   ],
   "source": [
    "#29\n",
    "x = 'abcdefghijklmnopkrstuvwxyzabcdefghijklmnopkrstuvwxyzabcdefghijklmnopkrstuvwxyz'\n",
    "x.replace('a','b').replace('b','c').replace('c','e')"
   ]
  },
  {
   "cell_type": "code",
   "execution_count": 42,
   "metadata": {},
   "outputs": [
    {
     "data": {
      "text/plain": [
       "'000defghijklmnopkrstuvwxyz000defghijklmnopkrstuvwxyzabcdefghijklmnopkrstuvwxyz'"
      ]
     },
     "execution_count": 42,
     "metadata": {},
     "output_type": "execute_result"
    }
   ],
   "source": [
    "x.replace('abc','000',2) #include the 2"
   ]
  },
  {
   "cell_type": "code",
   "execution_count": 43,
   "metadata": {},
   "outputs": [],
   "source": [
    "#30 Partition() = method searches for a specified string, and splits the string into a tuple containing three elements\n",
    "#  first element contains the part before the specified string.\n",
    "#  second element contains the specified string.\n",
    "#  third element contains the part after the string.\n",
    "# string.partition(value)\n",
    "#31 Split() = splits a string into a list, string.split(separator, maxsplit)\n",
    "#32 Rpartition() = same thing as partition, however starts from the right\n",
    "#33 Rsplit() = method splits a string into a list, starting from the right, string.split(separator, maxsplit)\n",
    "#34 splitlines() = splits a string into a list , the splitting is done at line breaks\n",
    "#   string.splitlines(keeplinebreaks), line breaks should be included (True), or not (False), default value is (False)"
   ]
  },
  {
   "cell_type": "code",
   "execution_count": 44,
   "metadata": {},
   "outputs": [
    {
     "data": {
      "text/plain": [
       "['first',\n",
       " 'element',\n",
       " 'contains',\n",
       " 'the',\n",
       " 'part',\n",
       " 'before',\n",
       " 'the',\n",
       " 'specified',\n",
       " 'string']"
      ]
     },
     "execution_count": 44,
     "metadata": {},
     "output_type": "execute_result"
    }
   ],
   "source": [
    "#31\n",
    "txt = 'first element contains the part before the specified string'\n",
    "txt.split()"
   ]
  },
  {
   "cell_type": "code",
   "execution_count": 45,
   "metadata": {},
   "outputs": [
    {
     "data": {
      "text/plain": [
       "['first element contains', ' the part before the specified string']"
      ]
     },
     "execution_count": 45,
     "metadata": {},
     "output_type": "execute_result"
    }
   ],
   "source": [
    "txt = 'first element contains, the part before the specified string'\n",
    "txt.split(',')"
   ]
  },
  {
   "cell_type": "code",
   "execution_count": 47,
   "metadata": {},
   "outputs": [
    {
     "data": {
      "text/plain": [
       "['first element ', ' contains the ', ' part before # the specified string']"
      ]
     },
     "execution_count": 47,
     "metadata": {},
     "output_type": "execute_result"
    }
   ],
   "source": [
    "txt = 'first element # contains the # part before # the specified string'\n",
    "txt.split('#',2)"
   ]
  },
  {
   "cell_type": "code",
   "execution_count": 48,
   "metadata": {},
   "outputs": [
    {
     "data": {
      "text/plain": [
       "['second', 'element', 'contains', 'the', 'specified', 'string']"
      ]
     },
     "execution_count": 48,
     "metadata": {},
     "output_type": "execute_result"
    }
   ],
   "source": [
    "#33 same thing as split(), but just starts from the right\n",
    "'second element contains the specified string'.rsplit()"
   ]
  },
  {
   "cell_type": "code",
   "execution_count": 49,
   "metadata": {},
   "outputs": [
    {
     "data": {
      "text/plain": [
       "['second-element', 'contains', 'the', 'specified', 'string']"
      ]
     },
     "execution_count": 49,
     "metadata": {},
     "output_type": "execute_result"
    }
   ],
   "source": [
    "'second-element-contains-the-specified-string'.rsplit('-',4)"
   ]
  },
  {
   "cell_type": "code",
   "execution_count": 51,
   "metadata": {},
   "outputs": [
    {
     "data": {
      "text/plain": [
       "['first\\n',\n",
       " ' element contains\\n',\n",
       " ' the part before the specified\\n',\n",
       " 'string']"
      ]
     },
     "execution_count": 51,
     "metadata": {},
     "output_type": "execute_result"
    }
   ],
   "source": [
    "#34\n",
    "txt = 'first\\n element contains\\n the part before the specified\\nstring'\n",
    "txt.splitlines(True)"
   ]
  },
  {
   "cell_type": "code",
   "execution_count": 52,
   "metadata": {},
   "outputs": [
    {
     "data": {
      "text/plain": [
       "['first', ' element contains', ' the part before the specified', 'string']"
      ]
     },
     "execution_count": 52,
     "metadata": {},
     "output_type": "execute_result"
    }
   ],
   "source": [
    "txt = 'first\\n element contains\\n the part before the specified\\nstring'\n",
    "txt.splitlines(False)"
   ]
  },
  {
   "cell_type": "code",
   "execution_count": 53,
   "metadata": {},
   "outputs": [
    {
     "data": {
      "text/plain": [
       "('second element contains ', 'the', ' specified string')"
      ]
     },
     "execution_count": 53,
     "metadata": {},
     "output_type": "execute_result"
    }
   ],
   "source": [
    "#30 \n",
    "'second element contains the specified string'.partition('the')"
   ]
  },
  {
   "cell_type": "code",
   "execution_count": 54,
   "metadata": {},
   "outputs": [
    {
     "data": {
      "text/plain": [
       "('', 'second', ' element contains the specified string')"
      ]
     },
     "execution_count": 54,
     "metadata": {},
     "output_type": "execute_result"
    }
   ],
   "source": [
    "'second element contains the specified string'.partition('second')"
   ]
  },
  {
   "cell_type": "code",
   "execution_count": 57,
   "metadata": {},
   "outputs": [
    {
     "data": {
      "text/plain": [
       "('second', ',', 'element,contains,the,specified,string')"
      ]
     },
     "execution_count": 57,
     "metadata": {},
     "output_type": "execute_result"
    }
   ],
   "source": [
    "'second,element,contains,the,specified,string'.partition(',')"
   ]
  },
  {
   "cell_type": "code",
   "execution_count": 59,
   "metadata": {},
   "outputs": [
    {
     "data": {
      "text/plain": [
       "('second element contains the specified ', 'string', '')"
      ]
     },
     "execution_count": 59,
     "metadata": {},
     "output_type": "execute_result"
    }
   ],
   "source": [
    "#32\n",
    "'second element contains the specified string'.rpartition('string')"
   ]
  },
  {
   "cell_type": "code",
   "execution_count": 61,
   "metadata": {},
   "outputs": [
    {
     "data": {
      "text/plain": [
       "('second,element,contains,the,specified', ',', 'string')"
      ]
     },
     "execution_count": 61,
     "metadata": {},
     "output_type": "execute_result"
    }
   ],
   "source": [
    "'second,element,contains,the,specified,string'.rpartition(',')"
   ]
  },
  {
   "cell_type": "code",
   "execution_count": 62,
   "metadata": {},
   "outputs": [
    {
     "data": {
      "text/plain": [
       "'helloaaaaaaaahellloaaaaaaaa'"
      ]
     },
     "execution_count": 62,
     "metadata": {},
     "output_type": "execute_result"
    }
   ],
   "source": [
    "#26,38,39\n",
    "x = 'aaaaaaahelloaaaaaaaahellloaaaaaaaa'\n",
    "x.lstrip('a')"
   ]
  },
  {
   "cell_type": "code",
   "execution_count": 63,
   "metadata": {},
   "outputs": [
    {
     "data": {
      "text/plain": [
       "'aaaaaaahelloaaaaaaaahelllo'"
      ]
     },
     "execution_count": 63,
     "metadata": {},
     "output_type": "execute_result"
    }
   ],
   "source": [
    "x.rstrip('a')"
   ]
  },
  {
   "cell_type": "code",
   "execution_count": 64,
   "metadata": {},
   "outputs": [
    {
     "data": {
      "text/plain": [
       "'helloaaaaaaaahelllo'"
      ]
     },
     "execution_count": 64,
     "metadata": {},
     "output_type": "execute_result"
    }
   ],
   "source": [
    "x.strip('a')#it starts from the left and it sees that h wasnt mention and stops and goes to the right and stops when its sees o"
   ]
  },
  {
   "cell_type": "code",
   "execution_count": 65,
   "metadata": {},
   "outputs": [
    {
     "data": {
      "text/plain": [
       "'I love eating banna and apples!!'"
      ]
     },
     "execution_count": 65,
     "metadata": {},
     "output_type": "execute_result"
    }
   ],
   "source": [
    "word = '     banna     '\n",
    "x = word.strip()\n",
    "f'I love eating {x} and apples!!'"
   ]
  },
  {
   "cell_type": "code",
   "execution_count": 67,
   "metadata": {},
   "outputs": [
    {
     "name": "stdout",
     "output_type": "stream",
     "text": [
      "I love painting and singing!\n"
     ]
    }
   ],
   "source": [
    "word = 'paintinglllllllllll'\n",
    "x = word.rstrip('l')\n",
    "print('I love', x, 'and singing!')"
   ]
  },
  {
   "cell_type": "code",
   "execution_count": 70,
   "metadata": {},
   "outputs": [
    {
     "data": {
      "text/plain": [
       "'rUTH iS aMAzING!'"
      ]
     },
     "execution_count": 70,
     "metadata": {},
     "output_type": "execute_result"
    }
   ],
   "source": [
    "#40\n",
    "'Ruth Is AmaZing!'.swapcase()"
   ]
  },
  {
   "cell_type": "code",
   "execution_count": 71,
   "metadata": {},
   "outputs": [
    {
     "data": {
      "text/plain": [
       "False"
      ]
     },
     "execution_count": 71,
     "metadata": {},
     "output_type": "execute_result"
    }
   ],
   "source": [
    "#41 string.startswith(value, start, end)\n",
    "'i am good at drawing'.startswith('I',0,1)"
   ]
  },
  {
   "cell_type": "code",
   "execution_count": 74,
   "metadata": {},
   "outputs": [
    {
     "data": {
      "text/plain": [
       "17"
      ]
     },
     "execution_count": 74,
     "metadata": {},
     "output_type": "execute_result"
    }
   ],
   "source": [
    "#42,43,44\n",
    "x = 'string.startswith(value, start, end)'.rfind('(')\n",
    "x"
   ]
  },
  {
   "cell_type": "code",
   "execution_count": 75,
   "metadata": {},
   "outputs": [
    {
     "data": {
      "text/plain": [
       "17"
      ]
     },
     "execution_count": 75,
     "metadata": {},
     "output_type": "execute_result"
    }
   ],
   "source": [
    "x = 'string.startswith(value, start, end)'.rindex('(')\n",
    "x"
   ]
  },
  {
   "cell_type": "code",
   "execution_count": 76,
   "metadata": {},
   "outputs": [
    {
     "data": {
      "text/plain": [
       "'eeeeeeeeeeeebannnnna'"
      ]
     },
     "execution_count": 76,
     "metadata": {},
     "output_type": "execute_result"
    }
   ],
   "source": [
    "x = 'bannnnna'\n",
    "word = x.rjust(20,'e')\n",
    "word"
   ]
  },
  {
   "cell_type": "code",
   "execution_count": 2,
   "metadata": {},
   "outputs": [
    {
     "data": {
      "text/plain": [
       "{'i': 2,\n",
       " 'l': 1,\n",
       " 'o': 5,\n",
       " 'v': 1,\n",
       " 'e': 4,\n",
       " 't': 3,\n",
       " 's': 3,\n",
       " 'w': 3,\n",
       " 'm': 2,\n",
       " 'a': 4,\n",
       " 'n': 5,\n",
       " 'd': 5,\n",
       " 'r': 1,\n",
       " 'c': 2,\n",
       " 'h': 1,\n",
       " 'u': 1}"
      ]
     },
     "execution_count": 2,
     "metadata": {},
     "output_type": "execute_result"
    }
   ],
   "source": [
    "def x(words):\n",
    "    f = {}\n",
    "    words= ''.join(words.split()) # or words= wors.replace(' ','')\n",
    "    for i in words:\n",
    "        x = f.keys()\n",
    "        if i in x:\n",
    "            f[i]+=1\n",
    "        else:\n",
    "            f[i] =1\n",
    "    return f\n",
    "x('i love to swim and draw and dance to the sun comes down')"
   ]
  },
  {
   "cell_type": "code",
   "execution_count": 2,
   "metadata": {},
   "outputs": [],
   "source": [
    "                                   #List\n",
    "# A list is a collection which is ordered and changeable. In Python lists are written with square brackets\n",
    "#   There are four collection data types in the Python programming language:\n",
    "'''\n",
    "*List is a collection which is ordered and changeable. Allows duplicate members.\n",
    "*Tuple is a collection which is ordered and unchangeable. Allows duplicate members.\n",
    "*Set is a collection which is unordered and unindexed. No duplicate members.\n",
    "*Dictionary is a collection which is unordered, changeable and indexed. No duplicate members.\n",
    "\n",
    "When choosing a collection type, it is useful to understand the properties of that type. \n",
    "Choosing the right type for a particular data set could mean retention of meaning, \n",
    "it could mean an increase in efficiency or security.\n",
    "'''"
   ]
  },
  {
   "cell_type": "code",
   "execution_count": 3,
   "metadata": {},
   "outputs": [
    {
     "data": {
      "text/plain": [
       "[1, 'apples', 20]"
      ]
     },
     "execution_count": 3,
     "metadata": {},
     "output_type": "execute_result"
    }
   ],
   "source": [
    "# The del keyword removes the specified index\n",
    "c= [1,'ruth','apples',20]\n",
    "del c[1]\n",
    "c"
   ]
  },
  {
   "cell_type": "code",
   "execution_count": 5,
   "metadata": {},
   "outputs": [
    {
     "data": {
      "text/plain": [
       "[1, 'apples', 'Happy Birthday']"
      ]
     },
     "execution_count": 5,
     "metadata": {},
     "output_type": "execute_result"
    }
   ],
   "source": [
    "# To change the value of a specific item, refer to the index number\n",
    "c[-1]='Happy Birthday'\n",
    "c"
   ]
  },
  {
   "cell_type": "code",
   "execution_count": 6,
   "metadata": {},
   "outputs": [
    {
     "data": {
      "text/plain": [
       "[1, 'apples', 'Happy Birthday']"
      ]
     },
     "execution_count": 6,
     "metadata": {},
     "output_type": "execute_result"
    }
   ],
   "source": [
    "# Make a copy of a list with the list() method \n",
    "new = list(c)\n",
    "new"
   ]
  },
  {
   "cell_type": "code",
   "execution_count": 7,
   "metadata": {},
   "outputs": [
    {
     "data": {
      "text/plain": [
       "[1, 'apples', 'Happy Birthday']"
      ]
     },
     "execution_count": 7,
     "metadata": {},
     "output_type": "execute_result"
    }
   ],
   "source": [
    "c[0]=8\n",
    "new"
   ]
  },
  {
   "cell_type": "code",
   "execution_count": 9,
   "metadata": {},
   "outputs": [
    {
     "data": {
      "text/plain": [
       "['Ruth', 'Amazing', 20]"
      ]
     },
     "execution_count": 9,
     "metadata": {},
     "output_type": "execute_result"
    }
   ],
   "source": [
    "# It is also possible to use the list() constructor to make a new list\n",
    "new2=list(('Ruth','Amazing',20))\n",
    "new2"
   ]
  },
  {
   "cell_type": "code",
   "execution_count": 31,
   "metadata": {},
   "outputs": [
    {
     "name": "stdout",
     "output_type": "stream",
     "text": [
      "[1, 2, 3, 4, 5] [6, 7, 8, 9] [1, 2, 3, 4, 5, 6, 7, 8, 9]\n"
     ]
    }
   ],
   "source": [
    "# join two list\n",
    "k,l,m=[1,2,3,4,5],[6,7,8,9],k+l\n",
    "#m= k+l\n",
    "print(k,l,m)"
   ]
  },
  {
   "cell_type": "code",
   "execution_count": 32,
   "metadata": {},
   "outputs": [
    {
     "data": {
      "text/plain": [
       "[9, 8, 3, 4, 5]"
      ]
     },
     "execution_count": 32,
     "metadata": {},
     "output_type": "execute_result"
    }
   ],
   "source": [
    "# replace some values\n",
    "k[:2]=[9,8]\n",
    "k"
   ]
  },
  {
   "cell_type": "code",
   "execution_count": 33,
   "metadata": {},
   "outputs": [
    {
     "data": {
      "text/plain": [
       "[3, 4, 5]"
      ]
     },
     "execution_count": 33,
     "metadata": {},
     "output_type": "execute_result"
    }
   ],
   "source": [
    "#remove\n",
    "k[:2]=[]\n",
    "k"
   ]
  },
  {
   "cell_type": "code",
   "execution_count": 34,
   "metadata": {},
   "outputs": [
    {
     "data": {
      "text/plain": [
       "[]"
      ]
     },
     "execution_count": 34,
     "metadata": {},
     "output_type": "execute_result"
    }
   ],
   "source": [
    "# clear the list by replacing all the elements with an empty list\n",
    "k[:]=[]\n",
    "k"
   ]
  },
  {
   "cell_type": "code",
   "execution_count": 43,
   "metadata": {},
   "outputs": [
    {
     "name": "stdout",
     "output_type": "stream",
     "text": [
      "[[1, 2, 3, 4], [5, 6, 7, 8]]\n"
     ]
    }
   ],
   "source": [
    "# nest lists (create lists containing other lists)\n",
    "k,l,m=[1,2,3,4],[5,6,7,8],[k,l]\n",
    "print(m)"
   ]
  },
  {
   "cell_type": "code",
   "execution_count": 44,
   "metadata": {},
   "outputs": [
    {
     "data": {
      "text/plain": [
       "[1, 2, 3, 4]"
      ]
     },
     "execution_count": 44,
     "metadata": {},
     "output_type": "execute_result"
    }
   ],
   "source": [
    "m[0]"
   ]
  },
  {
   "cell_type": "code",
   "execution_count": 45,
   "metadata": {},
   "outputs": [
    {
     "data": {
      "text/plain": [
       "[5, 6, 7, 8]"
      ]
     },
     "execution_count": 45,
     "metadata": {},
     "output_type": "execute_result"
    }
   ],
   "source": [
    "m[1]"
   ]
  },
  {
   "cell_type": "code",
   "execution_count": 46,
   "metadata": {},
   "outputs": [
    {
     "name": "stdout",
     "output_type": "stream",
     "text": [
      "0\n",
      "1\n",
      "1\n",
      "2\n",
      "3\n",
      "5\n",
      "8\n",
      "13\n",
      "21\n",
      "34\n",
      "55\n",
      "89\n"
     ]
    }
   ],
   "source": [
    "#Fibonacci series \n",
    "a,b= 0, 1\n",
    "while a<100:\n",
    "    print(a)\n",
    "    a,b = b, b+a"
   ]
  },
  {
   "cell_type": "code",
   "execution_count": 47,
   "metadata": {},
   "outputs": [
    {
     "name": "stdout",
     "output_type": "stream",
     "text": [
      "0\n",
      "1\n",
      "1\n",
      "2\n",
      "3\n",
      "5\n",
      "8\n",
      "13\n",
      "21\n",
      "34\n",
      "55\n",
      "89\n",
      "144\n"
     ]
    }
   ],
   "source": [
    "#Much better\n",
    "def fib(n):\n",
    "    a,b=0,1\n",
    "    while a<n:\n",
    "        print(a)\n",
    "        a,b = b,b+a\n",
    "fib(200)   "
   ]
  },
  {
   "cell_type": "code",
   "execution_count": 1,
   "metadata": {},
   "outputs": [],
   "source": [
    "                                         # List Methods\n",
    "#append() = Adds an element at the end of the list\n",
    "#clear() = Removes all the elements from the list\n",
    "#copy() = Returns a copy of the list\n",
    "#count() = Returns the number of elements with the specified value\n",
    "#extend() = Add the elements of a list (or any iterable), to the end of the current list\n",
    "#index() = Returns the index of the first element with the specified value\n",
    "#insert() = Adds an element at the specified position\n",
    "#pop() = Removes the element at the specified position\n",
    "#remove() = Removes the item with the specified value\n",
    "#reverse() = Reverses the order of the list\n",
    "#sort() = Sorts the list"
   ]
  },
  {
   "cell_type": "code",
   "execution_count": 4,
   "metadata": {},
   "outputs": [
    {
     "data": {
      "text/plain": [
       "['garry', 'George']"
      ]
     },
     "execution_count": 4,
     "metadata": {},
     "output_type": "execute_result"
    }
   ],
   "source": [
    "#list comprehensions\n",
    "g = ['garry','George','ruth','mary']\n",
    "f= [i for i in g if i[0].lower()=='g']\n",
    "f"
   ]
  },
  {
   "cell_type": "code",
   "execution_count": 6,
   "metadata": {},
   "outputs": [
    {
     "data": {
      "text/plain": [
       "['Citizen Kane', 'Its a Wonderful Life', 'Rear Windwo']"
      ]
     },
     "execution_count": 6,
     "metadata": {},
     "output_type": "execute_result"
    }
   ],
   "source": [
    "d = [('Citizen Kane',1941),('Spirited Away',2001),('Its a Wonderful Life',1946),('Rear Windwo',1954)]\n",
    "f = [ x[0] for x in d if x[1]<2000]\n",
    "f"
   ]
  },
  {
   "cell_type": "code",
   "execution_count": 7,
   "metadata": {},
   "outputs": [
    {
     "data": {
      "text/plain": [
       "[8, -12, 4]"
      ]
     },
     "execution_count": 7,
     "metadata": {},
     "output_type": "execute_result"
    }
   ],
   "source": [
    "v = [2,-3,1]\n",
    "m = [g*4 for g in v]\n",
    "m"
   ]
  },
  {
   "cell_type": "code",
   "execution_count": 8,
   "metadata": {},
   "outputs": [
    {
     "data": {
      "text/plain": [
       "[('1', 'x'), ('1', 'y'), ('3', 'x'), ('3', 'y')]"
      ]
     },
     "execution_count": 8,
     "metadata": {},
     "output_type": "execute_result"
    }
   ],
   "source": [
    "#list comprehensions\n",
    "a = ['1','3']\n",
    "b = ['x','y']\n",
    "con = [(p,c)for p in a for c in b]\n",
    "con"
   ]
  },
  {
   "cell_type": "code",
   "execution_count": 12,
   "metadata": {},
   "outputs": [
    {
     "name": "stdout",
     "output_type": "stream",
     "text": [
      "1\n",
      "2\n",
      "3\n",
      "4\n",
      "5\n",
      "6\n",
      "7\n",
      "8\n",
      "9\n"
     ]
    }
   ],
   "source": [
    "#nested list comprehensions\n",
    "d = [[1,2,3],[4,5,6],[7,8,9]]\n",
    "for i in d:\n",
    "    for x in i:\n",
    "        print(x)"
   ]
  },
  {
   "cell_type": "code",
   "execution_count": 23,
   "metadata": {},
   "outputs": [
    {
     "name": "stdout",
     "output_type": "stream",
     "text": [
      "1\n",
      "2\n",
      "3\n",
      "4\n",
      "5\n",
      "6\n",
      "7\n",
      "8\n",
      "9\n"
     ]
    },
    {
     "data": {
      "text/plain": [
       "[[None, None, None], [None, None, None], [None, None, None]]"
      ]
     },
     "execution_count": 23,
     "metadata": {},
     "output_type": "execute_result"
    }
   ],
   "source": [
    "f = [[print(h) for h in k]for k in d]# this unfolds\n",
    "f"
   ]
  },
  {
   "cell_type": "code",
   "execution_count": 39,
   "metadata": {},
   "outputs": [
    {
     "data": {
      "text/plain": [
       "[[0, 1, 2, 3], [0, 1, 2, 3], [0, 1, 2, 3], [0, 1, 2, 3]]"
      ]
     },
     "execution_count": 39,
     "metadata": {},
     "output_type": "execute_result"
    }
   ],
   "source": [
    "w= [[ k for k in range(4)] for c in range(4)]# this creates\n",
    "w                       #this creates the duplication"
   ]
  },
  {
   "cell_type": "code",
   "execution_count": 25,
   "metadata": {},
   "outputs": [
    {
     "data": {
      "text/plain": [
       "[['O', 'X', 'O', 'X'],\n",
       " ['O', 'X', 'O', 'X'],\n",
       " ['O', 'X', 'O', 'X'],\n",
       " ['O', 'X', 'O', 'X']]"
      ]
     },
     "execution_count": 25,
     "metadata": {},
     "output_type": "execute_result"
    }
   ],
   "source": [
    "p = [[ 'X'if x%2 !=0 else'O' for x in range(4)]for i in range(4)]\n",
    "p"
   ]
  },
  {
   "cell_type": "code",
   "execution_count": 31,
   "metadata": {},
   "outputs": [
    {
     "data": {
      "text/plain": [
       "[[['*'], ['*'], ['*'], ['*'], ['*']],\n",
       " [['*'], ['*'], ['*'], ['*'], ['*']],\n",
       " [['*'], ['*'], ['*'], ['*'], ['*']],\n",
       " [['*'], ['*'], ['*'], ['*'], ['*']],\n",
       " [['*'], ['*'], ['*'], ['*'], ['*']]]"
      ]
     },
     "execution_count": 31,
     "metadata": {},
     "output_type": "execute_result"
    }
   ],
   "source": [
    "l= [[['*']]*5 for i in range(5)]\n",
    "l"
   ]
  },
  {
   "cell_type": "code",
   "execution_count": 30,
   "metadata": {},
   "outputs": [
    {
     "data": {
      "text/plain": [
       "[[['*'], ['*'], ['*'], ['*'], ['*']],\n",
       " [['*'], ['*'], ['*'], ['*'], ['*']],\n",
       " [['*'], ['*'], ['*'], ['*'], ['*']],\n",
       " [['*'], ['*'], ['*'], ['*'], ['*']],\n",
       " [['*'], ['*'], ['*'], ['*'], ['*']]]"
      ]
     },
     "execution_count": 30,
     "metadata": {},
     "output_type": "execute_result"
    }
   ],
   "source": [
    "g = [[['*'] for b in range(5)]for i in range(5)]\n",
    "g"
   ]
  },
  {
   "cell_type": "code",
   "execution_count": 45,
   "metadata": {},
   "outputs": [
    {
     "data": {
      "text/plain": [
       "{0: 0, 1: 1, 2: 2, 3: 3, 4: 4}"
      ]
     },
     "execution_count": 45,
     "metadata": {},
     "output_type": "execute_result"
    }
   ],
   "source": [
    "# Dict comprehsions\n",
    "dic = {x:x for x in range(5)}\n",
    "dic"
   ]
  },
  {
   "cell_type": "code",
   "execution_count": 46,
   "metadata": {},
   "outputs": [
    {
     "data": {
      "text/plain": [
       "{0: 0, 1: 3, 2: 6, 3: 9, 4: 12}"
      ]
     },
     "execution_count": 46,
     "metadata": {},
     "output_type": "execute_result"
    }
   ],
   "source": [
    "dic1 = {x:x*3 for x in range(5)}\n",
    "dic1"
   ]
  },
  {
   "cell_type": "code",
   "execution_count": 48,
   "metadata": {},
   "outputs": [
    {
     "data": {
      "text/plain": [
       "{'booby': 'BOOBY', 'ruth': 'RUTH', 'micheal': 'MICHEAL'}"
      ]
     },
     "execution_count": 48,
     "metadata": {},
     "output_type": "execute_result"
    }
   ],
   "source": [
    "names = ['booby','ruth','micheal']\n",
    "f = {i:i.upper() for i in names}\n",
    "f"
   ]
  },
  {
   "cell_type": "code",
   "execution_count": 54,
   "metadata": {},
   "outputs": [
    {
     "data": {
      "text/plain": [
       "{'a': 7,\n",
       " 'b': 2,\n",
       " 'c': 2,\n",
       " 'd': 2,\n",
       " 'e': 3,\n",
       " 'f': 4,\n",
       " 'g': 5,\n",
       " 'h': 5,\n",
       " 'i': 2,\n",
       " 'j': 9,\n",
       " 'k': 5,\n",
       " 'l': 3,\n",
       " 'm': 2,\n",
       " 'n': 4,\n",
       " 'o': 2,\n",
       " 'p': 2,\n",
       " 'q': 2,\n",
       " 'r': 5,\n",
       " 's': 4,\n",
       " 't': 5,\n",
       " 'v': 1,\n",
       " 'u': 2,\n",
       " 'x': 2,\n",
       " 'y': 1,\n",
       " 'z': 1,\n",
       " 'w': 1}"
      ]
     },
     "execution_count": 54,
     "metadata": {},
     "output_type": "execute_result"
    }
   ],
   "source": [
    "word = 'abcdefghijklmnopabcdefghijlkmnopqrstvuxxyzqwnhjfngeruhjfsaaaaajtglktjgkrtjsrktjhsrj'\n",
    "dictt = {x:word.count(x) for x in word}\n",
    "dictt"
   ]
  },
  {
   "cell_type": "code",
   "execution_count": 55,
   "metadata": {},
   "outputs": [
    {
     "data": {
      "text/plain": [
       "{'a': 7,\n",
       " 'b': 2,\n",
       " 'c': 2,\n",
       " 'd': 2,\n",
       " 'e': 3,\n",
       " 'f': 4,\n",
       " 'g': 5,\n",
       " 'h': 5,\n",
       " 'i': 2,\n",
       " 'j': 9,\n",
       " 'k': 5,\n",
       " 'l': 3,\n",
       " 'm': 2,\n",
       " 'n': 4,\n",
       " 'o': 2,\n",
       " 'p': 2,\n",
       " 'q': 2,\n",
       " 'r': 5,\n",
       " 's': 4,\n",
       " 't': 5,\n",
       " 'v': 1,\n",
       " 'u': 2,\n",
       " 'x': 2,\n",
       " 'y': 1,\n",
       " 'z': 1,\n",
       " 'w': 1}"
      ]
     },
     "execution_count": 55,
     "metadata": {},
     "output_type": "execute_result"
    }
   ],
   "source": [
    "# frequency counter\n",
    "def w(v):\n",
    "    dictt2 = {c:v.count(c) for c in v}\n",
    "    return dictt2\n",
    "w('abcdefghijklmnopabcdefghijlkmnopqrstvuxxyzqwnhjfngeruhjfsaaaaajtglktjgkrtjsrktjhsrj')"
   ]
  },
  {
   "cell_type": "code",
   "execution_count": 3,
   "metadata": {},
   "outputs": [
    {
     "data": {
      "text/plain": [
       "[2, 4, 6, 8, 10]"
      ]
     },
     "execution_count": 3,
     "metadata": {},
     "output_type": "execute_result"
    }
   ],
   "source": [
    "# forget this\n",
    "num = [1,2,3,4,5,6,7,8,9,10]\n",
    "listnum = [x for x in num if x%2 == 0]\n",
    "listnum"
   ]
  },
  {
   "cell_type": "code",
   "execution_count": null,
   "metadata": {},
   "outputs": [],
   "source": []
  },
  {
   "cell_type": "code",
   "execution_count": 9,
   "metadata": {},
   "outputs": [
    {
     "data": {
      "text/plain": [
       "{'Mat': 'Apple', 'Bob': 'MS', 'Andrew': 'Dell'}"
      ]
     },
     "execution_count": 9,
     "metadata": {},
     "output_type": "execute_result"
    }
   ],
   "source": [
    "# zip function \n",
    "d = ['Mat','Bob','Andrew']\n",
    "g = ['Apple','MS','Dell']\n",
    "p = dict(zip(d,g))\n",
    "p"
   ]
  },
  {
   "cell_type": "code",
   "execution_count": 12,
   "metadata": {},
   "outputs": [
    {
     "data": {
      "text/plain": [
       "[('Mat', 'Apple'), ('Bob', 'MS'), ('Andrew', 'Dell')]"
      ]
     },
     "execution_count": 12,
     "metadata": {},
     "output_type": "execute_result"
    }
   ],
   "source": [
    "k = list(zip(d,g))\n",
    "k"
   ]
  },
  {
   "cell_type": "code",
   "execution_count": 14,
   "metadata": {},
   "outputs": [
    {
     "name": "stdout",
     "output_type": "stream",
     "text": [
      "('Mat', 'Apple')\n",
      "('Bob', 'MS')\n",
      "('Andrew', 'Dell')\n"
     ]
    }
   ],
   "source": [
    "for i in k:\n",
    "    print(i)"
   ]
  },
  {
   "cell_type": "code",
   "execution_count": 15,
   "metadata": {},
   "outputs": [
    {
     "name": "stdout",
     "output_type": "stream",
     "text": [
      "Mat Apple\n",
      "Bob MS\n",
      "Andrew Dell\n"
     ]
    }
   ],
   "source": [
    "for c,d in k:\n",
    "    print(c,d)"
   ]
  },
  {
   "cell_type": "code",
   "execution_count": 35,
   "metadata": {},
   "outputs": [
    {
     "data": {
      "text/plain": [
       "['ArithmeticError',\n",
       " 'AssertionError',\n",
       " 'AttributeError',\n",
       " 'BaseException',\n",
       " 'BlockingIOError',\n",
       " 'BrokenPipeError',\n",
       " 'BufferError',\n",
       " 'BytesWarning',\n",
       " 'ChildProcessError',\n",
       " 'ConnectionAbortedError',\n",
       " 'ConnectionError',\n",
       " 'ConnectionRefusedError',\n",
       " 'ConnectionResetError',\n",
       " 'DeprecationWarning',\n",
       " 'EOFError',\n",
       " 'Ellipsis',\n",
       " 'EnvironmentError',\n",
       " 'Exception',\n",
       " 'False',\n",
       " 'FileExistsError',\n",
       " 'FileNotFoundError',\n",
       " 'FloatingPointError',\n",
       " 'FutureWarning',\n",
       " 'GeneratorExit',\n",
       " 'IOError',\n",
       " 'ImportError',\n",
       " 'ImportWarning',\n",
       " 'IndentationError',\n",
       " 'IndexError',\n",
       " 'InterruptedError',\n",
       " 'IsADirectoryError',\n",
       " 'KeyError',\n",
       " 'KeyboardInterrupt',\n",
       " 'LookupError',\n",
       " 'MemoryError',\n",
       " 'ModuleNotFoundError',\n",
       " 'NameError',\n",
       " 'None',\n",
       " 'NotADirectoryError',\n",
       " 'NotImplemented',\n",
       " 'NotImplementedError',\n",
       " 'OSError',\n",
       " 'OverflowError',\n",
       " 'PendingDeprecationWarning',\n",
       " 'PermissionError',\n",
       " 'ProcessLookupError',\n",
       " 'RecursionError',\n",
       " 'ReferenceError',\n",
       " 'ResourceWarning',\n",
       " 'RuntimeError',\n",
       " 'RuntimeWarning',\n",
       " 'StopAsyncIteration',\n",
       " 'StopIteration',\n",
       " 'SyntaxError',\n",
       " 'SyntaxWarning',\n",
       " 'SystemError',\n",
       " 'SystemExit',\n",
       " 'TabError',\n",
       " 'TimeoutError',\n",
       " 'True',\n",
       " 'TypeError',\n",
       " 'UnboundLocalError',\n",
       " 'UnicodeDecodeError',\n",
       " 'UnicodeEncodeError',\n",
       " 'UnicodeError',\n",
       " 'UnicodeTranslateError',\n",
       " 'UnicodeWarning',\n",
       " 'UserWarning',\n",
       " 'ValueError',\n",
       " 'Warning',\n",
       " 'WindowsError',\n",
       " 'ZeroDivisionError',\n",
       " '__IPYTHON__',\n",
       " '__build_class__',\n",
       " '__debug__',\n",
       " '__doc__',\n",
       " '__import__',\n",
       " '__loader__',\n",
       " '__name__',\n",
       " '__package__',\n",
       " '__spec__',\n",
       " 'abs',\n",
       " 'all',\n",
       " 'any',\n",
       " 'ascii',\n",
       " 'bin',\n",
       " 'bool',\n",
       " 'breakpoint',\n",
       " 'bytearray',\n",
       " 'bytes',\n",
       " 'callable',\n",
       " 'chr',\n",
       " 'classmethod',\n",
       " 'compile',\n",
       " 'complex',\n",
       " 'copyright',\n",
       " 'credits',\n",
       " 'delattr',\n",
       " 'dict',\n",
       " 'dir',\n",
       " 'display',\n",
       " 'divmod',\n",
       " 'enumerate',\n",
       " 'eval',\n",
       " 'exec',\n",
       " 'filter',\n",
       " 'float',\n",
       " 'format',\n",
       " 'frozenset',\n",
       " 'get_ipython',\n",
       " 'getattr',\n",
       " 'globals',\n",
       " 'hasattr',\n",
       " 'hash',\n",
       " 'help',\n",
       " 'hex',\n",
       " 'id',\n",
       " 'input',\n",
       " 'int',\n",
       " 'isinstance',\n",
       " 'issubclass',\n",
       " 'iter',\n",
       " 'len',\n",
       " 'license',\n",
       " 'list',\n",
       " 'locals',\n",
       " 'map',\n",
       " 'max',\n",
       " 'memoryview',\n",
       " 'min',\n",
       " 'next',\n",
       " 'object',\n",
       " 'oct',\n",
       " 'open',\n",
       " 'ord',\n",
       " 'pow',\n",
       " 'print',\n",
       " 'property',\n",
       " 'range',\n",
       " 'repr',\n",
       " 'reversed',\n",
       " 'round',\n",
       " 'set',\n",
       " 'setattr',\n",
       " 'slice',\n",
       " 'sorted',\n",
       " 'staticmethod',\n",
       " 'str',\n",
       " 'sum',\n",
       " 'super',\n",
       " 'tuple',\n",
       " 'type',\n",
       " 'vars',\n",
       " 'zip']"
      ]
     },
     "execution_count": 35,
     "metadata": {},
     "output_type": "execute_result"
    }
   ],
   "source": [
    "dir(__builtin__)"
   ]
  },
  {
   "cell_type": "code",
   "execution_count": 49,
   "metadata": {},
   "outputs": [
    {
     "name": "stdout",
     "output_type": "stream",
     "text": [
      "Ruth John Ovuike Smith\n",
      "Lagos Paris Twenty Thirty-nine\n"
     ]
    }
   ],
   "source": [
    "d1,d2 = {'Ruth':'Ovuike','Lagos':'Twenty'},{'John':'Smith','Paris':'Thirty-nine'}\n",
    "for (k1,k2),(v1,v2) in zip(d1.items(),d2.items()):\n",
    "    print(k1,v1,k2,v2)"
   ]
  },
  {
   "cell_type": "code",
   "execution_count": 40,
   "metadata": {},
   "outputs": [
    {
     "data": {
      "text/plain": [
       "[(1, 2, 3), ('a', 'b', 'c')]"
      ]
     },
     "execution_count": 40,
     "metadata": {},
     "output_type": "execute_result"
    }
   ],
   "source": [
    "g = [(1,'a'),(2,'b'),(3,'c')]\n",
    "g = list(zip(*g))\n",
    "g"
   ]
  },
  {
   "cell_type": "code",
   "execution_count": 41,
   "metadata": {},
   "outputs": [
    {
     "data": {
      "text/plain": [
       "[(3, 'c'), (5, 'a'), (6, 'b'), (7, 'e')]"
      ]
     },
     "execution_count": 41,
     "metadata": {},
     "output_type": "execute_result"
    }
   ],
   "source": [
    "#You can also use sorted() and zip() together to achieve a similar result:\n",
    "c,v = [6,7,5,3,4],['b','e','a','c']\n",
    "new = sorted(list(zip(c,v)))\n",
    "new"
   ]
  },
  {
   "cell_type": "code",
   "execution_count": 42,
   "metadata": {},
   "outputs": [
    {
     "data": {
      "text/plain": [
       "[('a', 5), ('b', 6), ('c', 3), ('e', 7)]"
      ]
     },
     "execution_count": 42,
     "metadata": {},
     "output_type": "execute_result"
    }
   ],
   "source": [
    "new2 = sorted(list(zip(v,c)))\n",
    "new2"
   ]
  },
  {
   "cell_type": "code",
   "execution_count": 153,
   "metadata": {},
   "outputs": [
    {
     "name": "stdout",
     "output_type": "stream",
     "text": [
      "{'M': 'b'}\n",
      "{'a': 'e'}\n",
      "{'r': 'a'}\n",
      "{'c': 'c'}\n"
     ]
    }
   ],
   "source": [
    "for k,l in zip(c,v):\n",
    "    print({k:l})"
   ]
  },
  {
   "cell_type": "code",
   "execution_count": 94,
   "metadata": {},
   "outputs": [
    {
     "name": "stdout",
     "output_type": "stream",
     "text": [
      "Jan profit:5200.0\n",
      "Feb profit:5100.0\n",
      "March profit:4800.0\n"
     ]
    }
   ],
   "source": [
    "total_sales = {'Jan':52000.00, 'Feb':51000.00, 'March':48000.00}\n",
    "cost = {'Jan':46800.00, 'Feb':45900.00, 'March':43200.00}\n",
    "for (a,b),(c,d) in zip(total_sales.items(),cost.items()):\n",
    "    print( f'{a} profit:{b-d}')"
   ]
  },
  {
   "cell_type": "code",
   "execution_count": 102,
   "metadata": {},
   "outputs": [
    {
     "data": {
      "text/plain": [
       "{'name': 'John', 'last_name': 'Doe', 'age': '45', 'job': 'Python Developer'}"
      ]
     },
     "execution_count": 102,
     "metadata": {},
     "output_type": "execute_result"
    }
   ],
   "source": [
    "fields,values = ['name', 'last_name', 'age', 'job'] , ['John', 'Doe', '45', 'Python Developer']\n",
    "g = {t:p for t, p in zip(fields,values)}\n",
    "g"
   ]
  },
  {
   "cell_type": "code",
   "execution_count": 96,
   "metadata": {},
   "outputs": [
    {
     "data": {
      "text/plain": [
       "{'name': 'John', 'last_name': 'Doe', 'age': '45', 'job': 'Python Developer'}"
      ]
     },
     "execution_count": 96,
     "metadata": {},
     "output_type": "execute_result"
    }
   ],
   "source": [
    "#Or\n",
    "g = dict(zip(fields,values))\n",
    "g"
   ]
  },
  {
   "cell_type": "code",
   "execution_count": 99,
   "metadata": {},
   "outputs": [
    {
     "name": "stdout",
     "output_type": "stream",
     "text": [
      "Jan profit: 5200.0\n",
      "Feb profit: 5100.0\n",
      "March profit: 4800.0\n"
     ]
    }
   ],
   "source": [
    "l =[ print(f'{k} profit: {v-l}') for (k,v), (m,l) in zip(total_sales.items(),cost.items())]"
   ]
  },
  {
   "cell_type": "code",
   "execution_count": 104,
   "metadata": {},
   "outputs": [
    {
     "data": {
      "text/plain": [
       "{'name': 'John', 'last_name': 'Doe', 'age': '45', 'job': 'Swimmer'}"
      ]
     },
     "execution_count": 104,
     "metadata": {},
     "output_type": "execute_result"
    }
   ],
   "source": [
    "k,d=['job'],['Swimmer']\n",
    "g.update(zip(k,d))\n",
    "g"
   ]
  },
  {
   "cell_type": "code",
   "execution_count": 106,
   "metadata": {},
   "outputs": [
    {
     "data": {
      "text/plain": [
       "{'name': 'John', 'last_name': 'Doe', 'age': '56', 'job': 'Swimmer'}"
      ]
     },
     "execution_count": 106,
     "metadata": {},
     "output_type": "execute_result"
    }
   ],
   "source": [
    "t,u=['age'],['56']\n",
    "g.update(zip(t,u))\n",
    "g"
   ]
  },
  {
   "cell_type": "code",
   "execution_count": 109,
   "metadata": {},
   "outputs": [
    {
     "data": {
      "text/plain": [
       "{'name': 'John',\n",
       " 'last_name': 'Doe',\n",
       " 'age': '56',\n",
       " 'job': 'Swimmer',\n",
       " 'title': 'John',\n",
       " 'John': 'title'}"
      ]
     },
     "execution_count": 109,
     "metadata": {},
     "output_type": "execute_result"
    }
   ],
   "source": [
    "r,o=['John'],['title']\n",
    "g.update(zip(r,o))\n",
    "g"
   ]
  },
  {
   "cell_type": "code",
   "execution_count": 157,
   "metadata": {},
   "outputs": [
    {
     "name": "stdout",
     "output_type": "stream",
     "text": [
      "Jan profit: 5200.0\n",
      "Feb profit: 5100.0\n"
     ]
    }
   ],
   "source": [
    "l =[ print(f'{k} profit: {v-l}')  for (k,v), (m,l) in zip(total_sales.items(),cost.items()) if (v-l)>5000]"
   ]
  },
  {
   "cell_type": "code",
   "execution_count": 149,
   "metadata": {},
   "outputs": [
    {
     "name": "stdout",
     "output_type": "stream",
     "text": [
      "I bought 6 Apples for $1.89. \n",
      "I bought 9 Bananas for $6.98. \n",
      "I bought 14 Grapes for $5.11. \n",
      "I bought 23 Oranges for $7.98. \n"
     ]
    },
    {
     "data": {
      "text/plain": [
       "[None, None, None, None]"
      ]
     },
     "execution_count": 149,
     "metadata": {},
     "output_type": "execute_result"
    }
   ],
   "source": [
    "fruit,price,amount = ['Apples','Bananas','Grapes','Oranges'],[1.89,6.98,5.11,7.98],[6,9,14,23]\n",
    "[print(f'I bought {y} {x} for {z:$>5}. ')for x,y,z in zip(fruit,amount,price)]"
   ]
  },
  {
   "cell_type": "code",
   "execution_count": 144,
   "metadata": {},
   "outputs": [
    {
     "data": {
      "text/plain": [
       "'$1.89'"
      ]
     },
     "execution_count": 144,
     "metadata": {},
     "output_type": "execute_result"
    }
   ],
   "source": [
    "#practice\n",
    "f'{(1.89):$>5}'"
   ]
  },
  {
   "cell_type": "code",
   "execution_count": 156,
   "metadata": {},
   "outputs": [
    {
     "data": {
      "text/plain": [
       "{'Bruce': 'Bataman',\n",
       " 'Wade': 'Woverine',\n",
       " 'Logan': 'Deadpool',\n",
       " 'Clark': 'Superman'}"
      ]
     },
     "execution_count": 156,
     "metadata": {},
     "output_type": "execute_result"
    }
   ],
   "source": [
    "names,hero = ['Bruce','Peter','Wade','Logan','Clark'],['Bataman','Spiderman','Woverine','Deadpool','Superman']\n",
    "{k:v for k,v in zip(names,hero) if k != 'Peter'}"
   ]
  },
  {
   "cell_type": "code",
   "execution_count": 161,
   "metadata": {},
   "outputs": [
    {
     "data": {
      "text/plain": [
       "[('a', 1), ('c', 2), ('b', 3)]"
      ]
     },
     "execution_count": 161,
     "metadata": {},
     "output_type": "execute_result"
    }
   ],
   "source": [
    "#Something lil\n",
    "v = {'a':1, 'b':3,'c':2}\n",
    "g = sorted(v.items(),key = lambda x: x[1])\n",
    "g"
   ]
  },
  {
   "cell_type": "code",
   "execution_count": 163,
   "metadata": {},
   "outputs": [
    {
     "data": {
      "text/plain": [
       "[1, 2, 3, 4, 5]"
      ]
     },
     "execution_count": 163,
     "metadata": {},
     "output_type": "execute_result"
    }
   ],
   "source": [
    "c = [2,4,5,3,1]\n",
    "c= sorted(c)\n",
    "c"
   ]
  },
  {
   "cell_type": "code",
   "execution_count": 176,
   "metadata": {},
   "outputs": [
    {
     "data": {
      "text/plain": [
       "{'Shanghai tower': 2073.26336,\n",
       " 'Abraj al-bait clock tower': 1971.56848,\n",
       " 'Lotte world tower': 1817.38592}"
      ]
     },
     "execution_count": 176,
     "metadata": {},
     "output_type": "execute_result"
    }
   ],
   "source": [
    "# Dict comprehensions\n",
    "tall_buildings = {\n",
    "    'burj khalifa':              828,\n",
    "    'shanghai tower':            632,\n",
    "    'abraj al-bait clock tower': 601,\n",
    "    'ping an finance centre':    599,\n",
    "    'lotte world tower':         554\n",
    "}\n",
    "\n",
    "r = { k.capitalize():v*3.28048 for k,v in tall_buildings.items() if 'tower' in k}\n",
    "r"
   ]
  },
  {
   "cell_type": "code",
   "execution_count": 177,
   "metadata": {},
   "outputs": [
    {
     "data": {
      "text/plain": [
       "dict_keys(['burj khalifa', 'shanghai tower', 'abraj al-bait clock tower', 'ping an finance centre', 'lotte world tower'])"
      ]
     },
     "execution_count": 177,
     "metadata": {},
     "output_type": "execute_result"
    }
   ],
   "source": [
    "tall_buildings.keys()"
   ]
  },
  {
   "cell_type": "code",
   "execution_count": 178,
   "metadata": {},
   "outputs": [
    {
     "data": {
      "text/plain": [
       "dict_values([828, 632, 601, 599, 554])"
      ]
     },
     "execution_count": 178,
     "metadata": {},
     "output_type": "execute_result"
    }
   ],
   "source": [
    "tall_buildings.values()"
   ]
  },
  {
   "cell_type": "code",
   "execution_count": 179,
   "metadata": {},
   "outputs": [
    {
     "data": {
      "text/plain": [
       "dict_items([('burj khalifa', 828), ('shanghai tower', 632), ('abraj al-bait clock tower', 601), ('ping an finance centre', 599), ('lotte world tower', 554)])"
      ]
     },
     "execution_count": 179,
     "metadata": {},
     "output_type": "execute_result"
    }
   ],
   "source": [
    "tall_buildings.items()"
   ]
  },
  {
   "cell_type": "code",
   "execution_count": 1,
   "metadata": {},
   "outputs": [
    {
     "data": {
      "text/plain": [
       "{'t1': -34.44444444444444,\n",
       " 't2': -28.88888888888889,\n",
       " 't3': -23.333333333333336,\n",
       " 't4': -17.77777777777778}"
      ]
     },
     "execution_count": 1,
     "metadata": {},
     "output_type": "execute_result"
    }
   ],
   "source": [
    "#math\n",
    "total_temp = {'t1':-30,'t2':-20,'t3':-10,'t4':0}\n",
    "{k:((5/9)* (v-32))for k,v in total_temp.items()}"
   ]
  },
  {
   "cell_type": "code",
   "execution_count": 2,
   "metadata": {},
   "outputs": [
    {
     "data": {
      "text/plain": [
       "{'c': 3, 'd': 4, 'e': 5}"
      ]
     },
     "execution_count": 2,
     "metadata": {},
     "output_type": "execute_result"
    }
   ],
   "source": [
    "# if statement\n",
    "dict1 = {'a':1,'b':2,'c':3,'d':4,'e':5}\n",
    "{x:y for x,y in dict1.items() if y>2}"
   ]
  },
  {
   "cell_type": "code",
   "execution_count": 3,
   "metadata": {},
   "outputs": [
    {
     "data": {
      "text/plain": [
       "{'d': 4}"
      ]
     },
     "execution_count": 3,
     "metadata": {},
     "output_type": "execute_result"
    }
   ],
   "source": [
    "# multiple if statements\n",
    "dict1 = {'a':1,'b':2,'c':3,'d':4,'e':5}\n",
    "{x:y for x,y in dict1.items() if y>2 and y%2 == 0} # you can use if twice"
   ]
  },
  {
   "cell_type": "code",
   "execution_count": 5,
   "metadata": {},
   "outputs": [
    {
     "data": {
      "text/plain": [
       "{'f': 6}"
      ]
     },
     "execution_count": 5,
     "metadata": {},
     "output_type": "execute_result"
    }
   ],
   "source": [
    "dict1 = {'a':1,'b':2,'c':3,'d':4,'e':5,'f':6}\n",
    "{x:y for x,y in dict1.items() if y>2 if y%2 == 0 if y%3 ==0} "
   ]
  },
  {
   "cell_type": "code",
   "execution_count": 10,
   "metadata": {},
   "outputs": [
    {
     "data": {
      "text/plain": [
       "{'a': '1 Odd',\n",
       " 'b': '2 Even',\n",
       " 'c': '3 Odd',\n",
       " 'd': '4 Even',\n",
       " 'e': '5 Odd',\n",
       " 'f': '6 Even'}"
      ]
     },
     "execution_count": 10,
     "metadata": {},
     "output_type": "execute_result"
    }
   ],
   "source": [
    "# else statements\n",
    "dict1 = {'a':1,'b':2,'c':3,'d':4,'e':5,'f':6}\n",
    "{a:(f'{b} Even'if b%2 == 0 else f'{b} Odd')for a,b in dict1.items()}"
   ]
  },
  {
   "cell_type": "code",
   "execution_count": 12,
   "metadata": {},
   "outputs": [
    {
     "data": {
      "text/plain": [
       "{'First': {3}, 'Second': {6}}"
      ]
     },
     "execution_count": 12,
     "metadata": {},
     "output_type": "execute_result"
    }
   ],
   "source": [
    "# Nested Dict\n",
    "nested_dict = {'First':{'a':1}, 'Second': {'b':2}}\n",
    "{k:{b*3 for a,b in v.items()} for k,v in nested_dict.items()}"
   ]
  },
  {
   "cell_type": "code",
   "execution_count": 14,
   "metadata": {},
   "outputs": [],
   "source": [
    "#nested_dict2 = {{2:3}:{4:5}, {6:7}:{8:9}}\n",
    "#{{a*100: b*100 for a,b in k.items()}:{x*100: y*100 for x,y in v.items()}for k,v in nested_dict2.items()}"
   ]
  },
  {
   "cell_type": "code",
   "execution_count": 53,
   "metadata": {},
   "outputs": [
    {
     "data": {
      "text/plain": [
       "{'New ID': {'Fwd: RES': ['3', '4', '5'],\n",
       "  'RES CON': ['2', '1', '2'],\n",
       "  'RES EXP': [],\n",
       "  'RES SOLD': ['6', '1', '3']}}"
      ]
     },
     "execution_count": 53,
     "metadata": {},
     "output_type": "execute_result"
    }
   ],
   "source": [
    "email_dict={'New ID': \n",
    "    {'Fwd: RES': ['3', ' ', '4', ' ', '5'], \n",
    "    'RES CON': ['2', ' ', '1', '2'], \n",
    "    'RES EXP': [], \n",
    "    'RES SOLD': ['6', ' ', '1', '3']}\n",
    "}\n",
    "\n",
    "{k:{x:[i for i in v[x] if i != ' '] for x in v} for k,v in email_dict.items()}"
   ]
  },
  {
   "cell_type": "code",
   "execution_count": 46,
   "metadata": {},
   "outputs": [
    {
     "data": {
      "text/plain": [
       "['1', '2']"
      ]
     },
     "execution_count": 46,
     "metadata": {},
     "output_type": "execute_result"
    }
   ],
   "source": [
    "y = ['1',' ','2']\n",
    "y1 = ''\n",
    "for i in y:\n",
    "    if i == ' ':continue\n",
    "    else:y1+=i\n",
    "y1 = list(y1)\n",
    "y1"
   ]
  },
  {
   "cell_type": "code",
   "execution_count": 2,
   "metadata": {},
   "outputs": [
    {
     "data": {
      "text/plain": [
       "{'a': 1, 'b': 2, 'c': 5, 'd': 6}"
      ]
     },
     "execution_count": 2,
     "metadata": {},
     "output_type": "execute_result"
    }
   ],
   "source": [
    "#alternative to zip\n",
    "c,b = {'a':1, 'b':2,'c':3},{'d':4,'c':5,'d':6}\n",
    "#{k:v for k,v in {**c,**b}.items()}\n",
    "{**c,**b}"
   ]
  },
  {
   "cell_type": "code",
   "execution_count": 80,
   "metadata": {},
   "outputs": [
    {
     "name": "stdout",
     "output_type": "stream",
     "text": [
      "a 1\n",
      "b 2\n",
      "c 3\n",
      "d 4\n",
      "e 5\n",
      "f 6\n"
     ]
    },
    {
     "data": {
      "text/plain": [
       "[None, None, None, None, None, None]"
      ]
     },
     "execution_count": 80,
     "metadata": {},
     "output_type": "execute_result"
    }
   ],
   "source": [
    "#loop thorugh two or more dict keys and value indivusally\n",
    "c,b = {'a':1, 'b':2,'c':3},{'d':4,'e':5,'f':6}\n",
    "[print(k,v) for k,v in {**c,**b}.items()]"
   ]
  },
  {
   "cell_type": "code",
   "execution_count": 96,
   "metadata": {},
   "outputs": [
    {
     "name": "stdout",
     "output_type": "stream",
     "text": [
      "['a', 'b', 'c', 'd', 'e', 'f'] [1, 2, 3, 4, 5, 6]\n"
     ]
    }
   ],
   "source": [
    "#turning two dict into a list\n",
    "c,b = {'a':1, 'b':2,'c':3},{'d':4,'e':5,'f':6}\n",
    "k = [k for k,v in {**c,**b}.items()]\n",
    "v = [v for k,v in {**c,**b}.items()]\n",
    "print(k ,v)"
   ]
  },
  {
   "cell_type": "code",
   "execution_count": 9,
   "metadata": {},
   "outputs": [
    {
     "name": "stdout",
     "output_type": "stream",
     "text": [
      "a\n",
      "b\n",
      "c\n",
      "0\n",
      "1\n",
      "2\n",
      "3\n",
      "4\n",
      "5\n"
     ]
    }
   ],
   "source": [
    "#yield method\n",
    "t = ['abc',range(6)]\n",
    "for i in t:\n",
    "    for x in i:\n",
    "        print(x)"
   ]
  },
  {
   "cell_type": "code",
   "execution_count": 15,
   "metadata": {},
   "outputs": [
    {
     "name": "stdout",
     "output_type": "stream",
     "text": [
      "['a', 'b', 'c', 0, 1, 2, 3, 4, 5]\n"
     ]
    }
   ],
   "source": [
    "x= [(yield from i) for i in t]\n",
    "print(list(x))"
   ]
  },
  {
   "cell_type": "code",
   "execution_count": 82,
   "metadata": {},
   "outputs": [
    {
     "data": {
      "text/plain": [
       "[1, 3, 5]"
      ]
     },
     "execution_count": 82,
     "metadata": {},
     "output_type": "execute_result"
    }
   ],
   "source": [
    "#how to know if something is fib, (5*(n*n)-or+4)is a perfect sqaure\n",
    "no = [1,2,3,4,5]\n",
    "[i for i in no if i%2 if (5*(i*i)+4)**.5 in range(100) or(5*(i*i)-4)**.5 in range(100) ]"
   ]
  },
  {
   "cell_type": "code",
   "execution_count": 83,
   "metadata": {},
   "outputs": [
    {
     "data": {
      "text/plain": [
       "{1, 2, 3, 5, 13, 89}"
      ]
     },
     "execution_count": 83,
     "metadata": {},
     "output_type": "execute_result"
    }
   ],
   "source": [
    "# set comprehensions\n",
    "p = range(101)\n",
    "prime = {i for i in p if i%2 or i/2==1 if i!=21 }\n",
    "fib= {i for i in p if (5*(i*i)+4)**.5 in range(100) or(5*(i*i)-4)**.5 in range(1000)}\n",
    "s = prime&fib\n",
    "s"
   ]
  },
  {
   "cell_type": "code",
   "execution_count": 79,
   "metadata": {},
   "outputs": [
    {
     "data": {
      "text/plain": [
       "{1, 2, 3, 4, 5}"
      ]
     },
     "execution_count": 79,
     "metadata": {},
     "output_type": "execute_result"
    }
   ],
   "source": [
    "#set comprehensions\n",
    "{i for i in [1,5,2,3,4,5,4,1,2]}    "
   ]
  },
  {
   "cell_type": "code",
   "execution_count": 86,
   "metadata": {},
   "outputs": [
    {
     "data": {
      "text/plain": [
       "{1, 3, 5}"
      ]
     },
     "execution_count": 86,
     "metadata": {},
     "output_type": "execute_result"
    }
   ],
   "source": [
    "{i for i in [1,5,2,3,4,5,4,1,2] if i%2}"
   ]
  },
  {
   "cell_type": "code",
   "execution_count": 89,
   "metadata": {},
   "outputs": [
    {
     "data": {
      "text/plain": [
       "{frozenset({'d', 'n'}),\n",
       " frozenset({'c', 'd', 'k', 's'}),\n",
       " frozenset({'g', 'h', 'n', 't'}),\n",
       " frozenset({'t', 'w'}),\n",
       " frozenset({'d', 'h'}),\n",
       " frozenset({'h', 't'}),\n",
       " frozenset({'c', 't'}),\n",
       " frozenset({'n'})}"
      ]
     },
     "execution_count": 89,
     "metadata": {},
     "output_type": "execute_result"
    }
   ],
   "source": [
    "# nested sets\n",
    "sen = 'The cat in the hat had two sidekicks, thing one and thing two.'\n",
    "words= sen.lower().replace(',','').replace('.','').split()\n",
    "vowels = ['a','e','i','o','u']\n",
    "consonants = {frozenset({letter for letter in word if letter not in vowels}) for word in words}\n",
    "consonants"
   ]
  },
  {
   "cell_type": "code",
   "execution_count": 102,
   "metadata": {},
   "outputs": [
    {
     "name": "stdout",
     "output_type": "stream",
     "text": [
      "1\n",
      "4\n",
      "9\n",
      "16\n",
      "25\n",
      "36\n"
     ]
    }
   ],
   "source": [
    "#Generators\n",
    "def squared(x):\n",
    "    for i in x:\n",
    "        yield i*i\n",
    "g = squared([1,2,3,4,5,6])\n",
    "# alternative to next\n",
    "for y in g:\n",
    "    print(y)"
   ]
  },
  {
   "cell_type": "code",
   "execution_count": 91,
   "metadata": {},
   "outputs": [
    {
     "data": {
      "text/plain": [
       "4"
      ]
     },
     "execution_count": 91,
     "metadata": {},
     "output_type": "execute_result"
    }
   ],
   "source": [
    "next(g)"
   ]
  },
  {
   "cell_type": "code",
   "execution_count": 93,
   "metadata": {},
   "outputs": [
    {
     "data": {
      "text/plain": [
       "9"
      ]
     },
     "execution_count": 93,
     "metadata": {},
     "output_type": "execute_result"
    }
   ],
   "source": [
    "next(g)"
   ]
  },
  {
   "cell_type": "code",
   "execution_count": 94,
   "metadata": {},
   "outputs": [
    {
     "data": {
      "text/plain": [
       "16"
      ]
     },
     "execution_count": 94,
     "metadata": {},
     "output_type": "execute_result"
    }
   ],
   "source": [
    "next(g)"
   ]
  },
  {
   "cell_type": "code",
   "execution_count": 95,
   "metadata": {},
   "outputs": [
    {
     "data": {
      "text/plain": [
       "25"
      ]
     },
     "execution_count": 95,
     "metadata": {},
     "output_type": "execute_result"
    }
   ],
   "source": [
    "next(g)"
   ]
  },
  {
   "cell_type": "code",
   "execution_count": 97,
   "metadata": {},
   "outputs": [
    {
     "data": {
      "text/plain": [
       "36"
      ]
     },
     "execution_count": 97,
     "metadata": {},
     "output_type": "execute_result"
    }
   ],
   "source": [
    "next(g)"
   ]
  },
  {
   "cell_type": "code",
   "execution_count": 108,
   "metadata": {},
   "outputs": [
    {
     "name": "stdout",
     "output_type": "stream",
     "text": [
      "[1, 2, 3, 4, 5, 6, 7]\n"
     ]
    }
   ],
   "source": [
    "# Generator expression\n",
    "sqaured = (x for x in [1,2,3,4,5,6,7])\n",
    "#for y in sqaured:\n",
    "  #  print(y)\n",
    "print(list(sqaured))"
   ]
  },
  {
   "cell_type": "code",
   "execution_count": 113,
   "metadata": {},
   "outputs": [
    {
     "data": {
      "text/plain": [
       "False"
      ]
     },
     "execution_count": 113,
     "metadata": {},
     "output_type": "execute_result"
    }
   ],
   "source": [
    "def prime(i):\n",
    "    return all(i%x for x in range(2,i))\n",
    "prime(9)"
   ]
  },
  {
   "cell_type": "code",
   "execution_count": 117,
   "metadata": {},
   "outputs": [],
   "source": [
    "# Learn something new for a brief sec\n",
    "# Understanding the underscore of python\n",
    "\n",
    "#There are 5 cases for using the underscore in Python.\n",
    "\n",
    "#1 For storing the value of last expression in interpreter.\n",
    "#2 For ignoring the specific values. (so-called “I don’t care”)\n",
    "#3 To give special meanings and functions to name of vartiables or functions.\n",
    "#4 To use as ‘Internationalization(i18n)’ or ‘Localization(l10n)’ functions.\n",
    "#5 To separate the digits of number literal value."
   ]
  },
  {
   "cell_type": "code",
   "execution_count": 118,
   "metadata": {},
   "outputs": [
    {
     "data": {
      "text/plain": [
       "30"
      ]
     },
     "execution_count": 118,
     "metadata": {},
     "output_type": "execute_result"
    }
   ],
   "source": [
    "#1\n",
    "30"
   ]
  },
  {
   "cell_type": "code",
   "execution_count": 119,
   "metadata": {},
   "outputs": [
    {
     "data": {
      "text/plain": [
       "30"
      ]
     },
     "execution_count": 119,
     "metadata": {},
     "output_type": "execute_result"
    }
   ],
   "source": [
    "_"
   ]
  },
  {
   "cell_type": "code",
   "execution_count": 120,
   "metadata": {},
   "outputs": [
    {
     "data": {
      "text/plain": [
       "60"
      ]
     },
     "execution_count": 120,
     "metadata": {},
     "output_type": "execute_result"
    }
   ],
   "source": [
    "_*2"
   ]
  },
  {
   "cell_type": "code",
   "execution_count": 121,
   "metadata": {},
   "outputs": [
    {
     "data": {
      "text/plain": [
       "600"
      ]
     },
     "execution_count": 121,
     "metadata": {},
     "output_type": "execute_result"
    }
   ],
   "source": [
    "_*10"
   ]
  },
  {
   "cell_type": "code",
   "execution_count": 123,
   "metadata": {},
   "outputs": [
    {
     "data": {
      "text/plain": [
       "1"
      ]
     },
     "execution_count": 123,
     "metadata": {},
     "output_type": "execute_result"
    }
   ],
   "source": [
    "# 2 ignoring a value when unpackaging\n",
    "x,y,z = [1,2,3]\n",
    "x"
   ]
  },
  {
   "cell_type": "code",
   "execution_count": 124,
   "metadata": {},
   "outputs": [
    {
     "data": {
      "text/plain": [
       "2"
      ]
     },
     "execution_count": 124,
     "metadata": {},
     "output_type": "execute_result"
    }
   ],
   "source": [
    "y"
   ]
  },
  {
   "cell_type": "code",
   "execution_count": 125,
   "metadata": {},
   "outputs": [
    {
     "data": {
      "text/plain": [
       "3"
      ]
     },
     "execution_count": 125,
     "metadata": {},
     "output_type": "execute_result"
    }
   ],
   "source": [
    "z"
   ]
  },
  {
   "cell_type": "code",
   "execution_count": 126,
   "metadata": {},
   "outputs": [
    {
     "data": {
      "text/plain": [
       "12"
      ]
     },
     "execution_count": 126,
     "metadata": {},
     "output_type": "execute_result"
    }
   ],
   "source": [
    "#ignoring 22 by storing it in _\n",
    "a,_,b = [12,22,45]\n",
    "a"
   ]
  },
  {
   "cell_type": "code",
   "execution_count": 127,
   "metadata": {},
   "outputs": [
    {
     "data": {
      "text/plain": [
       "45"
      ]
     },
     "execution_count": 127,
     "metadata": {},
     "output_type": "execute_result"
    }
   ],
   "source": [
    "b"
   ]
  },
  {
   "cell_type": "code",
   "execution_count": 128,
   "metadata": {},
   "outputs": [
    {
     "data": {
      "text/plain": [
       "22"
      ]
     },
     "execution_count": 128,
     "metadata": {},
     "output_type": "execute_result"
    }
   ],
   "source": [
    "_"
   ]
  },
  {
   "cell_type": "code",
   "execution_count": 131,
   "metadata": {},
   "outputs": [
    {
     "data": {
      "text/plain": [
       "1"
      ]
     },
     "execution_count": 131,
     "metadata": {},
     "output_type": "execute_result"
    }
   ],
   "source": [
    "# Ignore the multiple values, storing the rest in *_ It is called \"Extended Unpacking\"\n",
    "c,*_,d = [1,2,3,4,5,6,7,8,9,10]\n",
    "c"
   ]
  },
  {
   "cell_type": "code",
   "execution_count": 132,
   "metadata": {},
   "outputs": [
    {
     "data": {
      "text/plain": [
       "10"
      ]
     },
     "execution_count": 132,
     "metadata": {},
     "output_type": "execute_result"
    }
   ],
   "source": [
    "d"
   ]
  },
  {
   "cell_type": "code",
   "execution_count": 133,
   "metadata": {},
   "outputs": [
    {
     "data": {
      "text/plain": [
       "[2, 3, 4, 5, 6, 7, 8, 9]"
      ]
     },
     "execution_count": 133,
     "metadata": {},
     "output_type": "execute_result"
    }
   ],
   "source": [
    "_"
   ]
  },
  {
   "cell_type": "code",
   "execution_count": 182,
   "metadata": {},
   "outputs": [],
   "source": [
    "import itertools\n",
    "def fib(y):\n",
    "    f = {i for i in y if (5*(i*i)+4)**.5 in range(10000) or(5*(i*i)-4)**.5 in range(10000)}\n",
    "    return f\n",
    "\n",
    "def prime(x):\n",
    "    p = {i for i in x if i%2 or i/2==1 if i!=21 }\n",
    "    return p\n",
    "\n",
    "def primfib():\n",
    "    for i in itertools.count():\n",
    "        if  fib(i) and prime(i):\n",
    "            yield i"
   ]
  },
  {
   "cell_type": "code",
   "execution_count": 191,
   "metadata": {},
   "outputs": [],
   "source": [
    "def print_first(g, n=5):\n",
    "        for i,_ in zip(g,range(n)):\n",
    "            print(i)  "
   ]
  },
  {
   "cell_type": "raw",
   "metadata": {},
   "source": []
  },
  {
   "cell_type": "markdown",
   "metadata": {},
   "source": []
  },
  {
   "cell_type": "code",
   "execution_count": 1,
   "metadata": {},
   "outputs": [
    {
     "data": {
      "text/plain": [
       "{\"'\",\n",
       " 'I',\n",
       " 'a',\n",
       " 'c',\n",
       " 'd',\n",
       " 'e',\n",
       " 'f',\n",
       " 'h',\n",
       " 'i',\n",
       " 'k',\n",
       " 'l',\n",
       " 'm',\n",
       " 'n',\n",
       " 'o',\n",
       " 'p',\n",
       " 'r',\n",
       " 's',\n",
       " 't',\n",
       " 'u',\n",
       " 'x'}"
      ]
     },
     "execution_count": 1,
     "metadata": {},
     "output_type": "execute_result"
    }
   ],
   "source": [
    "# generator expression can be turned into list or set, no dict\n",
    "page = 'I still think it\\'s a poor choice of an examplein the documentation'\n",
    "set(i for line in page for i in line.split())"
   ]
  },
  {
   "cell_type": "code",
   "execution_count": 2,
   "metadata": {},
   "outputs": [
    {
     "data": {
      "text/plain": [
       "['I',\n",
       " 's',\n",
       " 't',\n",
       " 'i',\n",
       " 'l',\n",
       " 'l',\n",
       " 't',\n",
       " 'h',\n",
       " 'i',\n",
       " 'n',\n",
       " 'k',\n",
       " 'i',\n",
       " 't',\n",
       " \"'\",\n",
       " 's',\n",
       " 'a',\n",
       " 'p',\n",
       " 'o',\n",
       " 'o',\n",
       " 'r',\n",
       " 'c',\n",
       " 'h',\n",
       " 'o',\n",
       " 'i',\n",
       " 'c',\n",
       " 'e',\n",
       " 'o',\n",
       " 'f',\n",
       " 'a',\n",
       " 'n',\n",
       " 'e',\n",
       " 'x',\n",
       " 'a',\n",
       " 'm',\n",
       " 'p',\n",
       " 'l',\n",
       " 'e',\n",
       " 'i',\n",
       " 'n',\n",
       " 't',\n",
       " 'h',\n",
       " 'e',\n",
       " 'd',\n",
       " 'o',\n",
       " 'c',\n",
       " 'u',\n",
       " 'm',\n",
       " 'e',\n",
       " 'n',\n",
       " 't',\n",
       " 'a',\n",
       " 't',\n",
       " 'i',\n",
       " 'o',\n",
       " 'n']"
      ]
     },
     "execution_count": 2,
     "metadata": {},
     "output_type": "execute_result"
    }
   ],
   "source": [
    "list(i for line in page for i in line.split())"
   ]
  },
  {
   "cell_type": "code",
   "execution_count": 3,
   "metadata": {},
   "outputs": [
    {
     "data": {
      "text/plain": [
       "{'I': 1,\n",
       " 's': 2,\n",
       " 't': 6,\n",
       " 'i': 6,\n",
       " 'l': 3,\n",
       " 'h': 3,\n",
       " 'n': 5,\n",
       " 'k': 1,\n",
       " \"'\": 1,\n",
       " 'a': 4,\n",
       " 'p': 2,\n",
       " 'o': 6,\n",
       " 'r': 1,\n",
       " 'c': 3,\n",
       " 'e': 5,\n",
       " 'f': 1,\n",
       " 'x': 1,\n",
       " 'm': 2,\n",
       " 'd': 1,\n",
       " 'u': 1}"
      ]
     },
     "execution_count": 3,
     "metadata": {},
     "output_type": "execute_result"
    }
   ],
   "source": [
    "{i:page.count(i) for line in page for i in line.split()}"
   ]
  },
  {
   "cell_type": "code",
   "execution_count": 4,
   "metadata": {},
   "outputs": [],
   "source": [
    "#List Methods\n",
    "#Python has a set of built-in methods that you can use on lists.\n",
    "\n",
    "#Method   :  Description\n",
    "#append() = Adds an element at the end of the list\n",
    "#clear() = Removes all the elements from the list\n",
    "#copy() = Returns a copy of the list\n",
    "#count() = Returns the number of elements with the specified value\n",
    "#extend() = Add the elements of a list (or any iterable), to the end of the current list\n",
    "#index() = Returns the index of the first element with the specified value\n",
    "#insert() = Adds an element at the specified position\n",
    "#pop() = Removes the element at the specified position\n",
    "#remove() = Removes the item with the specified value\n",
    "#reverse() = Reverses the order of the list\n",
    "#sort() = Sorts the list"
   ]
  },
  {
   "cell_type": "code",
   "execution_count": 8,
   "metadata": {},
   "outputs": [
    {
     "data": {
      "text/plain": [
       "[1, 2, 3, 4, 5]"
      ]
     },
     "execution_count": 8,
     "metadata": {},
     "output_type": "execute_result"
    }
   ],
   "source": [
    "# append()\n",
    "c = [1,2,3,4]\n",
    "c.append(5)\n",
    "c"
   ]
  },
  {
   "cell_type": "code",
   "execution_count": 6,
   "metadata": {},
   "outputs": [
    {
     "data": {
      "text/plain": [
       "[10, 11, 12, 13, 14, [15, 16, 17, 18]]"
      ]
     },
     "execution_count": 6,
     "metadata": {},
     "output_type": "execute_result"
    }
   ],
   "source": [
    "d = [10,11,12,13,14]\n",
    "e = [15,16,17,18]\n",
    "d.append(e)\n",
    "d"
   ]
  },
  {
   "cell_type": "code",
   "execution_count": 48,
   "metadata": {},
   "outputs": [
    {
     "data": {
      "text/plain": [
       "['i did it', ['apple', 'grapes', 'john']]"
      ]
     },
     "execution_count": 48,
     "metadata": {},
     "output_type": "execute_result"
    }
   ],
   "source": [
    "x = ['apple','grapes','john']\n",
    "a = ['i did it']\n",
    "a[len(a):]=[x]\n",
    "#a[0:]=[x] very interesting,append snytax\n",
    "a"
   ]
  },
  {
   "cell_type": "code",
   "execution_count": 37,
   "metadata": {},
   "outputs": [
    {
     "data": {
      "text/plain": [
       "[1, 2, 3, 4, 5, [15, 16, 17, 18], 4]"
      ]
     },
     "execution_count": 37,
     "metadata": {},
     "output_type": "execute_result"
    }
   ],
   "source": [
    "c[len(c):]=[e,len(e)]# as much as you want\n",
    "c"
   ]
  },
  {
   "cell_type": "code",
   "execution_count": 38,
   "metadata": {},
   "outputs": [
    {
     "data": {
      "text/plain": [
       "['apple', 'orange', 'banana', 1, 2, 3, 4, 5]"
      ]
     },
     "execution_count": 38,
     "metadata": {},
     "output_type": "execute_result"
    }
   ],
   "source": [
    "# extend\n",
    "d = ['apple','orange','banana']\n",
    "p = (1,2,3,4,5)\n",
    "d.extend(p)\n",
    "d"
   ]
  },
  {
   "cell_type": "code",
   "execution_count": 49,
   "metadata": {},
   "outputs": [
    {
     "data": {
      "text/plain": [
       "['abe', 'smart', 'tall', 'cs', 'dancing', 'singing', 'painting']"
      ]
     },
     "execution_count": 49,
     "metadata": {},
     "output_type": "execute_result"
    }
   ],
   "source": [
    "# f[len(f):] = [c] vs f[len(f):] = c \n",
    "f = ['abe','smart','tall','cs']\n",
    "c = ('dancing','singing','painting')\n",
    "f[len(f):] = c #joins everything together in one list\n",
    "f"
   ]
  },
  {
   "cell_type": "code",
   "execution_count": 51,
   "metadata": {},
   "outputs": [
    {
     "data": {
      "text/plain": [
       "['abe', 'smart', 'tall', 'cs', ('dancing', 'singing', 'painting')]"
      ]
     },
     "execution_count": 51,
     "metadata": {},
     "output_type": "execute_result"
    }
   ],
   "source": [
    "f = ['abe','smart','tall','cs']\n",
    "f[len(f):] = [c] #joins everything togrther however leaving c as a tuple \n",
    "f"
   ]
  },
  {
   "cell_type": "code",
   "execution_count": 64,
   "metadata": {},
   "outputs": [
    {
     "data": {
      "text/plain": [
       "[1, 2, 3, 4, 0, 5, 6]"
      ]
     },
     "execution_count": 64,
     "metadata": {},
     "output_type": "execute_result"
    }
   ],
   "source": [
    "#insert, num.insert(len(num),anything) == num.append(anything)\n",
    "num = [1,2,3,4,5,6]\n",
    "num.insert(4,0)\n",
    "num"
   ]
  },
  {
   "cell_type": "code",
   "execution_count": 65,
   "metadata": {},
   "outputs": [
    {
     "data": {
      "text/plain": [
       "[1, 2, 3, 4, 0, 5, 6, '1,2,3,4,5']"
      ]
     },
     "execution_count": 65,
     "metadata": {},
     "output_type": "execute_result"
    }
   ],
   "source": [
    "anything = '1,2,3,4,5'\n",
    "num.insert(len(num),anything)\n",
    "num"
   ]
  },
  {
   "cell_type": "code",
   "execution_count": 66,
   "metadata": {},
   "outputs": [
    {
     "data": {
      "text/plain": [
       "[1, 2, 3, 4, 0, 5, 6]"
      ]
     },
     "execution_count": 66,
     "metadata": {},
     "output_type": "execute_result"
    }
   ],
   "source": [
    "#remove\n",
    "num.remove(num[-1])\n",
    "num"
   ]
  },
  {
   "cell_type": "code",
   "execution_count": 67,
   "metadata": {},
   "outputs": [
    {
     "data": {
      "text/plain": [
       "[1, 2, 3, 4, 0, 5]"
      ]
     },
     "execution_count": 67,
     "metadata": {},
     "output_type": "execute_result"
    }
   ],
   "source": [
    "#pop default valur is -1\n",
    "num.pop()\n",
    "num"
   ]
  },
  {
   "cell_type": "code",
   "execution_count": 68,
   "metadata": {},
   "outputs": [
    {
     "data": {
      "text/plain": [
       "[1, 2, 4, 0, 5]"
      ]
     },
     "execution_count": 68,
     "metadata": {},
     "output_type": "execute_result"
    }
   ],
   "source": [
    "num.pop(2)\n",
    "num"
   ]
  },
  {
   "cell_type": "code",
   "execution_count": 69,
   "metadata": {},
   "outputs": [
    {
     "data": {
      "text/plain": [
       "[]"
      ]
     },
     "execution_count": 69,
     "metadata": {},
     "output_type": "execute_result"
    }
   ],
   "source": [
    "# clear equivalent to del a[:]\n",
    "a = [1,2,3,4,5]\n",
    "a.clear()\n",
    "a"
   ]
  },
  {
   "cell_type": "code",
   "execution_count": 71,
   "metadata": {},
   "outputs": [
    {
     "data": {
      "text/plain": [
       "[]"
      ]
     },
     "execution_count": 71,
     "metadata": {},
     "output_type": "execute_result"
    }
   ],
   "source": [
    "a = [6,7,8,9]\n",
    "del a[:]\n",
    "a"
   ]
  },
  {
   "cell_type": "code",
   "execution_count": 72,
   "metadata": {},
   "outputs": [
    {
     "data": {
      "text/plain": [
       "4"
      ]
     },
     "execution_count": 72,
     "metadata": {},
     "output_type": "execute_result"
    }
   ],
   "source": [
    "#index\n",
    "num.index(5)"
   ]
  },
  {
   "cell_type": "code",
   "execution_count": 73,
   "metadata": {},
   "outputs": [
    {
     "data": {
      "text/plain": [
       "2"
      ]
     },
     "execution_count": 73,
     "metadata": {},
     "output_type": "execute_result"
    }
   ],
   "source": [
    "#count\n",
    "d = [3,3,4,5,6,7]\n",
    "d.count(3)"
   ]
  },
  {
   "cell_type": "code",
   "execution_count": 75,
   "metadata": {},
   "outputs": [
    {
     "data": {
      "text/plain": [
       "[3, 3, 4, 5, 6, 7]"
      ]
     },
     "execution_count": 75,
     "metadata": {},
     "output_type": "execute_result"
    }
   ],
   "source": [
    "#reverse\n",
    "d.reverse()\n",
    "d"
   ]
  },
  {
   "cell_type": "code",
   "execution_count": 76,
   "metadata": {},
   "outputs": [
    {
     "data": {
      "text/plain": [
       "[3, 3, 4, 5, 6, 7]"
      ]
     },
     "execution_count": 76,
     "metadata": {},
     "output_type": "execute_result"
    }
   ],
   "source": [
    "# copy equivalent to a[:]\n",
    "x = d.copy() #when d changes x is not effected\n",
    "x"
   ]
  },
  {
   "cell_type": "code",
   "execution_count": 77,
   "metadata": {},
   "outputs": [
    {
     "data": {
      "text/plain": [
       "[2, 3, 4, 5, 6, 7]"
      ]
     },
     "execution_count": 77,
     "metadata": {},
     "output_type": "execute_result"
    }
   ],
   "source": [
    "d[0] = 2\n",
    "d"
   ]
  },
  {
   "cell_type": "code",
   "execution_count": 78,
   "metadata": {},
   "outputs": [
    {
     "data": {
      "text/plain": [
       "[3, 3, 4, 5, 6, 7]"
      ]
     },
     "execution_count": 78,
     "metadata": {},
     "output_type": "execute_result"
    }
   ],
   "source": [
    "x"
   ]
  },
  {
   "cell_type": "code",
   "execution_count": 79,
   "metadata": {},
   "outputs": [
    {
     "data": {
      "text/plain": [
       "[1, 2, 3, 4]"
      ]
     },
     "execution_count": 79,
     "metadata": {},
     "output_type": "execute_result"
    }
   ],
   "source": [
    "a = [1,2,3,4]\n",
    "d = a[:] # when a changes d is not effect\n",
    "d"
   ]
  },
  {
   "cell_type": "code",
   "execution_count": 80,
   "metadata": {},
   "outputs": [
    {
     "data": {
      "text/plain": [
       "[0, 2, 3, 4]"
      ]
     },
     "execution_count": 80,
     "metadata": {},
     "output_type": "execute_result"
    }
   ],
   "source": [
    "a[0] = 0\n",
    "a"
   ]
  },
  {
   "cell_type": "code",
   "execution_count": 81,
   "metadata": {},
   "outputs": [
    {
     "data": {
      "text/plain": [
       "[1, 2, 3, 4]"
      ]
     },
     "execution_count": 81,
     "metadata": {},
     "output_type": "execute_result"
    }
   ],
   "source": [
    "d"
   ]
  },
  {
   "cell_type": "code",
   "execution_count": 82,
   "metadata": {},
   "outputs": [],
   "source": [
    "# sort()\n",
    "# reverse = Optional. reverse=True will sort the list descending. Default is reverse=False\n",
    "# key = Optional. A function to specify the sorting criteria(s)"
   ]
  },
  {
   "cell_type": "code",
   "execution_count": 89,
   "metadata": {},
   "outputs": [
    {
     "data": {
      "text/plain": [
       "['Volvo', 'Ford', 'BMW']"
      ]
     },
     "execution_count": 89,
     "metadata": {},
     "output_type": "execute_result"
    }
   ],
   "source": [
    "cars = ['Ford', 'BMW', 'Volvo']\n",
    "cars.sort(reverse = True)\n",
    "cars"
   ]
  },
  {
   "cell_type": "code",
   "execution_count": 110,
   "metadata": {},
   "outputs": [
    {
     "data": {
      "text/plain": [
       "['BMW', 'Volvo', 'Ford']"
      ]
     },
     "execution_count": 110,
     "metadata": {},
     "output_type": "execute_result"
    }
   ],
   "source": [
    "cars.sort(key = lambda x: x[2])\n",
    "cars"
   ]
  },
  {
   "cell_type": "code",
   "execution_count": 102,
   "metadata": {},
   "outputs": [
    {
     "data": {
      "text/plain": [
       "['BMW', 'Ford', 'Volvo']"
      ]
     },
     "execution_count": 102,
     "metadata": {},
     "output_type": "execute_result"
    }
   ],
   "source": [
    "cars.sort(key= lambda x :len(x))\n",
    "cars"
   ]
  },
  {
   "cell_type": "code",
   "execution_count": 103,
   "metadata": {},
   "outputs": [],
   "source": [
    "cars1 = [\n",
    "  {'car': 'Ford', 'year': 2005},\n",
    "  {'car': 'Mitsubishi', 'year': 2000},\n",
    "  {'car': 'BMW', 'year': 2019},\n",
    "  {'car': 'VW', 'year': 2011}\n",
    "]"
   ]
  },
  {
   "cell_type": "code",
   "execution_count": 105,
   "metadata": {},
   "outputs": [
    {
     "data": {
      "text/plain": [
       "[{'car': 'BMW', 'year': 2019},\n",
       " {'car': 'VW', 'year': 2011},\n",
       " {'car': 'Ford', 'year': 2005},\n",
       " {'car': 'Mitsubishi', 'year': 2000}]"
      ]
     },
     "execution_count": 105,
     "metadata": {},
     "output_type": "execute_result"
    }
   ],
   "source": [
    "cars1.sort(reverse=True, key=lambda x:x['year'])\n",
    "cars1"
   ]
  },
  {
   "cell_type": "code",
   "execution_count": 107,
   "metadata": {},
   "outputs": [
    {
     "data": {
      "text/plain": [
       "[{'car': 'Mitsubishi', 'year': 2000},\n",
       " {'car': 'Ford', 'year': 2005},\n",
       " {'car': 'VW', 'year': 2011},\n",
       " {'car': 'BMW', 'year': 2019}]"
      ]
     },
     "execution_count": 107,
     "metadata": {},
     "output_type": "execute_result"
    }
   ],
   "source": [
    "cars1.sort(key=lambda x:x['year'])\n",
    "cars1"
   ]
  },
  {
   "cell_type": "code",
   "execution_count": 111,
   "metadata": {},
   "outputs": [
    {
     "data": {
      "text/plain": [
       "[{'car': 'BMW', 'year': 2019},\n",
       " {'car': 'Ford', 'year': 2005},\n",
       " {'car': 'Mitsubishi', 'year': 2000},\n",
       " {'car': 'VW', 'year': 2011}]"
      ]
     },
     "execution_count": 111,
     "metadata": {},
     "output_type": "execute_result"
    }
   ],
   "source": [
    "cars1.sort(key=lambda x:x['car'])\n",
    "cars1"
   ]
  },
  {
   "cell_type": "code",
   "execution_count": 113,
   "metadata": {},
   "outputs": [
    {
     "data": {
      "text/plain": [
       "[{'car': 'BMW', 'year': 2019},\n",
       " {'car': 'VW', 'year': 2011},\n",
       " {'car': 'Ford', 'year': 2005},\n",
       " {'car': 'Mitsubishi', 'year': 2000}]"
      ]
     },
     "execution_count": 113,
     "metadata": {},
     "output_type": "execute_result"
    }
   ],
   "source": [
    "cars1.sort(key = lambda x: x['year']<2010)\n",
    "cars1"
   ]
  },
  {
   "cell_type": "code",
   "execution_count": null,
   "metadata": {},
   "outputs": [],
   "source": [
    "f = [1,2,3,4] #=[4,1,2,3]\n",
    "#[4,1,2,3]\n",
    "for i,k in enumerate(f):\n",
    "    f.insert((k-1),i)\n",
    "print(f)"
   ]
  },
  {
   "cell_type": "code",
   "execution_count": null,
   "metadata": {},
   "outputs": [],
   "source": [
    "1+2"
   ]
  },
  {
   "cell_type": "code",
   "execution_count": null,
   "metadata": {},
   "outputs": [],
   "source": []
  },
  {
   "cell_type": "code",
   "execution_count": null,
   "metadata": {},
   "outputs": [],
   "source": []
  }
 ],
 "metadata": {
  "kernelspec": {
   "display_name": "Python 3",
   "language": "python",
   "name": "python3"
  },
  "language_info": {
   "codemirror_mode": {
    "name": "ipython",
    "version": 3
   },
   "file_extension": ".py",
   "mimetype": "text/x-python",
   "name": "python",
   "nbconvert_exporter": "python",
   "pygments_lexer": "ipython3",
   "version": "3.7.4"
  }
 },
 "nbformat": 4,
 "nbformat_minor": 2
}
