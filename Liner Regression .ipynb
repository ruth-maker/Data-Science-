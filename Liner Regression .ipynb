{
 "cells": [
  {
   "cell_type": "code",
   "execution_count": 2,
   "metadata": {},
   "outputs": [],
   "source": [
    "import pandas as pd\n",
    "from matplotlib import pyplot as plt\n",
    "plt.style.use('seaborn')\n",
    "import csv"
   ]
  },
  {
   "cell_type": "code",
   "execution_count": 17,
   "metadata": {},
   "outputs": [],
   "source": [
    "with open('Linear.csv','w',newline = '')as f:\n",
    "    thewriter = csv.writer(f)"
   ]
  },
  {
   "cell_type": "code",
   "execution_count": 3,
   "metadata": {},
   "outputs": [
    {
     "data": {
      "text/html": [
       "<div>\n",
       "<style scoped>\n",
       "    .dataframe tbody tr th:only-of-type {\n",
       "        vertical-align: middle;\n",
       "    }\n",
       "\n",
       "    .dataframe tbody tr th {\n",
       "        vertical-align: top;\n",
       "    }\n",
       "\n",
       "    .dataframe thead th {\n",
       "        text-align: right;\n",
       "    }\n",
       "</style>\n",
       "<table border=\"1\" class=\"dataframe\">\n",
       "  <thead>\n",
       "    <tr style=\"text-align: right;\">\n",
       "      <th></th>\n",
       "      <th>Exam_Score</th>\n",
       "      <th>Revision_Time</th>\n",
       "    </tr>\n",
       "  </thead>\n",
       "  <tbody>\n",
       "    <tr>\n",
       "      <td>0</td>\n",
       "      <td>94</td>\n",
       "      <td>80.0</td>\n",
       "    </tr>\n",
       "    <tr>\n",
       "      <td>1</td>\n",
       "      <td>88</td>\n",
       "      <td>60.0</td>\n",
       "    </tr>\n",
       "    <tr>\n",
       "      <td>2</td>\n",
       "      <td>71</td>\n",
       "      <td>56.0</td>\n",
       "    </tr>\n",
       "    <tr>\n",
       "      <td>3</td>\n",
       "      <td>75</td>\n",
       "      <td>47.0</td>\n",
       "    </tr>\n",
       "    <tr>\n",
       "      <td>4</td>\n",
       "      <td>71</td>\n",
       "      <td>43.0</td>\n",
       "    </tr>\n",
       "    <tr>\n",
       "      <td>5</td>\n",
       "      <td>68</td>\n",
       "      <td>40.0</td>\n",
       "    </tr>\n",
       "    <tr>\n",
       "      <td>6</td>\n",
       "      <td>73</td>\n",
       "      <td>67.0</td>\n",
       "    </tr>\n",
       "    <tr>\n",
       "      <td>7</td>\n",
       "      <td>57</td>\n",
       "      <td>16.0</td>\n",
       "    </tr>\n",
       "    <tr>\n",
       "      <td>8</td>\n",
       "      <td>59</td>\n",
       "      <td>21.0</td>\n",
       "    </tr>\n",
       "    <tr>\n",
       "      <td>9</td>\n",
       "      <td>65</td>\n",
       "      <td>54.0</td>\n",
       "    </tr>\n",
       "    <tr>\n",
       "      <td>10</td>\n",
       "      <td>67</td>\n",
       "      <td>40.0</td>\n",
       "    </tr>\n",
       "    <tr>\n",
       "      <td>11</td>\n",
       "      <td>60</td>\n",
       "      <td>39.0</td>\n",
       "    </tr>\n",
       "    <tr>\n",
       "      <td>12</td>\n",
       "      <td>60</td>\n",
       "      <td>38.0</td>\n",
       "    </tr>\n",
       "    <tr>\n",
       "      <td>13</td>\n",
       "      <td>45</td>\n",
       "      <td>8.0</td>\n",
       "    </tr>\n",
       "    <tr>\n",
       "      <td>14</td>\n",
       "      <td>61</td>\n",
       "      <td>34.0</td>\n",
       "    </tr>\n",
       "    <tr>\n",
       "      <td>15</td>\n",
       "      <td>50</td>\n",
       "      <td>16.0</td>\n",
       "    </tr>\n",
       "    <tr>\n",
       "      <td>16</td>\n",
       "      <td>67</td>\n",
       "      <td>40.0</td>\n",
       "    </tr>\n",
       "  </tbody>\n",
       "</table>\n",
       "</div>"
      ],
      "text/plain": [
       "    Exam_Score  Revision_Time\n",
       "0           94           80.0\n",
       "1           88           60.0\n",
       "2           71           56.0\n",
       "3           75           47.0\n",
       "4           71           43.0\n",
       "5           68           40.0\n",
       "6           73           67.0\n",
       "7           57           16.0\n",
       "8           59           21.0\n",
       "9           65           54.0\n",
       "10          67           40.0\n",
       "11          60           39.0\n",
       "12          60           38.0\n",
       "13          45            8.0\n",
       "14          61           34.0\n",
       "15          50           16.0\n",
       "16          67           40.0"
      ]
     },
     "execution_count": 3,
     "metadata": {},
     "output_type": "execute_result"
    }
   ],
   "source": [
    "data1 = pd.read_csv('Linear.csv')\n",
    "df = data1\n",
    "data1"
   ]
  },
  {
   "cell_type": "code",
   "execution_count": 4,
   "metadata": {},
   "outputs": [],
   "source": [
    "x = data1['Exam_Score']\n",
    "y = data1['Revision_Time']"
   ]
  },
  {
   "cell_type": "code",
   "execution_count": 5,
   "metadata": {},
   "outputs": [
    {
     "data": {
      "text/plain": [
       "<matplotlib.collections.PathCollection at 0x18058697fc8>"
      ]
     },
     "execution_count": 5,
     "metadata": {},
     "output_type": "execute_result"
    },
    {
     "data": {
      "image/png": "[encoded data removed]",
      "text/plain": [
       "<Figure size 432x288 with 1 Axes>"
      ]
     },
     "metadata": {
      "needs_background": "light"
     },
     "output_type": "display_data"
    }
   ],
   "source": [
    "plt.scatter(x,y, cmap = 'Reds',edgecolor = 'black',\n",
    "            linewidth = 1,alpha = .75) #s:changes size,c:changes colour"
   ]
  },
  {
   "cell_type": "code",
   "execution_count": 6,
   "metadata": {},
   "outputs": [
    {
     "data": {
      "text/plain": [
       "array([[1.        , 0.89929283],\n",
       "       [0.89929283, 1.        ]])"
      ]
     },
     "execution_count": 6,
     "metadata": {},
     "output_type": "execute_result"
    }
   ],
   "source": [
    "                             # Pearson correlation -1 to 1\n",
    "import numpy as np\n",
    "r = np.corrcoef(x,y)\n",
    "r #0.89929283 is strong"
   ]
  },
  {
   "cell_type": "code",
   "execution_count": 7,
   "metadata": {},
   "outputs": [
    {
     "data": {
      "text/plain": [
       "0.9"
      ]
     },
     "execution_count": 7,
     "metadata": {},
     "output_type": "execute_result"
    }
   ],
   "source": [
    "                               # Sample correlation process\n",
    "def rcorrelation(x,y):\n",
    "    v = np.cov(x,y)\n",
    "    total_covariance = v[0][1] #covariance  \n",
    "    # standard dev of x\n",
    "    sx = np.std(x,ddof = 1) #ddof takes away the population version\n",
    "    sy= np.std(y,ddof = 1)\n",
    "    # standard deviation of both x and y\n",
    "    total_std = sx*sy\n",
    "    total_std\n",
    "    # sample Correlation result\n",
    "    samplecorr = round(total_covariance/total_std,2)\n",
    "    return samplecorr\n",
    "rcorrelation(x,y)"
   ]
  },
  {
   "cell_type": "code",
   "execution_count": 8,
   "metadata": {},
   "outputs": [],
   "source": [
    "                         # Testing the signifience of the Sample Correlation\n",
    "#1 Hypothesis testingh h(null):r=0, h(a): r!=0\n",
    "#2 Signifience Level: alpha = 0.05\n",
    "#3 Test statistic use formula: two different methods\n",
    "#   1: using p-value to compare with sig level = pvalue < alpha\n",
    "#   2: using critical value to compare sig level= critical value of t-test > critical value of alpha"
   ]
  },
  {
   "cell_type": "code",
   "execution_count": 9,
   "metadata": {},
   "outputs": [],
   "source": [
    "                       # Test statistic and critical value: Method 1\n",
    "#t-test func\n",
    "def ttest_endtail(r,n,alpha,ntail):\n",
    "    top = r-0\n",
    "    bot1 = 1-r**2\n",
    "    bot2 = n-2\n",
    "    bot3 = bot1/bot2\n",
    "    bot4 = round(bot3**.5,2)\n",
    "    total = round(top/bot4,2)\n",
    "    # divide alpha by 2\n",
    "    endtail = 0.5/2\n",
    "    return total,endtail\n",
    "ttest_endtail(.9,17,.05,2)\n",
    "tt = 8.18\n",
    "endtail = .25"
   ]
  },
  {
   "cell_type": "code",
   "execution_count": 10,
   "metadata": {},
   "outputs": [
    {
     "data": {
      "image/png": "[encoded data removed]",
      "text/plain": [
       "<Figure size 432x288 with 1 Axes>"
      ]
     },
     "metadata": {
      "needs_background": "light"
     },
     "output_type": "display_data"
    }
   ],
   "source": [
    "                             # Make a t-distribuion \n",
    "import numpy as np\n",
    "import scipy.stats as st\n",
    "from matplotlib import pyplot as plt\n",
    "from scipy.stats import norm\n",
    "\n",
    "# function for t-dis\n",
    "def tgraph(n,alpha,ntails,endtail):\n",
    "    domain= np.linspace(-50,50,1000)\n",
    "    dof  = n-1#degress of freedom (sample size minues 1)\n",
    "    ## Calculate critical value of alpha \n",
    "    tcrit = round(abs(st.t.ppf(alpha/ntails, dof)),3)#2.131\n",
    "\n",
    "    plt.figure()\n",
    "    plt.plot(domain, st.t.pdf(domain,dof),'k',label ='T-distribuion'  )\n",
    "\n",
    "    ## Plot some vertical lines representing critical t-score cutoff\n",
    "    sig_tails = np.linspace(0,endtail)\n",
    "    x1 = len(sig_tails) * [tcrit]\n",
    "    x2 = len(sig_tails) * [-tcrit]\n",
    "    plt.plot(x1,sig_tails,'r',label=\"Significant level:.05\")\n",
    "    plt.annotate('Critical Value of t-test: 8.18',xytext=(7,.05),xy=(tt,0),arrowprops={'facecolor':'green'})\n",
    "    plt.legend()\n",
    "tgraph(17,.05,2,.25)"
   ]
  },
  {
   "cell_type": "code",
   "execution_count": 11,
   "metadata": {},
   "outputs": [
    {
     "data": {
      "text/plain": [
       "4.150018615981268e-07"
      ]
     },
     "execution_count": 11,
     "metadata": {},
     "output_type": "execute_result"
    }
   ],
   "source": [
    "                             # P-Value: Method 2\n",
    "pval = st.t.sf(np.abs(tt),17-1)*2\n",
    "pval   "
   ]
  },
  {
   "cell_type": "code",
   "execution_count": 12,
   "metadata": {},
   "outputs": [
    {
     "data": {
      "text/plain": [
       "'0.0000012679'"
      ]
     },
     "execution_count": 12,
     "metadata": {},
     "output_type": "execute_result"
    }
   ],
   "source": [
    "#convert to decimal\n",
    "\"{:.10f}\".format(float(\"1.2678715297879369e-06\")) #0.000 <0.05"
   ]
  },
  {
   "cell_type": "code",
   "execution_count": 13,
   "metadata": {},
   "outputs": [
    {
     "name": "stdout",
     "output_type": "stream",
     "text": [
      "1.0 -25.0\n"
     ]
    }
   ],
   "source": [
    "                           # Building the Model\n",
    "xmean = np.mean(x)\n",
    "ymean = np.mean(y)\n",
    "\n",
    "num = 0\n",
    "den = 0\n",
    "\n",
    "for i in range(len(x)):\n",
    "    num += (x[i] - xmean)*(y[i]-ymean)\n",
    "    den += (x[i] - xmean)**2\n",
    "m = round(num/den,0)\n",
    "c = round(ymean - m*xmean,0)\n",
    "print(m,c)"
   ]
  },
  {
   "cell_type": "code",
   "execution_count": 18,
   "metadata": {},
   "outputs": [
    {
     "data": {
      "image/png": "[encoded data removed]",
      "text/plain": [
       "<Figure size 432x288 with 1 Axes>"
      ]
     },
     "metadata": {
      "needs_background": "light"
     },
     "output_type": "display_data"
    }
   ],
   "source": [
    "                           # Plotting the model\n",
    "regression = m*x + c\n",
    "plt.scatter(x,y,edgecolor = 'black',\n",
    "            linewidth = 1,alpha = .75) \n",
    "plt.scatter(x,regression,color = 'red')\n",
    "plt.title('Students Performance')\n",
    "plt.xlabel('Exam_Score')\n",
    "plt.ylabel('Revision_Time')\n",
    "plt.tight_layout()\n"
   ]
  },
  {
   "cell_type": "code",
   "execution_count": 19,
   "metadata": {},
   "outputs": [
    {
     "data": {
      "image/png": "[encoded data removed]",
      "text/plain": [
       "<Figure size 432x288 with 1 Axes>"
      ]
     },
     "metadata": {
      "needs_background": "light"
     },
     "output_type": "display_data"
    }
   ],
   "source": [
    "                         # Regression Line\n",
    "plt.scatter(x,y,edgecolor = 'black',\n",
    "            linewidth = 1,alpha = .75) \n",
    "plt.plot([min(x), max(x)], [min(regression), max(regression)], color='red')\n",
    "plt.title('Students Performance')\n",
    "plt.xlabel('Exam_Score')\n",
    "plt.ylabel('Revision_Time')\n",
    "plt.tight_layout()"
   ]
  },
  {
   "cell_type": "code",
   "execution_count": 20,
   "metadata": {},
   "outputs": [
    {
     "data": {
      "text/html": [
       "<div>\n",
       "<style scoped>\n",
       "    .dataframe tbody tr th:only-of-type {\n",
       "        vertical-align: middle;\n",
       "    }\n",
       "\n",
       "    .dataframe tbody tr th {\n",
       "        vertical-align: top;\n",
       "    }\n",
       "\n",
       "    .dataframe thead th {\n",
       "        text-align: right;\n",
       "    }\n",
       "</style>\n",
       "<table border=\"1\" class=\"dataframe\">\n",
       "  <thead>\n",
       "    <tr style=\"text-align: right;\">\n",
       "      <th></th>\n",
       "      <th>Exam_Score</th>\n",
       "      <th>Revision_Time</th>\n",
       "    </tr>\n",
       "  </thead>\n",
       "  <tbody>\n",
       "    <tr>\n",
       "      <td>count</td>\n",
       "      <td>17.000000</td>\n",
       "      <td>17.000000</td>\n",
       "    </tr>\n",
       "    <tr>\n",
       "      <td>mean</td>\n",
       "      <td>66.529412</td>\n",
       "      <td>41.117647</td>\n",
       "    </tr>\n",
       "    <tr>\n",
       "      <td>std</td>\n",
       "      <td>12.181531</td>\n",
       "      <td>19.032480</td>\n",
       "    </tr>\n",
       "    <tr>\n",
       "      <td>min</td>\n",
       "      <td>45.000000</td>\n",
       "      <td>8.000000</td>\n",
       "    </tr>\n",
       "    <tr>\n",
       "      <td>25%</td>\n",
       "      <td>60.000000</td>\n",
       "      <td>34.000000</td>\n",
       "    </tr>\n",
       "    <tr>\n",
       "      <td>50%</td>\n",
       "      <td>67.000000</td>\n",
       "      <td>40.000000</td>\n",
       "    </tr>\n",
       "    <tr>\n",
       "      <td>75%</td>\n",
       "      <td>71.000000</td>\n",
       "      <td>54.000000</td>\n",
       "    </tr>\n",
       "    <tr>\n",
       "      <td>max</td>\n",
       "      <td>94.000000</td>\n",
       "      <td>80.000000</td>\n",
       "    </tr>\n",
       "  </tbody>\n",
       "</table>\n",
       "</div>"
      ],
      "text/plain": [
       "       Exam_Score  Revision_Time\n",
       "count   17.000000      17.000000\n",
       "mean    66.529412      41.117647\n",
       "std     12.181531      19.032480\n",
       "min     45.000000       8.000000\n",
       "25%     60.000000      34.000000\n",
       "50%     67.000000      40.000000\n",
       "75%     71.000000      54.000000\n",
       "max     94.000000      80.000000"
      ]
     },
     "execution_count": 20,
     "metadata": {},
     "output_type": "execute_result"
    }
   ],
   "source": [
    "                               # Estimating Error\n",
    "from sklearn.model_selection import train_test_split \n",
    "from sklearn.linear_model import LinearRegression\n",
    "from sklearn import metrics\n",
    "data1.describe() #statistical details of the dataset"
   ]
  },
  {
   "cell_type": "code",
   "execution_count": 21,
   "metadata": {},
   "outputs": [
    {
     "data": {
      "text/plain": [
       "0     80.0\n",
       "1     71.0\n",
       "2     47.0\n",
       "3     53.0\n",
       "4     47.0\n",
       "5     43.0\n",
       "6     50.0\n",
       "7     28.0\n",
       "8     31.0\n",
       "9     39.0\n",
       "10    42.0\n",
       "11    32.0\n",
       "12    32.0\n",
       "13    11.0\n",
       "14    33.0\n",
       "15    18.0\n",
       "16    42.0\n",
       "Name: Exam_Score, dtype: float64"
      ]
     },
     "execution_count": 21,
     "metadata": {},
     "output_type": "execute_result"
    }
   ],
   "source": [
    "for i in x:\n",
    "    pred_y =round((1.4050592141122842*x) + -52.36011595064668,0)\n",
    "pred_y"
   ]
  },
  {
   "cell_type": "code",
   "execution_count": 22,
   "metadata": {},
   "outputs": [
    {
     "data": {
      "text/plain": [
       "1128.0"
      ]
     },
     "execution_count": 22,
     "metadata": {},
     "output_type": "execute_result"
    }
   ],
   "source": [
    "                            # Standard Error of the Estimate used in Regression Analysis \n",
    "total = 0\n",
    "for i in range(17):\n",
    "    total+=((y[i]-pred_y[i])**2)\n",
    "total"
   ]
  },
  {
   "cell_type": "code",
   "execution_count": 25,
   "metadata": {},
   "outputs": [],
   "source": [
    "new_regression = m*x + c + error\n",
    "new2 = m*x +c + 6\n",
    "new3 = m*x +c + 4\n",
    "new4 = m*x +c +2\n",
    "new5 = m*x +c -1\n",
    "new6 = m*x +c -3"
   ]
  },
  {
   "cell_type": "code",
   "execution_count": 26,
   "metadata": {},
   "outputs": [
    {
     "data": {
      "image/png": "[encoded data removed]",
      "text/plain": [
       "<Figure size 432x288 with 1 Axes>"
      ]
     },
     "metadata": {
      "needs_background": "light"
     },
     "output_type": "display_data"
    }
   ],
   "source": [
    "                            # New Regression line\n",
    "plt.scatter(x,y,edgecolor = 'black',\n",
    "            linewidth = 1,alpha = .75) \n",
    "plt.scatter(x,new2,color = 'yellow')\n",
    "plt.scatter(x,new_regression,color = 'orange')\n",
    "plt.scatter(x,new3,color = 'black')\n",
    "plt.scatter(x,new5,color = 'green')\n",
    "plt.scatter(x,new4,color = 'pink')\n",
    "plt.scatter(x,new6,color = 'blue')\n",
    "plt.scatter(x,regression,color = 'red')\n",
    "\n",
    "plt.title('Students Performance')\n",
    "plt.xlabel('Exam_Score')\n",
    "plt.ylabel('Revision_Time')\n",
    "plt.tight_layout()"
   ]
  },
  {
   "cell_type": "code",
   "execution_count": 24,
   "metadata": {},
   "outputs": [
    {
     "data": {
      "text/plain": [
       "8.0"
      ]
     },
     "execution_count": 24,
     "metadata": {},
     "output_type": "execute_result"
    }
   ],
   "source": [
    "n= len(y)\n",
    "error = round((total/n-2)**.5,0)\n",
    "error"
   ]
  },
  {
   "cell_type": "code",
   "execution_count": 98,
   "metadata": {},
   "outputs": [
    {
     "data": {
      "image/png": "[encoded data removed]",
      "text/plain": [
       "<Figure size 432x288 with 1 Axes>"
      ]
     },
     "metadata": {
      "needs_background": "light"
     },
     "output_type": "display_data"
    }
   ],
   "source": [
    "plt.scatter(x,y,edgecolor = 'black',\n",
    "            linewidth = 1,alpha = .75) \n",
    "#plt.plot([min(x), max(x)], [min(new_regression), max(new_regression)], color='orange')\n",
    "#plt.plot([min(x), max(x)], [min(new2), max(new2)], color='yellow')\n",
    "#plt.plot([min(x), max(x)], [min(regression), max(regression)], color='red')\n",
    "#plt.plot([min(x), max(x)], [min(new3), max(new3)], color='black')\n",
    "#plt.plot([min(x), max(x)], [min(new4), max(new4)], color='pink')\n",
    "plt.plot([min(x), max(x)], [min(new5), max(new5)], color='green')\n",
    "#plt.plot([min(x), max(x)], [min(new6), max(new6)], color='blue')\n",
    "\n",
    "plt.title('Students Performance')\n",
    "plt.xlabel('Exam_Score')\n",
    "plt.ylabel('Revision_Time')\n",
    "plt.tight_layout()"
   ]
  },
  {
   "cell_type": "code",
   "execution_count": 53,
   "metadata": {},
   "outputs": [],
   "source": [
    "                                 #Goodness of fit\n",
    "# Checking assumptions with Residual\n",
    "# R2 = R-squared is a statistical measure of how close the data are to the fitted regression line. \n",
    "#      It is also known as the coefficient of determination, or the coefficient of multiple determination \n",
    "# Chi-squared test"
   ]
  },
  {
   "cell_type": "code",
   "execution_count": 74,
   "metadata": {},
   "outputs": [
    {
     "name": "stdout",
     "output_type": "stream",
     "text": [
      "0.8087276012049545\n"
     ]
    }
   ],
   "source": [
    "                                # Calculating R2\n",
    "def r2(observed,expected):\n",
    "    correlation_matrix= np.corrcoef(observed,expected)\n",
    "    correlation_xy = correlation_matrix[0,1]\n",
    "    r_squared = correlation_xy**2.\n",
    "    print(r_squared)\n",
    "r2(y,regression)"
   ]
  },
  {
   "cell_type": "code",
   "execution_count": 75,
   "metadata": {},
   "outputs": [
    {
     "name": "stdout",
     "output_type": "stream",
     "text": [
      "0.8087276012049545\n"
     ]
    }
   ],
   "source": [
    "r2(y,new_regression)"
   ]
  },
  {
   "cell_type": "code",
   "execution_count": 76,
   "metadata": {},
   "outputs": [
    {
     "name": "stdout",
     "output_type": "stream",
     "text": [
      "0.8087276012049545\n"
     ]
    }
   ],
   "source": [
    "r2(y,new2)"
   ]
  },
  {
   "cell_type": "code",
   "execution_count": 77,
   "metadata": {},
   "outputs": [
    {
     "name": "stdout",
     "output_type": "stream",
     "text": [
      "0.8087276012049545\n"
     ]
    }
   ],
   "source": [
    "r2(y,new3)"
   ]
  },
  {
   "cell_type": "code",
   "execution_count": 79,
   "metadata": {},
   "outputs": [
    {
     "name": "stdout",
     "output_type": "stream",
     "text": [
      "0.8087276012049545\n"
     ]
    }
   ],
   "source": [
    "r2(y,new4)"
   ]
  },
  {
   "cell_type": "code",
   "execution_count": 78,
   "metadata": {},
   "outputs": [
    {
     "name": "stdout",
     "output_type": "stream",
     "text": [
      "0.8087276012049545\n"
     ]
    }
   ],
   "source": [
    "r2(y,new5)"
   ]
  },
  {
   "cell_type": "code",
   "execution_count": 80,
   "metadata": {},
   "outputs": [
    {
     "name": "stdout",
     "output_type": "stream",
     "text": [
      "0.8087276012049545\n"
     ]
    }
   ],
   "source": [
    "r2(y,new6)"
   ]
  },
  {
   "cell_type": "code",
   "execution_count": 27,
   "metadata": {},
   "outputs": [
    {
     "name": "stdout",
     "output_type": "stream",
     "text": [
      "41.502642458736105\n"
     ]
    }
   ],
   "source": [
    "                                          # Calculating Chi-Squared\n",
    "def x2(observed,expected):\n",
    "    total = 0\n",
    "    for i in range(17):\n",
    "        total+=(observed[i]-expected[i])**2/expected[i]\n",
    "    print(total)\n",
    "regression_x2 = x2(y,regression)"
   ]
  },
  {
   "cell_type": "code",
   "execution_count": 28,
   "metadata": {},
   "outputs": [
    {
     "name": "stdout",
     "output_type": "stream",
     "text": [
      "66.67489917379481\n"
     ]
    }
   ],
   "source": [
    "new_regression_x2 = x2(y,new_regression)"
   ]
  },
  {
   "cell_type": "code",
   "execution_count": 29,
   "metadata": {},
   "outputs": [
    {
     "name": "stdout",
     "output_type": "stream",
     "text": [
      "56.98204920970884\n"
     ]
    }
   ],
   "source": [
    "new2_x2=x2(y,new2)"
   ]
  },
  {
   "cell_type": "code",
   "execution_count": 30,
   "metadata": {},
   "outputs": [
    {
     "name": "stdout",
     "output_type": "stream",
     "text": [
      "49.35367266835597\n"
     ]
    }
   ],
   "source": [
    "new3_x2 = x2(y,new3)"
   ]
  },
  {
   "cell_type": "code",
   "execution_count": 31,
   "metadata": {},
   "outputs": [
    {
     "name": "stdout",
     "output_type": "stream",
     "text": [
      "44.07796798586588\n"
     ]
    }
   ],
   "source": [
    "new4_x2 = x2(y,new4)"
   ]
  },
  {
   "cell_type": "code",
   "execution_count": 32,
   "metadata": {},
   "outputs": [
    {
     "name": "stdout",
     "output_type": "stream",
     "text": [
      "41.35670364941712\n"
     ]
    }
   ],
   "source": [
    "new5_x2 = x2(y,new5)"
   ]
  },
  {
   "cell_type": "code",
   "execution_count": 33,
   "metadata": {},
   "outputs": [
    {
     "name": "stdout",
     "output_type": "stream",
     "text": [
      "43.65859315301399\n"
     ]
    }
   ],
   "source": [
    "new6_x2 = x2(y,new6)"
   ]
  },
  {
   "cell_type": "code",
   "execution_count": 42,
   "metadata": {},
   "outputs": [
    {
     "name": "stdout",
     "output_type": "stream",
     "text": [
      "0.042\n",
      "0.067\n",
      "0.057\n",
      "0.049\n",
      "0.044\n",
      "0.041\n",
      "0.044\n"
     ]
    }
   ],
   "source": [
    "#Finding the p-value of chi-squared\n",
    "x2=[41.502642458736105,66.67489917379481,56.98204920970884,49.35367266835597,44.07796798586588,41.35670364941712,\n",
    "    43.65859315301399]\n",
    "for i in x2:\n",
    "    print(round(i/1000,3))#0.041 is the smallest p-value .041<.05"
   ]
  },
  {
   "cell_type": "code",
   "execution_count": 1,
   "metadata": {},
   "outputs": [],
   "source": [
    "                              # Checking assumptions with Residual\n",
    "#1.Linearity\n",
    "#2.Homoscedasticity\n",
    "#3.Independence of errors\n",
    "#4.Normality of error distrubtion"
   ]
  },
  {
   "cell_type": "code",
   "execution_count": null,
   "metadata": {},
   "outputs": [],
   "source": []
  }
 ],
 "metadata": {
  "kernelspec": {
   "display_name": "Python 3",
   "language": "python",
   "name": "python3"
  },
  "language_info": {
   "codemirror_mode": {
    "name": "ipython",
    "version": 3
   },
   "file_extension": ".py",
   "mimetype": "text/x-python",
   "name": "python",
   "nbconvert_exporter": "python",
   "pygments_lexer": "ipython3",
   "version": "3.7.6"
  }
 },
 "nbformat": 4,
 "nbformat_minor": 2
}
