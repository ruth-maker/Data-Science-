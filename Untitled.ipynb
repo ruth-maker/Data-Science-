{
 "cells": [
  {
   "cell_type": "code",
   "execution_count": null,
   "metadata": {},
   "outputs": [],
   "source": [
    "plt.scatter(view_count,likes,edgecolor = 'black',\n",
    "            linewidth = 1,alpha = .75) \n",
    "plt.plot([min(view_count), max(view_count)], [min(regression), max(regression)], color='red')\n",
    "plt.title('Trending Youtube Videos')\n",
    "plt.xlabel('View Count')\n",
    "plt.ylabel('Total Likes')\n",
    "plt.tight_layout()\n",
    "\n",
    "plt.xscale('log') \n",
    "plt.yscale('log')"
   ]
  }
 ],
 "metadata": {
  "kernelspec": {
   "display_name": "Python 3",
   "language": "python",
   "name": "python3"
  },
  "language_info": {
   "codemirror_mode": {
    "name": "ipython",
    "version": 3
   },
   "file_extension": ".py",
   "mimetype": "text/x-python",
   "name": "python",
   "nbconvert_exporter": "python",
   "pygments_lexer": "ipython3",
   "version": "3.7.4"
  }
 },
 "nbformat": 4,
 "nbformat_minor": 2
}
