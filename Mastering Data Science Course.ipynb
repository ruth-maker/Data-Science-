{
 "cells": [
  {
   "cell_type": "code",
   "execution_count": 1,
   "metadata": {},
   "outputs": [
    {
     "data": {
      "text/plain": [
       "1234.0"
      ]
     },
     "execution_count": 1,
     "metadata": {},
     "output_type": "execute_result"
    }
   ],
   "source": [
    "words = '1234'\n",
    "\n",
    "words\n",
    "\n",
    "int(words)\n",
    "\n",
    "float(words)"
   ]
  },
  {
   "cell_type": "markdown",
   "metadata": {},
   "source": []
  },
  {
   "cell_type": "code",
   "execution_count": 7,
   "metadata": {},
   "outputs": [
    {
     "data": {
      "text/plain": [
       "('1', '2', '3', '4')"
      ]
     },
     "execution_count": 7,
     "metadata": {},
     "output_type": "execute_result"
    }
   ],
   "source": [
    "tuple(words)"
   ]
  },
  {
   "cell_type": "code",
   "execution_count": 8,
   "metadata": {},
   "outputs": [
    {
     "data": {
      "text/plain": [
       "str"
      ]
     },
     "execution_count": 8,
     "metadata": {},
     "output_type": "execute_result"
    }
   ],
   "source": [
    "type(words)"
   ]
  },
  {
   "cell_type": "code",
   "execution_count": 10,
   "metadata": {},
   "outputs": [],
   "source": [
    "newword = tuple(words)"
   ]
  },
  {
   "cell_type": "code",
   "execution_count": 11,
   "metadata": {},
   "outputs": [
    {
     "data": {
      "text/plain": [
       "tuple"
      ]
     },
     "execution_count": 11,
     "metadata": {},
     "output_type": "execute_result"
    }
   ],
   "source": [
    "type(words)\n",
    "type(newword)"
   ]
  },
  {
   "cell_type": "code",
   "execution_count": 12,
   "metadata": {},
   "outputs": [
    {
     "data": {
      "text/plain": [
       "str"
      ]
     },
     "execution_count": 12,
     "metadata": {},
     "output_type": "execute_result"
    }
   ],
   "source": [
    "type(words)"
   ]
  },
  {
   "cell_type": "code",
   "execution_count": 13,
   "metadata": {},
   "outputs": [
    {
     "data": {
      "text/plain": [
       "(1, 2, 3, 4, 5, 6)"
      ]
     },
     "execution_count": 13,
     "metadata": {},
     "output_type": "execute_result"
    }
   ],
   "source": [
    "tuple([1,2,3,4,5,6])"
   ]
  },
  {
   "cell_type": "code",
   "execution_count": 14,
   "metadata": {},
   "outputs": [
    {
     "data": {
      "text/plain": [
       "{'e', 'h', 'l', 'o'}"
      ]
     },
     "execution_count": 14,
     "metadata": {},
     "output_type": "execute_result"
    }
   ],
   "source": [
    "set('hello')"
   ]
  },
  {
   "cell_type": "code",
   "execution_count": 53,
   "metadata": {},
   "outputs": [
    {
     "name": "stdout",
     "output_type": "stream",
     "text": [
      "Please enter a number: 122222\n",
      "122222 is greater than ten!\n"
     ]
    }
   ],
   "source": [
    "user_input = int(input('Please enter a number: '))\n",
    "if user_input > 10:\n",
    "    print(user_input, 'is greater than ten!')\n",
    "elif user_input == 10:\n",
    "     print(user_input, 'is equal to ten!')\n",
    "else:\n",
    "    print(user_input, 'is less than ten!')"
   ]
  },
  {
   "cell_type": "code",
   "execution_count": 22,
   "metadata": {},
   "outputs": [
    {
     "data": {
      "text/plain": [
       "['a', 'n', 't']"
      ]
     },
     "execution_count": 22,
     "metadata": {},
     "output_type": "execute_result"
    }
   ],
   "source": [
    "list(tuple(\"ant\") )"
   ]
  },
  {
   "cell_type": "code",
   "execution_count": 36,
   "metadata": {},
   "outputs": [
    {
     "name": "stdout",
     "output_type": "stream",
     "text": [
      "p\n",
      "a\n",
      "o\n"
     ]
    }
   ],
   "source": [
    "for n in ['apple', 'amazon', 'google']:\n",
    "    print(n[2])    "
   ]
  },
  {
   "cell_type": "code",
   "execution_count": 38,
   "metadata": {},
   "outputs": [
    {
     "name": "stdout",
     "output_type": "stream",
     "text": [
      "0\n",
      "2\n",
      "4\n",
      "6\n",
      "8\n"
     ]
    }
   ],
   "source": [
    "num = 0,1,2,3,4,5,6,7,8,9\n",
    "for g in num [0::2]:\n",
    "    print(g)"
   ]
  },
  {
   "cell_type": "code",
   "execution_count": 37,
   "metadata": {},
   "outputs": [
    {
     "name": "stdout",
     "output_type": "stream",
     "text": [
      "apple\n",
      "google\n"
     ]
    }
   ],
   "source": [
    "for n in ['apple', 'amazon', 'google'][0::2]:\n",
    "    print(n)"
   ]
  },
  {
   "cell_type": "code",
   "execution_count": 1,
   "metadata": {},
   "outputs": [
    {
     "data": {
      "text/plain": [
       "range(0, 5)"
      ]
     },
     "execution_count": 1,
     "metadata": {},
     "output_type": "execute_result"
    }
   ],
   "source": [
    "range(5)"
   ]
  },
  {
   "cell_type": "code",
   "execution_count": 3,
   "metadata": {},
   "outputs": [
    {
     "name": "stdout",
     "output_type": "stream",
     "text": [
      "0\n",
      "3\n",
      "6\n",
      "9\n",
      "12\n",
      "15\n",
      "18\n",
      "21\n",
      "24\n",
      "27\n",
      "30\n"
     ]
    }
   ],
   "source": [
    "for r in range(0,33)[0::3]:\n",
    "    print(r)"
   ]
  },
  {
   "cell_type": "code",
   "execution_count": 30,
   "metadata": {},
   "outputs": [
    {
     "name": "stdout",
     "output_type": "stream",
     "text": [
      "nme:\n",
      "age:\n",
      "race:\n",
      "type:\n",
      "nme: ruth\n",
      "age: 20\n",
      "race: nigerian\n",
      "type: critical\n",
      "('nme:', 'ruth')\n",
      "('age:', 20)\n",
      "('race:', 'nigerian')\n",
      "('type:', 'critical')\n",
      "nme:\n",
      "age:\n",
      "race:\n",
      "type:\n",
      "ruth\n",
      "20\n",
      "nigerian\n",
      "critical\n"
     ]
    }
   ],
   "source": [
    "things = {'nme:': 'ruth', 'age:':20 ,'race:':'nigerian','type:':'critical'}\n",
    "for key in things:\n",
    "    print(key)\n",
    "    \n",
    "for k,v in things.items():\n",
    "    print(k,v)\n",
    "\n",
    "for i in things.items():\n",
    "    print(i)\n",
    "    \n",
    "for keys in things.keys():\n",
    "    print(keys)\n",
    "\n",
    "for values in things.values():\n",
    "    print(values)    \n",
    "    "
   ]
  },
  {
   "cell_type": "code",
   "execution_count": 35,
   "metadata": {},
   "outputs": [
    {
     "name": "stdout",
     "output_type": "stream",
     "text": [
      "0\n",
      "1\n",
      "2\n",
      "3\n",
      "4\n",
      "5\n",
      "0\n",
      "1\n",
      "2\n",
      "3\n",
      "4\n"
     ]
    }
   ],
   "source": [
    "for i in range(10):\n",
    "    print(i)\n",
    "    if i is 5:\n",
    "        break\n",
    "        \n",
    "for i in range(10):\n",
    "    if i is 5:\n",
    "        break\n",
    "    print(i)\n",
    "        "
   ]
  },
  {
   "cell_type": "code",
   "execution_count": 45,
   "metadata": {},
   "outputs": [
    {
     "name": "stdout",
     "output_type": "stream",
     "text": [
      "1\n",
      "3\n",
      "5\n",
      "7\n",
      "9\n"
     ]
    }
   ],
   "source": [
    "for i in range(10): # get odd numbers put continue first \n",
    "    if i % 2 == 0:\n",
    "        continue\n",
    "    print(i)\n"
   ]
  },
  {
   "cell_type": "code",
   "execution_count": 43,
   "metadata": {},
   "outputs": [
    {
     "name": "stdout",
     "output_type": "stream",
     "text": [
      "0\n",
      "2\n",
      "4\n",
      "6\n",
      "8\n"
     ]
    }
   ],
   "source": [
    "for i in range(10): #get even numbers put continue last \n",
    "    if i % 2 == 0:\n",
    "        print(i) \n",
    "    else:continue"
   ]
  },
  {
   "cell_type": "code",
   "execution_count": 44,
   "metadata": {},
   "outputs": [
    {
     "name": "stdout",
     "output_type": "stream",
     "text": [
      "0\n",
      "1\n",
      "2\n",
      "3\n",
      "4\n",
      "5\n",
      "6\n",
      "7\n",
      "8\n",
      "9\n"
     ]
    }
   ],
   "source": [
    "for i in range(10): #dosen't do anything\n",
    "    print(i)\n",
    "    if i % 2 == 0:\n",
    "        continue\n",
    "        "
   ]
  },
  {
   "cell_type": "code",
   "execution_count": 48,
   "metadata": {},
   "outputs": [
    {
     "name": "stdout",
     "output_type": "stream",
     "text": [
      "0 ruth\n",
      "ruth 0\n",
      "0 alex\n",
      "alex 0\n",
      "0 jane\n",
      "jane 0\n",
      "0 mary\n",
      "mary 0\n",
      "0 david\n",
      "david 0\n",
      "1 ruth\n",
      "ruth 1\n",
      "1 alex\n",
      "alex 1\n",
      "1 jane\n",
      "jane 1\n",
      "1 mary\n",
      "mary 1\n",
      "1 david\n",
      "david 1\n",
      "2 ruth\n",
      "ruth 2\n",
      "2 alex\n",
      "alex 2\n",
      "2 jane\n",
      "jane 2\n",
      "2 mary\n",
      "mary 2\n",
      "2 david\n",
      "david 2\n",
      "3 ruth\n",
      "ruth 3\n",
      "3 alex\n",
      "alex 3\n",
      "3 jane\n",
      "jane 3\n",
      "3 mary\n",
      "mary 3\n",
      "3 david\n",
      "david 3\n"
     ]
    }
   ],
   "source": [
    "#The matrix\n",
    "for i in range(4):\n",
    "    for j in ['ruth', 'alex','jane', 'mary', 'david']:\n",
    "        print(i,j)\n",
    "        print(j,i)\n",
    "\n"
   ]
  },
  {
   "cell_type": "code",
   "execution_count": 50,
   "metadata": {},
   "outputs": [
    {
     "name": "stdout",
     "output_type": "stream",
     "text": [
      "6\n"
     ]
    }
   ],
   "source": [
    "count = 6\n",
    "while count > 5:\n",
    "    print(count)\n",
    "    count = 0 "
   ]
  },
  {
   "cell_type": "code",
   "execution_count": 52,
   "metadata": {},
   "outputs": [
    {
     "name": "stdout",
     "output_type": "stream",
     "text": [
      "google\n",
      "intel\n",
      "amazon\n",
      "dell\n"
     ]
    }
   ],
   "source": [
    "count = 0\n",
    "companies = ['google','intel', 'amazon', 'dell']\n",
    "while count < len(companies):\n",
    "    print(companies[count])\n",
    "    count+=1"
   ]
  },
  {
   "cell_type": "code",
   "execution_count": 56,
   "metadata": {},
   "outputs": [
    {
     "name": "stdout",
     "output_type": "stream",
     "text": [
      "Please enter a number: 123\n",
      "Please enter another number479\n",
      "The total of the numbers you entered is 602\n"
     ]
    }
   ],
   "source": [
    "# Problem 1\n",
    "number =  int(input('Please enter a number: '))\n",
    "number2 = int(input('Please enter another number: '))\n",
    "total = number + number2\n",
    "print('The total of the numbers you entered is',total)"
   ]
  },
  {
   "cell_type": "code",
   "execution_count": 2,
   "metadata": {},
   "outputs": [
    {
     "name": "stdout",
     "output_type": "stream",
     "text": [
      "Please enter your name:  Ruth\n",
      "Please enter a number: 12\n",
      "RuthRuthRuthRuthRuthRuthRuthRuthRuthRuthRuthRuth\n"
     ]
    }
   ],
   "source": [
    "# Problem 2\n",
    "# Example 1\n",
    "name = input('Please enter your name:  ')\n",
    "num = int(input('Please enter a number: '))\n",
    "total = name  *  num\n",
    "print(total)\n"
   ]
  },
  {
   "cell_type": "code",
   "execution_count": 3,
   "metadata": {},
   "outputs": [
    {
     "name": "stdout",
     "output_type": "stream",
     "text": [
      "Please enter your name:  Ruth\n",
      "Please enter a number: 12\n",
      "Ruth\n",
      "Ruth\n",
      "Ruth\n",
      "Ruth\n",
      "Ruth\n",
      "Ruth\n",
      "Ruth\n",
      "Ruth\n",
      "Ruth\n",
      "Ruth\n",
      "Ruth\n",
      "Ruth\n"
     ]
    }
   ],
   "source": [
    "# Example 2 \n",
    "name = input('Please enter your name:  ')\n",
    "num = int(input('Please enter a number: '))\n",
    "\n",
    "for n in range(num):\n",
    "    print(name)"
   ]
  },
  {
   "cell_type": "code",
   "execution_count": 1,
   "metadata": {},
   "outputs": [
    {
     "name": "stdout",
     "output_type": "stream",
     "text": [
      "Please enter your name:  Ruth\n",
      "Please enter a number: 12\n",
      "Ruth\n",
      "Ruth\n",
      "Ruth\n",
      "Ruth\n",
      "Ruth\n",
      "Ruth\n",
      "Ruth\n",
      "Ruth\n",
      "Ruth\n",
      "Ruth\n",
      "Ruth\n",
      "Ruth\n"
     ]
    }
   ],
   "source": [
    "# Example 3\n",
    "name = input('Please enter your name:  ')\n",
    "num = int(input('Please enter a number: '))\n",
    "count  = 0\n",
    "while count< num:\n",
    "    print(name)\n",
    "    count+=1"
   ]
  },
  {
   "cell_type": "code",
   "execution_count": 5,
   "metadata": {},
   "outputs": [
    {
     "name": "stdout",
     "output_type": "stream",
     "text": [
      "Please enter your name:  Ruth\n",
      "Please enter a number: 12\n",
      "Ruth\n",
      "Ruth\n",
      "Ruth\n",
      "Ruth\n",
      "Ruth\n",
      "Ruth\n",
      "Ruth\n",
      "Ruth\n",
      "Ruth\n",
      "Ruth\n",
      "Ruth\n",
      "Ruth\n"
     ]
    }
   ],
   "source": [
    "# Example 4\n",
    "name = input('Please enter your name:  ')\n",
    "num = int(input('Please enter a number: '))\n",
    "count  = 1\n",
    "while count< ( 1 + num):\n",
    "    print(name)\n",
    "    count+=1"
   ]
  },
  {
   "cell_type": "code",
   "execution_count": 1,
   "metadata": {},
   "outputs": [
    {
     "name": "stdout",
     "output_type": "stream",
     "text": [
      "Please eneter a number: 2\n",
      "0\n",
      "2\n",
      "4\n",
      "6\n",
      "8\n",
      "10\n",
      "12\n",
      "14\n",
      "16\n",
      "18\n",
      "20\n"
     ]
    }
   ],
   "source": [
    "# Problem 3\n",
    "# Example 1\n",
    "num = int(input('Please eneter a number: '))\n",
    "for i in range(1):\n",
    "    print(num * 0)\n",
    "    print(num * 1)\n",
    "    print(num * 2)\n",
    "    print(num * 3)\n",
    "    print(num * 4)\n",
    "    print(num * 5)\n",
    "    print(num * 6)\n",
    "    print(num * 7)\n",
    "    print(num * 8)\n",
    "    print(num * 9)\n",
    "    print(num * 10)"
   ]
  },
  {
   "cell_type": "code",
   "execution_count": 4,
   "metadata": {},
   "outputs": [
    {
     "name": "stdout",
     "output_type": "stream",
     "text": [
      "Please eneter a number: 2\n",
      "0\n",
      "2\n",
      "4\n",
      "6\n",
      "8\n",
      "10\n",
      "12\n",
      "14\n",
      "16\n",
      "18\n",
      "20\n"
     ]
    }
   ],
   "source": [
    "# Example 2\n",
    "num = int(input('Please eneter a number: '))\n",
    "for i in range(11):\n",
    "    print(num * i)\n",
    "    "
   ]
  },
  {
   "cell_type": "code",
   "execution_count": 6,
   "metadata": {},
   "outputs": [
    {
     "name": "stdout",
     "output_type": "stream",
     "text": [
      "Please eneter a number: 2\n",
      "Please enter another number: 4\n",
      "6 Adding both numbers!\n",
      "-2 Subbtracting both numbers!\n",
      "8 Multiplying both numbers! \n",
      "0 Dividing bithe numbers! \n"
     ]
    }
   ],
   "source": [
    "#Problem 4\n",
    "#Example 1\n",
    "num = int(input('Please eneter a number: '))\n",
    "num2 = int(input('Please enter another number: '))\n",
    "for i in range(1):\n",
    "    print(num + num2, 'Adding both numbers!')\n",
    "    print(num - num2, 'Subbtracting both numbers!')\n",
    "    print(num * num2, 'Multiplying both numbers! ')\n",
    "    print(num // num2, 'Dividing both numbers! ')"
   ]
  },
  {
   "cell_type": "code",
   "execution_count": 2,
   "metadata": {},
   "outputs": [
    {
     "name": "stdout",
     "output_type": "stream",
     "text": [
      "Please eneter a number: 43\n",
      "Please enter another number: 67\n",
      "Please enter the math symbol you will like to operate on these numbers, for division use //: *\n",
      "2881 Multiplying both numbers! \n"
     ]
    }
   ],
   "source": [
    "#Example 2\n",
    "num = int(input('Please eneter a number: '))\n",
    "num2 = int(input('Please enter another number: '))\n",
    "num3 = input('Please enter the math symbol you will like to operate on these numbers, for division use //: ')\n",
    "if num3 == '+':\n",
    "    print(num + num2, 'Adding both numbers!')\n",
    "elif num3 == '-':\n",
    "     print(num - num2, 'Subbtracting both numbers!')\n",
    "elif num3 == '*':    \n",
    "      print(num * num2, 'Multiplying both numbers! ')\n",
    "elif num3 == '//':       \n",
    "    print(num // num2, 'Dividing both numbers! ')\n",
    "else:\n",
    "    print('Wrong symbol!')"
   ]
  },
  {
   "cell_type": "code",
   "execution_count": 5,
   "metadata": {},
   "outputs": [
    {
     "data": {
      "text/plain": [
       "8"
      ]
     },
     "execution_count": 5,
     "metadata": {},
     "output_type": "execute_result"
    }
   ],
   "source": [
    "#Problem 5, finding the lenght without using the len()func\n",
    "wordlist = [1,2,3,4,5,6,7,8]\n",
    "count = 0\n",
    "for i in wordlist:\n",
    "    count+=1\n",
    "    \n",
    "count\n"
   ]
  },
  {
   "cell_type": "code",
   "execution_count": 11,
   "metadata": {},
   "outputs": [
    {
     "data": {
      "text/plain": [
       "8"
      ]
     },
     "execution_count": 11,
     "metadata": {},
     "output_type": "execute_result"
    }
   ],
   "source": [
    "#Problem 6, finding the Max without using the max()func\n",
    "#Example 1\n",
    "wordlist = [2,4,5,6,7,8,4]\n",
    "maxx = wordlist[0]\n",
    "for i in wordlist:\n",
    "    if i > maxx:\n",
    "         maxx = i\n",
    "maxx        "
   ]
  },
  {
   "cell_type": "code",
   "execution_count": 12,
   "metadata": {},
   "outputs": [
    {
     "data": {
      "text/plain": [
       "1"
      ]
     },
     "execution_count": 12,
     "metadata": {},
     "output_type": "execute_result"
    }
   ],
   "source": [
    "#Example 2, finding the min\n",
    "wordlist = [2,4,5,6,7,8,1]\n",
    "minn = wordlist[0]\n",
    "for i in wordlist:\n",
    "    if i < minn:\n",
    "         minn = i\n",
    "minn        "
   ]
  },
  {
   "cell_type": "code",
   "execution_count": 15,
   "metadata": {},
   "outputs": [
    {
     "name": "stdout",
     "output_type": "stream",
     "text": [
      "Avg: 41\n"
     ]
    }
   ],
   "source": [
    "#Problem 7, finding the average\n",
    "wordlist = [2,3,4,5,6,7,8,9]\n",
    "total = 0\n",
    "for i in wordlist:\n",
    "    total+= i\n",
    "    \n",
    "count = 0\n",
    "for l in wordlist:\n",
    "     count+=1\n",
    "\n",
    "avg= total // count\n",
    "avg\n",
    " \n",
    "#Simplifiied\n",
    "wordlist2 = [2,44,5,67,89]\n",
    "count2 = 0\n",
    "total2 = 0\n",
    "for e in wordlist2:\n",
    "    total2+= e\n",
    "    count2+= 1 \n",
    "print('Avg:',total2//count2)\n",
    "    \n",
    "\n",
    "    "
   ]
  },
  {
   "cell_type": "code",
   "execution_count": 5,
   "metadata": {},
   "outputs": [
    {
     "data": {
      "text/plain": [
       "9"
      ]
     },
     "execution_count": 5,
     "metadata": {},
     "output_type": "execute_result"
    }
   ],
   "source": [
    "# Brainstorm for problem 7\n",
    "wordlist = [2,3,4]\n",
    "total = 0\n",
    "for i in wordlist:\n",
    "    total+= i\n",
    "total"
   ]
  },
  {
   "cell_type": "code",
   "execution_count": 27,
   "metadata": {},
   "outputs": [
    {
     "name": "stdout",
     "output_type": "stream",
     "text": [
      "Please enter a number:12\n",
      "12 is not divisible by 7 or 5!\n"
     ]
    }
   ],
   "source": [
    "# Problem 8\n",
    "recieve = int(input('Please enter a number:'))\n",
    "\n",
    "if recieve % 7 == 0 and recieve % 5 == 0:\n",
    "    print(recieve,'is divisible by 7 and 5!')\n",
    "elif recieve % 5 == 0:\n",
    "    print(recieve,'is divisilbe by 5!')\n",
    "elif recieve % 7 == 0:\n",
    "    print(recieve,'is divisible by 7!')\n",
    "else:\n",
    "    print(recieve, 'is not divisible by 7 or 5!')"
   ]
  },
  {
   "cell_type": "code",
   "execution_count": 32,
   "metadata": {},
   "outputs": [
    {
     "name": "stdout",
     "output_type": "stream",
     "text": [
      "Please enter a wrod or sentenc:my name is ruth ovuike\n",
      "There are 2 'e'in your word or sentence!\n"
     ]
    }
   ],
   "source": [
    "# Problem 9\n",
    "word = input('Please enter a wrod or sentenc:')\n",
    "total = 0\n",
    "for i in word:\n",
    "    if i == 'e':\n",
    "        total+= 1\n",
    "print(\"There are %d 'e'in your word or sentence!\" % total)\n"
   ]
  },
  {
   "cell_type": "code",
   "execution_count": 34,
   "metadata": {},
   "outputs": [
    {
     "name": "stdout",
     "output_type": "stream",
     "text": [
      "Judy\n",
      "Athira\n",
      "Anu\n"
     ]
    }
   ],
   "source": [
    "# Problem 10\n",
    "mathscores = {'Judy':94, 'Niti':88, 'Athira':97, 'Anu':93, 'Ram':55}\n",
    "for k,v in mathscores.items():\n",
    "    if v > 90:\n",
    "        print(k)"
   ]
  },
  {
   "cell_type": "code",
   "execution_count": 36,
   "metadata": {},
   "outputs": [
    {
     "name": "stdout",
     "output_type": "stream",
     "text": [
      "Ram 65\n"
     ]
    }
   ],
   "source": [
    "# Problem 11\n",
    "mathscores = {'Judy':94, 'Niti':88, 'Athira':97, 'Anu':93, 'Ram':55}\n",
    "for k,v in mathscores.items():\n",
    "    if v > 50 and v < 60:\n",
    "        v+= 10\n",
    "        print(k,v)\n"
   ]
  },
  {
   "cell_type": "code",
   "execution_count": 38,
   "metadata": {},
   "outputs": [
    {
     "name": "stdout",
     "output_type": "stream",
     "text": [
      "Please enter a sentence:AEIOUAAAEEEEE\n",
      "You have 13 vowels in your sentence!\n"
     ]
    }
   ],
   "source": [
    "# Problem 12\n",
    "vowels = input('Please enter a sentence:')\n",
    "count = 0\n",
    "for i in vowels:\n",
    "    if i == 'a' or i == 'A':\n",
    "        count+=1\n",
    "    elif i == 'e'or i == 'E':\n",
    "        count+=1\n",
    "    elif i == 'i'or i == 'I':\n",
    "        count+=1\n",
    "    elif i == 'o'or i == 'O':\n",
    "        count+=1\n",
    "    elif i == 'u'or i == 'U':\n",
    "        count+=1\n",
    "        \n",
    "print('You have %d vowels in your sentence!'%count)"
   ]
  },
  {
   "cell_type": "code",
   "execution_count": 40,
   "metadata": {},
   "outputs": [
    {
     "name": "stdout",
     "output_type": "stream",
     "text": [
      "Please enter a sentce:aeooouuu\n",
      "You have 8 vowels in your sentence!\n"
     ]
    }
   ],
   "source": [
    "#Problem 12 Similfied\n",
    "vowels = input ('Please enter a sentce:')\n",
    "count = 0\n",
    "vow1 = ['a','A','e','E','i','I','o','O','u','U']\n",
    "for i in vowels:\n",
    "    if i in vow1:\n",
    "        count+=1\n",
    "print('You have %d vowels in your sentence!'%count)"
   ]
  },
  {
   "cell_type": "code",
   "execution_count": 45,
   "metadata": {},
   "outputs": [
    {
     "name": "stdout",
     "output_type": "stream",
     "text": [
      "Please enter names of student: mary,paul,steve\n"
     ]
    },
    {
     "data": {
      "text/plain": [
       "{'mary': 0, 'paul': 0, 'steve': 0}"
      ]
     },
     "execution_count": 45,
     "metadata": {},
     "output_type": "execute_result"
    }
   ],
   "source": [
    "# Problem 13\n",
    "names = input('Please enter names of student: ')\n",
    "userslist = names.split(',')\n",
    "score = {}\n",
    "for i in userslist:\n",
    "    score[i.strip()]=0\n",
    "score    "
   ]
  },
  {
   "cell_type": "code",
   "execution_count": 47,
   "metadata": {},
   "outputs": [
    {
     "name": "stdout",
     "output_type": "stream",
     "text": [
      "Enter names, to stop type exit:Ruth paul\n",
      "['r', 'u', 't', 'h', ' ', 'p', 'a', 'u', 'l']\n"
     ]
    }
   ],
   "source": [
    "# Problem 14, Attempt\n",
    "names = input('Enter names, to stop type exit:')\n",
    "nameslist = []\n",
    "for i in names.lower():\n",
    "    nameslist+=i\n",
    "    if i == 'exit':\n",
    "        break\n",
    "print(nameslist)"
   ]
  },
  {
   "cell_type": "code",
   "execution_count": 3,
   "metadata": {},
   "outputs": [
    {
     "name": "stdout",
     "output_type": "stream",
     "text": [
      "Enter names, to stop type exit: Ruth\n",
      "Enter names, to stop type exit: Paul\n",
      "Enter names, to stop type exit: Smith\n",
      "Enter names, to stop type exit: Mary\n",
      "Enter names, to stop type exit: exit\n"
     ]
    },
    {
     "data": {
      "text/plain": [
       "['Ruth', 'Paul', 'Smith', 'Mary']"
      ]
     },
     "execution_count": 3,
     "metadata": {},
     "output_type": "execute_result"
    }
   ],
   "source": [
    "# Problem 14\n",
    "nameslist = []\n",
    "while True:\n",
    "    names = input('Enter names, to stop type exit: ')\n",
    "    if names == 'exit': break\n",
    "    nameslist.append(names)\n",
    "nameslist"
   ]
  },
  {
   "cell_type": "code",
   "execution_count": 18,
   "metadata": {},
   "outputs": [
    {
     "name": "stdout",
     "output_type": "stream",
     "text": [
      "Please enter a number:5\n"
     ]
    },
    {
     "data": {
      "text/plain": [
       "120"
      ]
     },
     "execution_count": 18,
     "metadata": {},
     "output_type": "execute_result"
    }
   ],
   "source": [
    "# Harder Problem 1, for loop, \n",
    "num = int(input('Please enter a number:'))\n",
    "num2 = list(range(1,num +1))\n",
    "total = 1\n",
    "for i in num2[::-1]:\n",
    "    total*= i\n",
    "total"
   ]
  },
  {
   "cell_type": "code",
   "execution_count": 1,
   "metadata": {},
   "outputs": [
    {
     "name": "stdout",
     "output_type": "stream",
     "text": [
      "enter a num5\n",
      "23\n"
     ]
    }
   ],
   "source": [
    "# Harder Problem 1, Brainstorm\n",
    "num = int(input('enter a num'))\n",
    "num2= list(range(1,num))\n",
    "count = 1\n",
    "for i in num2:\n",
    "    count*=i\n",
    "print(count-1)"
   ]
  },
  {
   "cell_type": "code",
   "execution_count": null,
   "metadata": {},
   "outputs": [],
   "source": [
    "# Harder Problem 2\n",
    "numlist = ()\n",
    "numlist2 = ()\n",
    "num = int(input('Please enter the number: '))\n",
    "if num % 1 == 0:\n",
    "    a = (num // 1)\n",
    "elif num % 2 == 0 :\n",
    "    b = (num // 2)\n",
    "elif num % 3 == 0 :\n",
    "    c = (num // 3)\n",
    "elif num % 4 == 0 :\n",
    "    d = (num // 4)\n",
    "elif num % 5 == 0 :\n",
    "    e = (num //5) \n",
    "elif num % 6 == 0 :\n",
    "    f = (num // 6)\n",
    "elif num % 7 == 0 :\n",
    "    g = (num // 7)\n",
    "elif num % 8 == 0 :\n",
    "    h = (num // 8)\n",
    "elif num % 9 == 0 :\n",
    "    i = (num // 9)\n",
    "elif num % 10 == 0 :\n",
    "    j = (num // 10)\n",
    "\n",
    "numlist+= a,b,c\n",
    "numlist2+= d,e,f\n",
    "numlist3+=g,h,i,\n",
    "\n",
    "numlist3 = set(numlsit)\n",
    "# failed"
   ]
  },
  {
   "cell_type": "code",
   "execution_count": 1,
   "metadata": {},
   "outputs": [
    {
     "name": "stdout",
     "output_type": "stream",
     "text": [
      "Plese enter the number:30\n",
      "1\n",
      "2\n",
      "3\n",
      "5\n",
      "6\n",
      "10\n",
      "15\n",
      "30\n"
     ]
    }
   ],
   "source": [
    "# Harder Problem 3, finding all factors\n",
    "num = int(input('Plese enter the number:'))\n",
    "count = 1\n",
    "while count<= num:\n",
    "    if num % count == 0:\n",
    "        print(count)\n",
    "    count+=1"
   ]
  },
  {
   "cell_type": "code",
   "execution_count": 10,
   "metadata": {},
   "outputs": [
    {
     "name": "stdout",
     "output_type": "stream",
     "text": [
      "Please enter a number: 69\n",
      "You dont have a prime number!\n"
     ]
    }
   ],
   "source": [
    "# Harder Problem 4, Prime numbers\n",
    "num = int(input('Please enter a number: '))\n",
    "count = 1\n",
    "count2 = 0\n",
    "while count<= num:\n",
    "    if num % count == 0:\n",
    "        count2+=1\n",
    "    count+=1\n",
    "if count2 > 2:\n",
    "    print('You dont have a prime number!') \n",
    "else:\n",
    "    print('You have a prime number!')"
   ]
  },
  {
   "cell_type": "code",
   "execution_count": 28,
   "metadata": {},
   "outputs": [
    {
     "data": {
      "text/plain": [
       "['Ruth', 'Abbey', 'Rose', 'Jade']"
      ]
     },
     "execution_count": 28,
     "metadata": {},
     "output_type": "execute_result"
    }
   ],
   "source": [
    "# Harder Problem 5, duplictes failed\n",
    "dupe = ['Ruth','Abbey','Rose','Ruth','Jade','Abbey']\n",
    "new = []\n",
    "for i in dupe:\n",
    "    if i in new:\n",
    "        continue\n",
    "    new.append(i) \n",
    "new"
   ]
  },
  {
   "cell_type": "code",
   "execution_count": 20,
   "metadata": {},
   "outputs": [
    {
     "data": {
      "text/plain": [
       "[4, 2, 1]"
      ]
     },
     "execution_count": 20,
     "metadata": {},
     "output_type": "execute_result"
    }
   ],
   "source": [
    "# Harder Problem 6,sorting failed\n",
    "num = [11,4,6,7,2,9,10,1]\n",
    "new = []\n",
    "minn = num[0]\n",
    "for i in num:\n",
    "    if i < minn:\n",
    "        minn= i\n",
    "        new.append(minn)\n",
    "        num.remove(minn)\n",
    "new"
   ]
  },
  {
   "cell_type": "code",
   "execution_count": 24,
   "metadata": {},
   "outputs": [
    {
     "name": "stdout",
     "output_type": "stream",
     "text": [
      "Please enter a number with a decimal piont:10.43\n",
      "The number in the 10th place is 3!\n"
     ]
    }
   ],
   "source": [
    "#Harder Problem 8, extract number in 10th place, brainstorm\n",
    "num = input('Please enter a number with a decimal piont:')\n",
    "place = num[4]\n",
    "print('The number in the 10th place is %s!'%place)"
   ]
  },
  {
   "cell_type": "code",
   "execution_count": 33,
   "metadata": {},
   "outputs": [
    {
     "name": "stdout",
     "output_type": "stream",
     "text": [
      "Please enter a number:12564\n",
      "The number in the 10th place is 4!\n"
     ]
    }
   ],
   "source": [
    "#Harder Problem 8, extract number in 10th place\n",
    "num = float(input('Please enter a number:'))\n",
    "place = num\n",
    "cal = num % 10\n",
    "print('The number in the 10th place is %d!'%cal)"
   ]
  },
  {
   "cell_type": "code",
   "execution_count": 45,
   "metadata": {},
   "outputs": [
    {
     "name": "stdout",
     "output_type": "stream",
     "text": [
      "Please enter a numbe:1234567\n"
     ]
    },
    {
     "data": {
      "text/plain": [
       "['1', '2', '3', '4', '5', '6', '7']"
      ]
     },
     "execution_count": 45,
     "metadata": {},
     "output_type": "execute_result"
    }
   ],
   "source": [
    "#Harder Problem 9, extract individual digits ans store it in a list\n",
    "num = list(input('Please enter a numbe:'))\n",
    "num"
   ]
  },
  {
   "cell_type": "code",
   "execution_count": 47,
   "metadata": {},
   "outputs": [
    {
     "name": "stdout",
     "output_type": "stream",
     "text": [
      "Please enter a numbe:1234567\n"
     ]
    },
    {
     "data": {
      "text/plain": [
       "['1', '2', '3', '4', '5', '6', '7']"
      ]
     },
     "execution_count": 47,
     "metadata": {},
     "output_type": "execute_result"
    }
   ],
   "source": [
    "#Harder Problem 9, extract individual digits ans store it in a list\n",
    "num = (input('Please enter a numbe:'))\n",
    "total = []\n",
    "for i in num:\n",
    "    total.append(i)\n",
    "total"
   ]
  },
  {
   "cell_type": "code",
   "execution_count": 56,
   "metadata": {},
   "outputs": [
    {
     "name": "stdout",
     "output_type": "stream",
     "text": [
      "Please enter a number:1234567\n"
     ]
    },
    {
     "data": {
      "text/plain": [
       "[1, 2, 3, 4, 5, 6, 7]"
      ]
     },
     "execution_count": 56,
     "metadata": {},
     "output_type": "execute_result"
    }
   ],
   "source": [
    "#Harder Problem 9, extract individual digits ans store it in a list\n",
    "num = int(input('Please enter a number:'))\n",
    "place = num\n",
    "total = []\n",
    "while place > 0:\n",
    "    cal = place % 10 # gets the last digit (remainder)\n",
    "    total.append(cal)# add the last digit to the list\n",
    "    place = place // 10 # removes the last digit (no remainder) \n",
    "total.sort()\n",
    "total"
   ]
  },
  {
   "cell_type": "code",
   "execution_count": 58,
   "metadata": {},
   "outputs": [
    {
     "name": "stdout",
     "output_type": "stream",
     "text": [
      "Please enter a number:1234567\n"
     ]
    },
    {
     "data": {
      "text/plain": [
       "7654321"
      ]
     },
     "execution_count": 58,
     "metadata": {},
     "output_type": "execute_result"
    }
   ],
   "source": [
    "#Harder Problem 10 , reverse the digits in a number\n",
    "num = input('Please enter a number:')\n",
    "num2 = num[::-1]\n",
    "num3 = int(num2)\n",
    "num3"
   ]
  },
  {
   "cell_type": "code",
   "execution_count": 65,
   "metadata": {},
   "outputs": [
    {
     "name": "stdout",
     "output_type": "stream",
     "text": [
      "Please enter a number:1234567\n"
     ]
    },
    {
     "data": {
      "text/plain": [
       "['7', '6', '5', '4', '3', '2', '1']"
      ]
     },
     "execution_count": 65,
     "metadata": {},
     "output_type": "execute_result"
    }
   ],
   "source": [
    "#Harder Problem 10 , reverse the digits in a number\n",
    "num = input('Please enter a number:')\n",
    "total = []\n",
    "for i in num:\n",
    "    total.insert(0, i)\n",
    "total   "
   ]
  },
  {
   "cell_type": "code",
   "execution_count": 69,
   "metadata": {},
   "outputs": [
    {
     "name": "stdout",
     "output_type": "stream",
     "text": [
      "Please enter a number:1234567\n"
     ]
    },
    {
     "data": {
      "text/plain": [
       "7654321"
      ]
     },
     "execution_count": 69,
     "metadata": {},
     "output_type": "execute_result"
    }
   ],
   "source": [
    "#Harder Problem 10 , reverse the digits in a number\n",
    "num = int(input('Please enter a number:'))\n",
    "total = ''\n",
    "place = num\n",
    "while place > 0:\n",
    "    cal = place % 10\n",
    "    cal = str(cal)\n",
    "    total+= cal\n",
    "    place = place // 10\n",
    "total = int(total)\n",
    "total"
   ]
  },
  {
   "cell_type": "code",
   "execution_count": 71,
   "metadata": {},
   "outputs": [
    {
     "name": "stdout",
     "output_type": "stream",
     "text": [
      "Please enter a number:1234567\n"
     ]
    },
    {
     "data": {
      "text/plain": [
       "7654321"
      ]
     },
     "execution_count": 71,
     "metadata": {},
     "output_type": "execute_result"
    }
   ],
   "source": [
    "#Harder Problem 10 , reverse the digits in a number\n",
    "num = int(input('Please enter a number:'))\n",
    "total = 0\n",
    "place = num\n",
    "while place > 0:\n",
    "    cal = place % 10\n",
    "    total*=10\n",
    "    total+=cal\n",
    "    place = place // 10\n",
    "total"
   ]
  },
  {
   "cell_type": "code",
   "execution_count": null,
   "metadata": {},
   "outputs": [],
   "source": [
    "                                           # Modules\n",
    "'''\n",
    "                                import math, 11 functions\n",
    "*round() = 'Rounds the number to a given precision'\n",
    "*math.floor() = 'Returns the larger number (a whole a number not decimal or fraction) <= x{the number}'\n",
    "*math.ceil() = 'Returns the smallest number (a whole a number not decimal or fraction) >= x{the number}\n",
    "*math.trunc() = 'Truncates x to the nearest integer toward 0'\n",
    "*math.factorial() = 'Finds the factorial of a number'\n",
    "*math.gcd() = 'Greatest Comman Denominator'[need two arguements]\n",
    "*math.pow() = 'Raises the number to what ever number you want'[needs two arguements]\n",
    "*math.pi = 'Gives you the value of pie'\n",
    "*math.e = 'Gives you the value of 'e''\n",
    "*math.nan = 'Not a number, a special function that indicates that a calculation cant be expressed as anumber'\n",
    "*math.isnan() = 'Tells you if its a number or not'\n",
    "'''"
   ]
  },
  {
   "cell_type": "code",
   "execution_count": 75,
   "metadata": {},
   "outputs": [
    {
     "data": {
      "text/plain": [
       "3.4567"
      ]
     },
     "execution_count": 75,
     "metadata": {},
     "output_type": "execute_result"
    }
   ],
   "source": [
    "import math\n",
    "#round()\n",
    "num1 = 3.456678\n",
    "round(num1,4)"
   ]
  },
  {
   "cell_type": "code",
   "execution_count": 76,
   "metadata": {},
   "outputs": [
    {
     "data": {
      "text/plain": [
       "5"
      ]
     },
     "execution_count": 76,
     "metadata": {},
     "output_type": "execute_result"
    }
   ],
   "source": [
    "import math\n",
    "#math.floor()\n",
    "num1 = 5.99\n",
    "math.floor(num1)"
   ]
  },
  {
   "cell_type": "code",
   "execution_count": 77,
   "metadata": {},
   "outputs": [
    {
     "data": {
      "text/plain": [
       "-5"
      ]
     },
     "execution_count": 77,
     "metadata": {},
     "output_type": "execute_result"
    }
   ],
   "source": [
    "import math\n",
    "#math.ceil()\n",
    "num5 = -5.5\n",
    "math.ceil(num5)"
   ]
  },
  {
   "cell_type": "code",
   "execution_count": 78,
   "metadata": {},
   "outputs": [
    {
     "data": {
      "text/plain": [
       "34"
      ]
     },
     "execution_count": 78,
     "metadata": {},
     "output_type": "execute_result"
    }
   ],
   "source": [
    "import math\n",
    "#math.trunc()\n",
    "math.trunc(34.789)"
   ]
  },
  {
   "cell_type": "code",
   "execution_count": 79,
   "metadata": {},
   "outputs": [
    {
     "data": {
      "text/plain": [
       "5040"
      ]
     },
     "execution_count": 79,
     "metadata": {},
     "output_type": "execute_result"
    }
   ],
   "source": [
    "import math\n",
    "#math.factorial()\n",
    "math.factorial(7)"
   ]
  },
  {
   "cell_type": "code",
   "execution_count": 81,
   "metadata": {},
   "outputs": [
    {
     "data": {
      "text/plain": [
       "2"
      ]
     },
     "execution_count": 81,
     "metadata": {},
     "output_type": "execute_result"
    }
   ],
   "source": [
    "import math\n",
    "#math.gcd()\n",
    "math.gcd(4, 10)"
   ]
  },
  {
   "cell_type": "code",
   "execution_count": 82,
   "metadata": {},
   "outputs": [
    {
     "data": {
      "text/plain": [
       "8.0"
      ]
     },
     "execution_count": 82,
     "metadata": {},
     "output_type": "execute_result"
    }
   ],
   "source": [
    "import math\n",
    "#math.pow()\n",
    "math.pow(2,3)"
   ]
  },
  {
   "cell_type": "code",
   "execution_count": 86,
   "metadata": {},
   "outputs": [
    {
     "data": {
      "text/plain": [
       "3.141592653589793"
      ]
     },
     "execution_count": 86,
     "metadata": {},
     "output_type": "execute_result"
    }
   ],
   "source": [
    "import math\n",
    "#math.pie\n",
    "math.pi"
   ]
  },
  {
   "cell_type": "code",
   "execution_count": 87,
   "metadata": {},
   "outputs": [
    {
     "data": {
      "text/plain": [
       "2.718281828459045"
      ]
     },
     "execution_count": 87,
     "metadata": {},
     "output_type": "execute_result"
    }
   ],
   "source": [
    "import math\n",
    "#math.e\n",
    "math.e"
   ]
  },
  {
   "cell_type": "code",
   "execution_count": 89,
   "metadata": {},
   "outputs": [
    {
     "data": {
      "text/plain": [
       "nan"
      ]
     },
     "execution_count": 89,
     "metadata": {},
     "output_type": "execute_result"
    }
   ],
   "source": [
    "import math\n",
    "#math.nan\n",
    "math.nan"
   ]
  },
  {
   "cell_type": "code",
   "execution_count": 90,
   "metadata": {},
   "outputs": [
    {
     "data": {
      "text/plain": [
       "False"
      ]
     },
     "execution_count": 90,
     "metadata": {},
     "output_type": "execute_result"
    }
   ],
   "source": [
    "import math\n",
    "#math.isnan()\n",
    "math.isnan(3)"
   ]
  },
  {
   "cell_type": "code",
   "execution_count": 96,
   "metadata": {},
   "outputs": [
    {
     "data": {
      "text/plain": [
       "'a'"
      ]
     },
     "execution_count": 96,
     "metadata": {},
     "output_type": "execute_result"
    }
   ],
   "source": [
    "import random\n",
    "#makes a random choice everytime you run the cell\n",
    "#random.choice\n",
    "collection = random.choice(['a','b','c',3])\n",
    "collection"
   ]
  },
  {
   "cell_type": "code",
   "execution_count": 99,
   "metadata": {},
   "outputs": [
    {
     "data": {
      "text/plain": [
       "['c', 'b', 3, 'a']"
      ]
     },
     "execution_count": 99,
     "metadata": {},
     "output_type": "execute_result"
    }
   ],
   "source": [
    "#random.shuffle()\n",
    "collection = ['a','b','c',3]\n",
    "random.shuffle(collection)\n",
    "collection"
   ]
  },
  {
   "cell_type": "code",
   "execution_count": 101,
   "metadata": {},
   "outputs": [
    {
     "data": {
      "text/plain": [
       "'C:\\\\Users\\\\wisdom ovuike\\\\Desktop\\\\MasterDataSc'"
      ]
     },
     "execution_count": 101,
     "metadata": {},
     "output_type": "execute_result"
    }
   ],
   "source": [
    "import os\n",
    "os.getcwd() # it gets the current working directery"
   ]
  },
  {
   "cell_type": "code",
   "execution_count": 105,
   "metadata": {},
   "outputs": [
    {
     "data": {
      "text/plain": [
       "['.git',\n",
       " '.ipynb_checkpoints',\n",
       " 'Untitled.ipynb',\n",
       " 'Untitled1.ipynb',\n",
       " 'Untitled2.ipynb']"
      ]
     },
     "execution_count": 105,
     "metadata": {},
     "output_type": "execute_result"
    }
   ],
   "source": [
    "os.listdir('.') # gives you a list of all dir under cwd"
   ]
  },
  {
   "cell_type": "code",
   "execution_count": 109,
   "metadata": {},
   "outputs": [
    {
     "data": {
      "text/plain": [
       "['.git',\n",
       " '.ipynb_checkpoints',\n",
       " '.new dir',\n",
       " '.new dir2',\n",
       " 'new dir',\n",
       " 'Untitled.ipynb',\n",
       " 'Untitled1.ipynb',\n",
       " 'Untitled2.ipynb']"
      ]
     },
     "execution_count": 109,
     "metadata": {},
     "output_type": "execute_result"
    }
   ],
   "source": [
    "os.mkdir('.new dir2') # allows you to make new dir under the cwd\n",
    "os.listdir('.')"
   ]
  },
  {
   "cell_type": "code",
   "execution_count": 110,
   "metadata": {},
   "outputs": [
    {
     "data": {
      "text/plain": [
       "['.git',\n",
       " '.ipynb_checkpoints',\n",
       " '.new dir2',\n",
       " '.old dir',\n",
       " 'new dir',\n",
       " 'Untitled.ipynb',\n",
       " 'Untitled1.ipynb',\n",
       " 'Untitled2.ipynb']"
      ]
     },
     "execution_count": 110,
     "metadata": {},
     "output_type": "execute_result"
    }
   ],
   "source": [
    "os.rename('.new dir', '.old dir')\n",
    "os.listdir('.')"
   ]
  },
  {
   "cell_type": "code",
   "execution_count": 113,
   "metadata": {},
   "outputs": [],
   "source": [
    "os.rmdir('.new dir2') # Allows you remove an empty dir"
   ]
  },
  {
   "cell_type": "code",
   "execution_count": 114,
   "metadata": {},
   "outputs": [],
   "source": [
    "os.rmdir('.old dir')"
   ]
  },
  {
   "cell_type": "code",
   "execution_count": 115,
   "metadata": {},
   "outputs": [],
   "source": [
    "os.rmdir('new dir')"
   ]
  },
  {
   "cell_type": "code",
   "execution_count": 117,
   "metadata": {},
   "outputs": [
    {
     "data": {
      "text/plain": [
       "['.git',\n",
       " '.ipynb_checkpoints',\n",
       " 'Untitled.ipynb',\n",
       " 'Untitled1.ipynb',\n",
       " 'Untitled2.ipynb']"
      ]
     },
     "execution_count": 117,
     "metadata": {},
     "output_type": "execute_result"
    }
   ],
   "source": [
    "os.listdir('.')"
   ]
  },
  {
   "cell_type": "code",
   "execution_count": 119,
   "metadata": {},
   "outputs": [
    {
     "data": {
      "text/plain": [
       "'nt'"
      ]
     },
     "execution_count": 119,
     "metadata": {},
     "output_type": "execute_result"
    }
   ],
   "source": [
    "os.name # Gives the name of operatin system"
   ]
  },
  {
   "cell_type": "code",
   "execution_count": 6,
   "metadata": {},
   "outputs": [
    {
     "name": "stdout",
     "output_type": "stream",
     "text": [
      "I love you!\n"
     ]
    },
    {
     "data": {
      "text/plain": [
       "NoneType"
      ]
     },
     "execution_count": 6,
     "metadata": {},
     "output_type": "execute_result"
    }
   ],
   "source": [
    "                                 # Functions Part 1\n",
    "# Can not assign variable when there is no return in the function    \n",
    "def example(text):\n",
    "    print(text)\n",
    "var2 = example('I love you!')\n",
    "type(var2)"
   ]
  },
  {
   "cell_type": "code",
   "execution_count": 9,
   "metadata": {},
   "outputs": [
    {
     "data": {
      "text/plain": [
       "str"
      ]
     },
     "execution_count": 9,
     "metadata": {},
     "output_type": "execute_result"
    }
   ],
   "source": [
    "# Can assign variable to func with retuen\n",
    "def example1(text):\n",
    "    return text\n",
    "var = example1('I hate you!')\n",
    "var\n",
    "type(var)"
   ]
  },
  {
   "cell_type": "code",
   "execution_count": 10,
   "metadata": {},
   "outputs": [
    {
     "data": {
      "text/plain": [
       "'I hate you!'"
      ]
     },
     "execution_count": 10,
     "metadata": {},
     "output_type": "execute_result"
    }
   ],
   "source": [
    "var"
   ]
  },
  {
   "cell_type": "code",
   "execution_count": 11,
   "metadata": {},
   "outputs": [],
   "source": [
    "var2"
   ]
  },
  {
   "cell_type": "code",
   "execution_count": 12,
   "metadata": {},
   "outputs": [
    {
     "name": "stdout",
     "output_type": "stream",
     "text": [
      "9\n",
      "7\n",
      "8\n"
     ]
    }
   ],
   "source": [
    "                                 # Function Part 2\n",
    "# Func can have as many arguemnts\n",
    "def add1(a,b,c,d,e,f):\n",
    "    print(a + b)\n",
    "    print(c + d)\n",
    "    print(e + f)\n",
    "add1(b = 2, e = 3, f = 5, a = 7, d = 6, c = 1) # you can manipulate the order"
   ]
  },
  {
   "cell_type": "code",
   "execution_count": 14,
   "metadata": {},
   "outputs": [
    {
     "name": "stdout",
     "output_type": "stream",
     "text": [
      "Ruth Ruth Ruth Ruth \n"
     ]
    }
   ],
   "source": [
    "# Making default values\n",
    "def default(name, num = 4,):\n",
    "    print(num * name)\n",
    "default('Ruth ')"
   ]
  },
  {
   "cell_type": "code",
   "execution_count": 15,
   "metadata": {},
   "outputs": [
    {
     "name": "stdout",
     "output_type": "stream",
     "text": [
      "Ruth Ruth Ruth Ruth Ruth \n"
     ]
    }
   ],
   "source": [
    "default(5,'Ruth ')"
   ]
  },
  {
   "cell_type": "code",
   "execution_count": 18,
   "metadata": {},
   "outputs": [
    {
     "name": "stdout",
     "output_type": "stream",
     "text": [
      "Hello  10 Ruth \n"
     ]
    }
   ],
   "source": [
    "def default(name, num = 4, gretting = 'hello'):\n",
    "    print(num, name, gretting)\n",
    "default(10, 'Hello ', 'Ruth ' ) # have to specify position"
   ]
  },
  {
   "cell_type": "code",
   "execution_count": 21,
   "metadata": {},
   "outputs": [
    {
     "name": "stdout",
     "output_type": "stream",
     "text": [
      "Ruth Ezinne Ovuike\n"
     ]
    }
   ],
   "source": [
    "                                     # Function Part 3\n",
    "# Variables inside the func that is assigned can not be changed\n",
    "def var(a,b,c,):\n",
    "    a = 'Ruth'\n",
    "    b = 'Ezinne' # thses are local variables, can not be accessed outside\n",
    "    c = 'Ovuike'\n",
    "    print(a,b,c)\n",
    "var('racheal','smith','oconoll') # can not be changed"
   ]
  },
  {
   "cell_type": "code",
   "execution_count": 24,
   "metadata": {},
   "outputs": [
    {
     "data": {
      "text/plain": [
       "[1, 3, 4, 5, 6, 7, 'we did it']"
      ]
     },
     "execution_count": 24,
     "metadata": {},
     "output_type": "execute_result"
    }
   ],
   "source": [
    "# what ever you do to a list it stays\n",
    "def addtolist(somelist):\n",
    "    somelist.append('we did it')\n",
    "list1 = [1,3,4,5,6,7]\n",
    "addtolist(list1)\n",
    "list1"
   ]
  },
  {
   "cell_type": "code",
   "execution_count": 27,
   "metadata": {},
   "outputs": [
    {
     "data": {
      "text/plain": [
       "{'a': 'purple', 'b': 'green', 'c': 'orange', 'accomplish': 'we did it'}"
      ]
     },
     "execution_count": 27,
     "metadata": {},
     "output_type": "execute_result"
    }
   ],
   "source": [
    "# It does the same thing for dictionaries\n",
    "firstdic = {'a' :'purple', 'b':'green', 'c':'orange'}\n",
    "def adddic(somedic):\n",
    "    somedic['accomplish'] = 'we did it'\n",
    "adddic(firstdic)\n",
    "firstdic"
   ]
  },
  {
   "cell_type": "code",
   "execution_count": 29,
   "metadata": {},
   "outputs": [
    {
     "data": {
      "text/plain": [
       "314.1592653589793"
      ]
     },
     "execution_count": 29,
     "metadata": {},
     "output_type": "execute_result"
    }
   ],
   "source": [
    "                     # Programming Problems Using Functions Part 1\n",
    "# Problem 1 : Write a function that calcultes the area of a circle\n",
    "import math\n",
    "def area(radius):\n",
    "    area = math.pi * (radius**2)\n",
    "    return area\n",
    "area(10)"
   ]
  },
  {
   "cell_type": "code",
   "execution_count": 35,
   "metadata": {},
   "outputs": [
    {
     "name": "stdout",
     "output_type": "stream",
     "text": [
      "1\n",
      "4\n",
      "9\n",
      "16\n",
      "25\n",
      "36\n"
     ]
    }
   ],
   "source": [
    "# Problem 2 \n",
    "def squared(number):\n",
    "    for i in range(1,number+1):\n",
    "        a = i**2\n",
    "        print(a)\n",
    "squared(6)"
   ]
  },
  {
   "cell_type": "code",
   "execution_count": 41,
   "metadata": {},
   "outputs": [
    {
     "data": {
      "text/plain": [
       "[55, 50, 5]"
      ]
     },
     "execution_count": 41,
     "metadata": {},
     "output_type": "execute_result"
    }
   ],
   "source": [
    "# Problem 3\n",
    "def filter(somelist):\n",
    "    newlist = [] \n",
    "    for i in somelist:\n",
    "        if i % 3 == 0:continue\n",
    "        elif i % 5 == 0:\n",
    "            newlist.append(i)\n",
    "        else: continue \n",
    "    return newlist \n",
    "list1 = [1,45,15,89,55,50,5,45]\n",
    "filter(list1)"
   ]
  },
  {
   "cell_type": "code",
   "execution_count": 1,
   "metadata": {},
   "outputs": [],
   "source": [
    "# \n"
   ]
  },
  {
   "cell_type": "code",
   "execution_count": null,
   "metadata": {},
   "outputs": [],
   "source": []
  },
  {
   "cell_type": "code",
   "execution_count": null,
   "metadata": {},
   "outputs": [],
   "source": []
  },
  {
   "cell_type": "code",
   "execution_count": null,
   "metadata": {},
   "outputs": [],
   "source": []
  },
  {
   "cell_type": "code",
   "execution_count": null,
   "metadata": {},
   "outputs": [],
   "source": []
  },
  {
   "cell_type": "code",
   "execution_count": 11,
   "metadata": {},
   "outputs": [],
   "source": [
    "                                     # Classes Part 1\n",
    "# A class is a blueprint, Class objects are different hoses made from the same blueprint    \n",
    "class Student: # name of class\n",
    "    name = ''\n",
    "    score = 0       # All 3 variables\n",
    "    active = True \n",
    "    add = 1 + 1\n",
    "s1 = Student() # This allows you to access variables within the class "
   ]
  },
  {
   "cell_type": "code",
   "execution_count": 3,
   "metadata": {},
   "outputs": [
    {
     "data": {
      "text/plain": [
       "''"
      ]
     },
     "execution_count": 3,
     "metadata": {},
     "output_type": "execute_result"
    }
   ],
   "source": [
    "s1.name # accessing the variables"
   ]
  },
  {
   "cell_type": "code",
   "execution_count": 4,
   "metadata": {},
   "outputs": [
    {
     "data": {
      "text/plain": [
       "0"
      ]
     },
     "execution_count": 4,
     "metadata": {},
     "output_type": "execute_result"
    }
   ],
   "source": [
    "s1.score # accessing the variables"
   ]
  },
  {
   "cell_type": "code",
   "execution_count": 5,
   "metadata": {},
   "outputs": [
    {
     "data": {
      "text/plain": [
       "True"
      ]
     },
     "execution_count": 5,
     "metadata": {},
     "output_type": "execute_result"
    }
   ],
   "source": [
    "s1.active # accessing the variables"
   ]
  },
  {
   "cell_type": "code",
   "execution_count": 6,
   "metadata": {},
   "outputs": [
    {
     "data": {
      "text/plain": [
       "(100, 'Guby', False)"
      ]
     },
     "execution_count": 6,
     "metadata": {},
     "output_type": "execute_result"
    }
   ],
   "source": [
    "# you can change the values of the variables\n",
    "s1.name = 'Guby'\n",
    "s1.score = 100\n",
    "s1.active = False\n",
    "s1.score, s1.name, s1.active"
   ]
  },
  {
   "cell_type": "code",
   "execution_count": 7,
   "metadata": {},
   "outputs": [
    {
     "data": {
      "text/plain": [
       "(0, '', True)"
      ]
     },
     "execution_count": 7,
     "metadata": {},
     "output_type": "execute_result"
    }
   ],
   "source": [
    "s2 = Student() # the original never changes\n",
    "s2.score, s2.name, s2.active"
   ]
  },
  {
   "cell_type": "code",
   "execution_count": 10,
   "metadata": {},
   "outputs": [
    {
     "data": {
      "text/plain": [
       "(100, 'Guby', False)"
      ]
     },
     "execution_count": 10,
     "metadata": {},
     "output_type": "execute_result"
    }
   ],
   "source": [
    "s1.score, s1.name, s1.active # the changes one remains changes"
   ]
  },
  {
   "cell_type": "code",
   "execution_count": 16,
   "metadata": {},
   "outputs": [
    {
     "name": "stdout",
     "output_type": "stream",
     "text": [
      "My name is Paul and I am a Labrador\n"
     ]
    }
   ],
   "source": [
    "                         # Classes Part 2\n",
    "class Dog:\n",
    "    \"\"\"This is a class which defines a dog\n",
    "       This includes cute dogs as well as ferocious dog\n",
    "    \"\"\"\n",
    "    breed = 'Labrador' # name and breed of dog\n",
    "    name = 'Paul'\n",
    "    \n",
    "    def print_dog_info(self):\n",
    "        print('My name is %s and I am a %s' % (self.name, self.breed))\n",
    "d1 = Dog() \n",
    "d1.print_dog_info()\n"
   ]
  },
  {
   "cell_type": "code",
   "execution_count": 17,
   "metadata": {},
   "outputs": [
    {
     "name": "stdout",
     "output_type": "stream",
     "text": [
      "My name is Lucy and I am a Labrador\n"
     ]
    }
   ],
   "source": [
    "d1.name = 'Lucy'\n",
    "d1.print_dog_info()"
   ]
  },
  {
   "cell_type": "code",
   "execution_count": 21,
   "metadata": {},
   "outputs": [
    {
     "name": "stdout",
     "output_type": "stream",
     "text": [
      "My name is Mark and I am a Sheperd\n"
     ]
    }
   ],
   "source": [
    "                         # Classes Part 3\n",
    "class Dog1:\n",
    "    \"\"\"This is a class which defines a dog\n",
    "       This includes cute dogs as well as ferocious dog\n",
    "    \"\"\"\n",
    "    __breed = 'Sheperd'# two under score makes it private no one can access it or change it\n",
    "    __name = 'Mark'\n",
    "   \n",
    "    def print_dog_info(self):\n",
    "        print('My name is %s and I am a %s' % (self.__name, self.__breed))\n",
    "d2 = Dog1()\n",
    "d2.__name = 'Ruth'# Can not change\n",
    "d2.print_dog_info() \n"
   ]
  },
  {
   "cell_type": "code",
   "execution_count": 22,
   "metadata": {},
   "outputs": [
    {
     "name": "stdout",
     "output_type": "stream",
     "text": [
      "My name is Tom and I am a Sheperd\n"
     ]
    }
   ],
   "source": [
    "# Creating a func that allows you to change the variable\n",
    "\n",
    "class Dog2:\n",
    "    \"\"\"This is a class which defines a dog\n",
    "       This includes cute dogs as well as ferocious dog\n",
    "    \"\"\"\n",
    "    __breed = 'Sheperd'# two under score (dunder) makes it private no one can access it or change it\n",
    "    __name = 'Mark'\n",
    "   \n",
    "    def print_dog_info(self):\n",
    "        print('My name is %s and I am a %s' % (self.__name, self.__breed))\n",
    "    \n",
    "    def change_name(self, name): # The func that allows us to change the name\n",
    "        self.__name = name\n",
    "d2 = Dog2()\n",
    "d2.change_name('Tom')\n",
    "d2.print_dog_info()\n"
   ]
  },
  {
   "cell_type": "code",
   "execution_count": 82,
   "metadata": {},
   "outputs": [],
   "source": [
    "# Creating a func that allows you to create variables\n",
    "\n",
    "class Dog3:\n",
    "    \"\"\"This is a class which defines a dog\n",
    "       This includes cute dogs as well as ferocious dog\n",
    "    \"\"\"\n",
    "    \n",
    "    def __init__(self, name, breed): # allows you to create multiple fuctions which you can change at any time\n",
    "        self.__name = name\n",
    "        self.__breed = breed\n",
    "    \n",
    "    def print_dog_info(self):\n",
    "        print('My name is %s and I am a %s' % (self.__name, self.__breed))"
   ]
  },
  {
   "cell_type": "code",
   "execution_count": 83,
   "metadata": {},
   "outputs": [
    {
     "name": "stdout",
     "output_type": "stream",
     "text": [
      "My name is Smith and I am a Puppy\n"
     ]
    }
   ],
   "source": [
    "d4 = Dog3('Smith', 'Puppy')\n",
    "d4.print_dog_info()"
   ]
  },
  {
   "cell_type": "code",
   "execution_count": 72,
   "metadata": {},
   "outputs": [
    {
     "name": "stdout",
     "output_type": "stream",
     "text": [
      "My name is Smith and I am a Puppy\n"
     ]
    }
   ],
   "source": [
    "# Creating default variables\n",
    "class Dog:\n",
    "    \"\"\"This is a class which defines a dog\n",
    "       This includes cute dogs as well as ferocious dog\n",
    "    \"\"\"\n",
    "    \n",
    "    def __init__(self, name = 'Smith', breed = 'Puppy'): # allows you to create multiple fuctions which you can change at any time\n",
    "        self.__name = name\n",
    "        self.__breed = breed\n",
    "    \n",
    "    def print_dog_info(self):\n",
    "        print('My name is %s and I am a %s' % (self.__name, self.__breed))\n",
    "d5 = Dog()\n",
    "d5.print_dog_info()"
   ]
  },
  {
   "cell_type": "code",
   "execution_count": 88,
   "metadata": {},
   "outputs": [],
   "source": [
    "                               # Classes Part 4\n",
    "class Dog4:\n",
    "    \"\"\"This is a class which defines a dog\n",
    "       This includes cute dogs as well as ferocious dog\n",
    "    \"\"\"\n",
    "    __kind = 'canine'\n",
    "    \n",
    "    def __init__(self, name, breed): \n",
    "        self.__name = name\n",
    "        self.__breed = breed\n",
    "        self.__tricks = [] # a list\n",
    "    \n",
    "    def print_dog_info(self):\n",
    "        print('My name is %s and I am a %s' % (self.__name, self.__breed))\n",
    "        print('%s can %s'% (self.__name, self.__tricks))\n",
    "    \n",
    "    def change_name(self, name):\n",
    "        self.__name = name\n",
    "    \n",
    "    def listoftricks(self,tricks):\n",
    "        self.__tricks.append(tricks) # Append allows you to add to the lsit\n",
    "        "
   ]
  },
  {
   "cell_type": "code",
   "execution_count": 91,
   "metadata": {},
   "outputs": [
    {
     "name": "stdout",
     "output_type": "stream",
     "text": [
      "My name is Lilly and I am a Puppy\n",
      "Lilly can ['Roll over']\n"
     ]
    }
   ],
   "source": [
    "d6 = Dog4('Lilly', 'Puppy',)\n",
    "d6.listoftricks('Roll over')\n",
    "d6.print_dog_info()\n"
   ]
  },
  {
   "cell_type": "code",
   "execution_count": 92,
   "metadata": {},
   "outputs": [
    {
     "name": "stdout",
     "output_type": "stream",
     "text": [
      "My name is Lilly and I am a Puppy\n",
      "Lilly can ['Roll over', 'Jump']\n"
     ]
    }
   ],
   "source": [
    "d6.listoftricks('Jump')\n",
    "d6.print_dog_info()"
   ]
  },
  {
   "cell_type": "code",
   "execution_count": 94,
   "metadata": {},
   "outputs": [
    {
     "name": "stdout",
     "output_type": "stream",
     "text": [
      "My name is Paul and I am a Puppy\n",
      "Paul can ['Roll over', 'Jump']\n"
     ]
    }
   ],
   "source": [
    "d6.change_name('Paul')\n",
    "d6.print_dog_info()"
   ]
  },
  {
   "cell_type": "code",
   "execution_count": 96,
   "metadata": {},
   "outputs": [
    {
     "name": "stdout",
     "output_type": "stream",
     "text": [
      "My name is Leo and I am a Sheperd\n",
      "Leo can ['Spin around']\n"
     ]
    }
   ],
   "source": [
    "d7 = Dog4('Alex', 'Sheperd')\n",
    "d7.change_name('Leo')\n",
    "d7.listoftricks('Spin around')\n",
    "d7.print_dog_info()"
   ]
  },
  {
   "cell_type": "code",
   "execution_count": 103,
   "metadata": {},
   "outputs": [],
   "source": [
    "                                      # Classes part 5\n",
    "class Dog5:\n",
    "    \"\"\"This is a class which defines a dog\n",
    "       This includes cute dogs as well as ferocious dog\n",
    "    \"\"\"\n",
    "    __kind = 'canine'\n",
    "    \n",
    "    def __init__(self, name, breed): \n",
    "        self.__name = name\n",
    "        self.__breed = breed\n",
    "        self.__tricks = [] \n",
    "        \n",
    "    def print_dog_info(self):\n",
    "        print('My name is %s and I am a %s' % (self.__name, self.__breed))\n",
    "        print('%s can %s'% (self.__name, self.__tricks))\n",
    "    \n",
    "    def change_name(self, name):\n",
    "        self.__name = name\n",
    "     \n",
    "    def change_breed(self, breed):\n",
    "        self.__breed = breed\n",
    "    \n",
    "    def listoftricks(self,tricks):\n",
    "        self.__tricks.append(tricks)\n",
    "    \n",
    "    def change_breed_and_name(self, name, breed):\n",
    "        self.__name = name\n",
    "        self.__breed = breed\n",
    "          "
   ]
  },
  {
   "cell_type": "code",
   "execution_count": 104,
   "metadata": {},
   "outputs": [
    {
     "name": "stdout",
     "output_type": "stream",
     "text": [
      "My name is Paul and I am a Puppy\n",
      "Paul can ['Run']\n"
     ]
    }
   ],
   "source": [
    "d8 = Dog5('Ronalnd', 'Labarador')\n",
    "d8.change_name('Paul')\n",
    "d8.change_breed('Puppy')\n",
    "d8.listoftricks('Run')\n",
    "d8.print_dog_info()\n"
   ]
  },
  {
   "cell_type": "code",
   "execution_count": 105,
   "metadata": {},
   "outputs": [
    {
     "name": "stdout",
     "output_type": "stream",
     "text": [
      "My name is Ronalnd and I am a Labarador\n",
      "Ronalnd can ['Run']\n"
     ]
    }
   ],
   "source": [
    "d8.change_breed_and_name('Ronalnd', 'Labarador')\n",
    "d8.print_dog_info()"
   ]
  },
  {
   "cell_type": "code",
   "execution_count": 62,
   "metadata": {},
   "outputs": [],
   "source": [
    "                                           # Composition Vs Inheritance\n",
    "# Inheritance is when a child class inherits all attributes and methods from the parent class\n",
    "# inheritance  = taking everything\n",
    "\n",
    "class Employee:\n",
    "    raise_amt = 12\n",
    "    pay = 360000\n",
    "     \n",
    "    def __init__(self, first, last, pay):\n",
    "        self.__first = first\n",
    "        self.__last = last\n",
    "        self.__pay = pay\n",
    "        self.__email = first + '.' + last + '@email.com'\n",
    "        self.__full = first + last\n",
    "        \n",
    "    def apply_raise(self):\n",
    "        self.__pay = int(self.__pay * self.raise_amt) \n",
    "        \n",
    "    def print_info(self):\n",
    "        print('%s is my full name and I earn %s a year and my eamil is %s if I get a raise I earn %s'%(self.__full, self.pay, self.__email, self.__pay))\n",
    "        \n",
    "             \n",
    "        "
   ]
  },
  {
   "cell_type": "code",
   "execution_count": 63,
   "metadata": {},
   "outputs": [
    {
     "name": "stdout",
     "output_type": "stream",
     "text": [
      "Ruth Ovuike is my full name and I earn 360000 a year and my eamil is Ruth .Ovuike@email.com if I get a raise I earn 4320000\n"
     ]
    }
   ],
   "source": [
    "eg1 = Employee('Ruth ', 'Ovuike', 360000)\n",
    "eg1.apply_raise()\n",
    "eg1.print_info()"
   ]
  },
  {
   "cell_type": "code",
   "execution_count": 76,
   "metadata": {},
   "outputs": [],
   "source": [
    "# Inheritance, first Child class\n",
    "class child(Employee):\n",
    "    raise_amt = 44\n",
    "    def __init__(self, first, last, pay, prog_lang):\n",
    "        super().__init__( first, last, pay)\n",
    "        self.__prog_lang = prog_lang\n",
    "    def print_info2(self):\n",
    "        print('My favourite program langage is %s'%(self.__prog_lang))"
   ]
  },
  {
   "cell_type": "code",
   "execution_count": 78,
   "metadata": {},
   "outputs": [
    {
     "name": "stdout",
     "output_type": "stream",
     "text": [
      "Paul Smith is my full name and I earn 360000 a year and my eamil is Paul .Smith@email.com if I get a raise I earn 15840000\n",
      "My favourite program langage is Python\n"
     ]
    }
   ],
   "source": [
    "eg2 = child('Paul ', 'Smith', 360000, 'Python')\n",
    "eg2.apply_raise()\n",
    "eg2.print_info()\n",
    "eg2.print_info2()"
   ]
  },
  {
   "cell_type": "code",
   "execution_count": 83,
   "metadata": {},
   "outputs": [],
   "source": [
    "# Inheritance, second child class\n",
    "class child2(Employee):\n",
    "    \n",
    "    def __init__(self, first, last, pay, employee = None):\n",
    "        super().__init__( first, last, pay)\n",
    "        self.__employee = employee\n",
    "        if employee == None:\n",
    "            self.__employee = []\n",
    "        else: self.__employee = employee\n",
    "            \n",
    "    def add_emp(self, emp):                     # add employees to the list\n",
    "        if emp is not self.__employee:\n",
    "            self.__employee.append(emp)\n",
    "        \n",
    "    def remove_emp(self, emp):              # remove employees from the list\n",
    "        if emp in self.__employee:\n",
    "            self.__employee.remove(emp)\n",
    "    \n",
    "    def print_emp(self):                 # list the employees in the list\n",
    "        for i in self.__employee:\n",
    "            print(i.self.__full)\n",
    "        "
   ]
  },
  {
   "cell_type": "code",
   "execution_count": null,
   "metadata": {},
   "outputs": [],
   "source": [
    "eg3 = child2('Sam', 'Smith', 90000, eg2)\n",
    "eg3.print_emp()"
   ]
  },
  {
   "cell_type": "code",
   "execution_count": 109,
   "metadata": {},
   "outputs": [],
   "source": [
    "# Composition is a much more elehant way of using methods and attributes from a parent class in a child class\n",
    "# With Composition we can explicitly choose what is inherited from the parent class\n",
    "# Composition = take what you need and leave the rest\n",
    "# it prevents the diamond problem from occuring\n",
    "\n",
    "class Basic:\n",
    "    def __init__(self, x = 10, y = 5):\n",
    "        self.__x = x\n",
    "        self.__y = y\n",
    "    \n",
    "    def addition(self):\n",
    "        return int(self.__x + self.__y )\n",
    "    \n",
    "    def subtraction(self):\n",
    "        return int(self.__x - self.__y)\n",
    "    \n",
    "    def timetable(self):\n",
    "        for i in range(0, 10 + 1):\n",
    "            print('%d * %d is: %d' % (i, self.__x, (i*self.__x)))\n",
    "            \n",
    "        \n",
    "    def timetable2(self):\n",
    "        for i in range(0, 10 + 1):\n",
    "            print('%d * %d is: %d' % (i, self.__y, (i*self.__y)))"
   ]
  },
  {
   "cell_type": "code",
   "execution_count": 110,
   "metadata": {},
   "outputs": [
    {
     "data": {
      "text/plain": [
       "15"
      ]
     },
     "execution_count": 110,
     "metadata": {},
     "output_type": "execute_result"
    }
   ],
   "source": [
    "b = Basic()\n",
    "b.addition()"
   ]
  },
  {
   "cell_type": "code",
   "execution_count": 111,
   "metadata": {},
   "outputs": [
    {
     "data": {
      "text/plain": [
       "5"
      ]
     },
     "execution_count": 111,
     "metadata": {},
     "output_type": "execute_result"
    }
   ],
   "source": [
    "b.subtraction()"
   ]
  },
  {
   "cell_type": "code",
   "execution_count": 112,
   "metadata": {},
   "outputs": [
    {
     "name": "stdout",
     "output_type": "stream",
     "text": [
      "0 * 10 is: 0\n",
      "1 * 10 is: 10\n",
      "2 * 10 is: 20\n",
      "3 * 10 is: 30\n",
      "4 * 10 is: 40\n",
      "5 * 10 is: 50\n",
      "6 * 10 is: 60\n",
      "7 * 10 is: 70\n",
      "8 * 10 is: 80\n",
      "9 * 10 is: 90\n",
      "10 * 10 is: 100\n"
     ]
    }
   ],
   "source": [
    "b.timetable()"
   ]
  },
  {
   "cell_type": "code",
   "execution_count": 114,
   "metadata": {},
   "outputs": [
    {
     "name": "stdout",
     "output_type": "stream",
     "text": [
      "0 * 5 is: 0\n",
      "1 * 5 is: 5\n",
      "2 * 5 is: 10\n",
      "3 * 5 is: 15\n",
      "4 * 5 is: 20\n",
      "5 * 5 is: 25\n",
      "6 * 5 is: 30\n",
      "7 * 5 is: 35\n",
      "8 * 5 is: 40\n",
      "9 * 5 is: 45\n",
      "10 * 5 is: 50\n"
     ]
    }
   ],
   "source": [
    "b.timetable2()"
   ]
  },
  {
   "cell_type": "code",
   "execution_count": 153,
   "metadata": {},
   "outputs": [
    {
     "data": {
      "text/plain": [
       "40"
      ]
     },
     "execution_count": 153,
     "metadata": {},
     "output_type": "execute_result"
    }
   ],
   "source": [
    "# child class\n",
    "class advanced(Basic):\n",
    "    def __init__(self, x = 33, y = 7):\n",
    "        super().__init__( x , y ) # this is the line of code that copied everything from the parent class\n",
    "    \n",
    "    def multiply(self):\n",
    "        return int(self.__x * self.__y)\n",
    "    \n",
    "    def divide(self):\n",
    "        return int(self.__x // self.__y)\n",
    "c = advanced()\n",
    "c.addition()"
   ]
  },
  {
   "cell_type": "code",
   "execution_count": 154,
   "metadata": {},
   "outputs": [
    {
     "data": {
      "text/plain": [
       "26"
      ]
     },
     "execution_count": 154,
     "metadata": {},
     "output_type": "execute_result"
    }
   ],
   "source": [
    "c.subtraction()"
   ]
  },
  {
   "cell_type": "code",
   "execution_count": 155,
   "metadata": {},
   "outputs": [
    {
     "name": "stdout",
     "output_type": "stream",
     "text": [
      "0 * 33 is: 0\n",
      "1 * 33 is: 33\n",
      "2 * 33 is: 66\n",
      "3 * 33 is: 99\n",
      "4 * 33 is: 132\n",
      "5 * 33 is: 165\n",
      "6 * 33 is: 198\n",
      "7 * 33 is: 231\n",
      "8 * 33 is: 264\n",
      "9 * 33 is: 297\n",
      "10 * 33 is: 330\n"
     ]
    }
   ],
   "source": [
    "c.timetable()"
   ]
  },
  {
   "cell_type": "code",
   "execution_count": 156,
   "metadata": {},
   "outputs": [
    {
     "name": "stdout",
     "output_type": "stream",
     "text": [
      "0 * 7 is: 0\n",
      "1 * 7 is: 7\n",
      "2 * 7 is: 14\n",
      "3 * 7 is: 21\n",
      "4 * 7 is: 28\n",
      "5 * 7 is: 35\n",
      "6 * 7 is: 42\n",
      "7 * 7 is: 49\n",
      "8 * 7 is: 56\n",
      "9 * 7 is: 63\n",
      "10 * 7 is: 70\n"
     ]
    }
   ],
   "source": [
    "c.timetable2()"
   ]
  },
  {
   "cell_type": "code",
   "execution_count": 165,
   "metadata": {},
   "outputs": [
    {
     "name": "stdout",
     "output_type": "stream",
     "text": [
      "0 * 10 is: 0\n",
      "1 * 10 is: 10\n",
      "2 * 10 is: 20\n",
      "3 * 10 is: 30\n",
      "4 * 10 is: 40\n",
      "5 * 10 is: 50\n",
      "6 * 10 is: 60\n",
      "7 * 10 is: 70\n",
      "8 * 10 is: 80\n",
      "9 * 10 is: 90\n",
      "10 * 10 is: 100\n"
     ]
    }
   ],
   "source": [
    "# Composition\n",
    "class Comp:\n",
    "    def __init__(self):\n",
    "        self.base = Basic()\n",
    "    def times_x(self):\n",
    "        return self.base.timetable()\n",
    "d = Comp()\n",
    "d.times_x()"
   ]
  },
  {
   "cell_type": "code",
   "execution_count": 171,
   "metadata": {},
   "outputs": [],
   "source": [
    "                            # Short cut!!!!\n",
    "# Parent class\n",
    "class Basic:\n",
    "    __x = 100\n",
    "    __y = 64\n",
    "    \n",
    "    def __init__(self):\n",
    "        pass\n",
    "    \n",
    "    def addition(self):\n",
    "        return int(Basic.__x + Basic.__y )\n",
    "    \n",
    "    def subtraction(self):\n",
    "        return int(Basic.__x - Basic.__y)\n",
    "    \n",
    "    def timetable(self):\n",
    "        for i in range(0, 10 + 1):\n",
    "            print('%d * %d is: %d' % (i, Basic.__x, (i*Basic.__x)))\n",
    "            \n",
    "        \n",
    "    def timetable2(self):\n",
    "        for i in range(0, 10 + 1):\n",
    "            print('%d * %d is: %d' % (i, Basic.__y, (i*Basic.__y)))\n",
    "\n",
    "# child class           \n",
    "class advanced(Basic):\n",
    "    def __init__(self):\n",
    "        pass\n",
    "    \n",
    "    def multiply(self):\n",
    "        return int(self.__x * self.__y)\n",
    "    \n",
    "    def divide(self):\n",
    "        return int(self.__x // self.__y)\n",
    "\n",
    "# Composition\n",
    "class Comp:\n",
    "    def __init__(self):\n",
    "        self.base = Basic()\n",
    "    def times_x(self):\n",
    "        return self.base.timetable()"
   ]
  },
  {
   "cell_type": "code",
   "execution_count": 172,
   "metadata": {},
   "outputs": [
    {
     "data": {
      "text/plain": [
       "164"
      ]
     },
     "execution_count": 172,
     "metadata": {},
     "output_type": "execute_result"
    }
   ],
   "source": [
    "b = Basic()\n",
    "b.addition()"
   ]
  },
  {
   "cell_type": "code",
   "execution_count": 173,
   "metadata": {},
   "outputs": [
    {
     "name": "stdout",
     "output_type": "stream",
     "text": [
      "0 * 64 is: 0\n",
      "1 * 64 is: 64\n",
      "2 * 64 is: 128\n",
      "3 * 64 is: 192\n",
      "4 * 64 is: 256\n",
      "5 * 64 is: 320\n",
      "6 * 64 is: 384\n",
      "7 * 64 is: 448\n",
      "8 * 64 is: 512\n",
      "9 * 64 is: 576\n",
      "10 * 64 is: 640\n"
     ]
    }
   ],
   "source": [
    "b.timetable2()"
   ]
  },
  {
   "cell_type": "code",
   "execution_count": 174,
   "metadata": {},
   "outputs": [
    {
     "data": {
      "text/plain": [
       "164"
      ]
     },
     "execution_count": 174,
     "metadata": {},
     "output_type": "execute_result"
    }
   ],
   "source": [
    "c = advanced()\n",
    "c.addition()"
   ]
  },
  {
   "cell_type": "code",
   "execution_count": 175,
   "metadata": {},
   "outputs": [
    {
     "name": "stdout",
     "output_type": "stream",
     "text": [
      "0 * 100 is: 0\n",
      "1 * 100 is: 100\n",
      "2 * 100 is: 200\n",
      "3 * 100 is: 300\n",
      "4 * 100 is: 400\n",
      "5 * 100 is: 500\n",
      "6 * 100 is: 600\n",
      "7 * 100 is: 700\n",
      "8 * 100 is: 800\n",
      "9 * 100 is: 900\n",
      "10 * 100 is: 1000\n"
     ]
    }
   ],
   "source": [
    "d = Comp()\n",
    "d.times_x()"
   ]
  },
  {
   "cell_type": "code",
   "execution_count": 176,
   "metadata": {},
   "outputs": [],
   "source": [
    "                             # Special Features in python\n",
    "# Lambdas: Use and throw function with no name i.e. anonymous functions\n",
    "# List Comprehension: An elegant way to define and create lsit in python\n",
    "# First Class Functions: Can be assigned to variables, in put arguements to functions, return values from functions\n",
    "# Filter: list(filter(func,list)) = The func contains tha condition in which you wnat to filter the list\n",
    "# Map: list(map(func,list)) = Generates a new list by applying the func to every elements of the original list \n",
    "# Reduce: finds the sum of all numbers in a list"
   ]
  },
  {
   "cell_type": "code",
   "execution_count": 177,
   "metadata": {},
   "outputs": [
    {
     "data": {
      "text/plain": [
       "124"
      ]
     },
     "execution_count": 177,
     "metadata": {},
     "output_type": "execute_result"
    }
   ],
   "source": [
    "                            # Lambdas\n",
    "add_func = lambda x,y:x + y # if you no longer want the function just do: (del add_func)\n",
    "add_func(46,78)"
   ]
  },
  {
   "cell_type": "code",
   "execution_count": 181,
   "metadata": {},
   "outputs": [
    {
     "data": {
      "text/plain": [
       "[56, 78]"
      ]
     },
     "execution_count": 181,
     "metadata": {},
     "output_type": "execute_result"
    }
   ],
   "source": [
    "# You mostly use lambdas on list, you apply what you need to apply on the list with lambdas and delete it \n",
    "somelist = [22,34,56,78,12,23,1]\n",
    "grater = lambda x: x > 50\n",
    "result = filter(grater,somelist)\n",
    "result = list(result)\n",
    "result"
   ]
  },
  {
   "cell_type": "code",
   "execution_count": 186,
   "metadata": {},
   "outputs": [
    {
     "data": {
      "text/plain": [
       "['Jasmine', 'Michelle', 'Alysaa']"
      ]
     },
     "execution_count": 186,
     "metadata": {},
     "output_type": "execute_result"
    }
   ],
   "source": [
    "# Filter func, only when there is a condition, removig\n",
    "namelist = ['Ruth','Jasmine','Michelle','Paul','Alysaa']\n",
    "list(filter(lambda name: len(name)>4, namelist))"
   ]
  },
  {
   "cell_type": "code",
   "execution_count": 188,
   "metadata": {},
   "outputs": [
    {
     "data": {
      "text/plain": [
       "[25, 37, 59, 81, 15, 26, 4]"
      ]
     },
     "execution_count": 188,
     "metadata": {},
     "output_type": "execute_result"
    }
   ],
   "source": [
    "# Map func, only when there is a application, adding \n",
    "add3 = lambda x: x + 3\n",
    "results = map(add3, somelist)\n",
    "results = list(results)\n",
    "results"
   ]
  },
  {
   "cell_type": "code",
   "execution_count": 190,
   "metadata": {},
   "outputs": [
    {
     "data": {
      "text/plain": [
       "['Ruth boo', 'Jasmine boo', 'Michelle boo', 'Paul boo', 'Alysaa boo']"
      ]
     },
     "execution_count": 190,
     "metadata": {},
     "output_type": "execute_result"
    }
   ],
   "source": [
    "list(map(lambda name: name + ' boo', namelist))"
   ]
  },
  {
   "cell_type": "code",
   "execution_count": 191,
   "metadata": {},
   "outputs": [
    {
     "data": {
      "text/plain": [
       "226"
      ]
     },
     "execution_count": 191,
     "metadata": {},
     "output_type": "execute_result"
    }
   ],
   "source": [
    "# Reduce func\n",
    "from functools import reduce\n",
    "sumfunc = lambda x,y: x + y\n",
    "result = reduce(sumfunc, somelist)\n",
    "result"
   ]
  },
  {
   "cell_type": "code",
   "execution_count": 193,
   "metadata": {},
   "outputs": [
    {
     "data": {
      "text/plain": [
       "'Michelle'"
      ]
     },
     "execution_count": 193,
     "metadata": {},
     "output_type": "execute_result"
    }
   ],
   "source": [
    "reduce(lambda a, b: a if (len(a) >= len(b)) else b, namelist)"
   ]
  },
  {
   "cell_type": "code",
   "execution_count": 194,
   "metadata": {},
   "outputs": [
    {
     "data": {
      "text/plain": [
       "[484, 1156, 3136, 6084, 144, 529, 1]"
      ]
     },
     "execution_count": 194,
     "metadata": {},
     "output_type": "execute_result"
    }
   ],
   "source": [
    "# list Comprehension\n",
    "sqaured = [i**2 for i in somelist]\n",
    "sqaured"
   ]
  },
  {
   "cell_type": "code",
   "execution_count": 195,
   "metadata": {},
   "outputs": [
    {
     "data": {
      "text/plain": [
       "[1, 2, 3, 4, 5, 6, 7, 8, 9, 10]"
      ]
     },
     "execution_count": 195,
     "metadata": {},
     "output_type": "execute_result"
    }
   ],
   "source": [
    "uptoten = [y for y in range(1,11)]\n",
    "uptoten"
   ]
  },
  {
   "cell_type": "code",
   "execution_count": 212,
   "metadata": {},
   "outputs": [
    {
     "data": {
      "text/plain": [
       "[('Sun', 'Red'),\n",
       " ('Sun', 'Green'),\n",
       " ('Sun', 'Orange'),\n",
       " ('Sun', 'Yellow'),\n",
       " ('Tree', 'Red'),\n",
       " ('Tree', 'Green'),\n",
       " ('Tree', 'Orange'),\n",
       " ('Tree', 'Yellow'),\n",
       " ('Fruit', 'Red'),\n",
       " ('Fruit', 'Green'),\n",
       " ('Fruit', 'Orange'),\n",
       " ('Fruit', 'Yellow'),\n",
       " ('Lights', 'Red'),\n",
       " ('Lights', 'Green'),\n",
       " ('Lights', 'Orange'),\n",
       " ('Lights', 'Yellow')]"
      ]
     },
     "execution_count": 212,
     "metadata": {},
     "output_type": "execute_result"
    }
   ],
   "source": [
    "# list Comprehension, nested for loops\n",
    "colours = ['Red','Green','Orange','Yellow']\n",
    "things = ['Sun','Tree','Fruit','Lights']\n",
    "alltogther = [(t,c) for t in things for c in colours]\n",
    "alltogther"
   ]
  },
  {
   "cell_type": "code",
   "execution_count": 213,
   "metadata": {},
   "outputs": [
    {
     "data": {
      "text/plain": [
       "[22, 34, 56, 78, 12, 23]"
      ]
     },
     "execution_count": 213,
     "metadata": {},
     "output_type": "execute_result"
    }
   ],
   "source": [
    "grater = [ i for i in somelist if i > 10]\n",
    "grater"
   ]
  },
  {
   "cell_type": "code",
   "execution_count": 215,
   "metadata": {},
   "outputs": [
    {
     "data": {
      "text/plain": [
       "32"
      ]
     },
     "execution_count": 215,
     "metadata": {},
     "output_type": "execute_result"
    }
   ],
   "source": [
    "# First class func\n",
    "def addfunc(a,b):\n",
    "    return a + b\n",
    "newadd = addfunc\n",
    "newadd(10,22)"
   ]
  },
  {
   "cell_type": "code",
   "execution_count": 218,
   "metadata": {},
   "outputs": [
    {
     "data": {
      "text/plain": [
       "145"
      ]
     },
     "execution_count": 218,
     "metadata": {},
     "output_type": "execute_result"
    }
   ],
   "source": [
    "def perform_operation(func,a ,b):\n",
    "    return func(a, b)\n",
    "perform_operation(newadd,100,45)"
   ]
  },
  {
   "cell_type": "code",
   "execution_count": 221,
   "metadata": {},
   "outputs": [
    {
     "data": {
      "text/plain": [
       "29"
      ]
     },
     "execution_count": 221,
     "metadata": {},
     "output_type": "execute_result"
    }
   ],
   "source": [
    "def subtract(a,b):\n",
    "    return a - b\n",
    "perform_operation(subtract, 46,17)"
   ]
  },
  {
   "cell_type": "code",
   "execution_count": null,
   "metadata": {},
   "outputs": [],
   "source": [
    "                               # Exception handeling part 1\n",
    "while True:\n",
    "    enter = input('Please enter a input: ')\n",
    "    if enter == 'exit':\n",
    "        break\n",
    "\n",
    "    try:\n",
    "        num = input(enter)\n",
    "        print('Thank you for entering a number!')\n",
    "    except ValueError:\n",
    "        print('OOps not a number pleas')\n",
    "     "
   ]
  },
  {
   "cell_type": "code",
   "execution_count": 11,
   "metadata": {},
   "outputs": [
    {
     "data": {
      "text/plain": [
       "'RUTH'"
      ]
     },
     "execution_count": 11,
     "metadata": {},
     "output_type": "execute_result"
    }
   ],
   "source": [
    "cap = \"Ruth\"\n",
    "cap.upper()"
   ]
  },
  {
   "cell_type": "code",
   "execution_count": 30,
   "metadata": {},
   "outputs": [],
   "source": [
    "def main(i):\n",
    "    newword = ''\n",
    "    for l in i:\n",
    "        if l == i[0]:\n",
    "            l = l.upper()\n",
    "            newword += l\n",
    "        elif l == l.upper():\n",
    "            l = l.lower()\n",
    "            newword+= l\n",
    "        elif l == l.lower():\n",
    "            l = l.upper()\n",
    "            newword+= l\n",
    "    return newword"
   ]
  },
  {
   "cell_type": "code",
   "execution_count": 32,
   "metadata": {},
   "outputs": [
    {
     "data": {
      "text/plain": [
       "'RUTH'"
      ]
     },
     "execution_count": 32,
     "metadata": {},
     "output_type": "execute_result"
    }
   ],
   "source": [
    "main('ruth')"
   ]
  },
  {
   "cell_type": "code",
   "execution_count": 27,
   "metadata": {},
   "outputs": [
    {
     "name": "stdout",
     "output_type": "stream",
     "text": [
      "0\n",
      "1\n",
      "1\n",
      "2\n",
      "3\n",
      "5\n",
      "8\n",
      "13\n",
      "21\n",
      "34\n",
      "55\n",
      "89\n"
     ]
    }
   ],
   "source": [
    "a, b = 0, 1\n",
    "while a < 100:\n",
    "    print(a)\n",
    "    a, b = b, a+b"
   ]
  },
  {
   "cell_type": "code",
   "execution_count": 1,
   "metadata": {},
   "outputs": [
    {
     "data": {
      "text/plain": [
       "'RutH'"
      ]
     },
     "execution_count": 1,
     "metadata": {},
     "output_type": "execute_result"
    }
   ],
   "source": [
    "def main(i):\n",
    "    newword = ''\n",
    "    a = i[1:].swapcase()\n",
    "    for l in i:\n",
    "        if l == i[0]:\n",
    "            newword+=l.upper()\n",
    "            newword+=i[1:].swapcase()\n",
    "    return newword\n",
    "main('RUTh')"
   ]
  },
  {
   "cell_type": "code",
   "execution_count": 4,
   "metadata": {},
   "outputs": [
    {
     "data": {
      "text/plain": [
       "7"
      ]
     },
     "execution_count": 4,
     "metadata": {},
     "output_type": "execute_result"
    }
   ],
   "source": [
    "# Problem 1, done\n",
    "def cal(word):\n",
    "    count = 0\n",
    "    for i in word:\n",
    "        count+=1\n",
    "    return count\n",
    "cal('ertyuio')"
   ]
  },
  {
   "cell_type": "code",
   "execution_count": 7,
   "metadata": {},
   "outputs": [
    {
     "data": {
      "text/plain": [
       "'xycabz'"
      ]
     },
     "execution_count": 7,
     "metadata": {},
     "output_type": "execute_result"
    }
   ],
   "source": [
    "# Problem 5\n",
    "def swap(word1,word2):\n",
    "    new = ''\n",
    "    x = word1[0:2]\n",
    "    y = word2[0:2]\n",
    "    new+= word1.replace(x,y)\n",
    "    new+= word2.replace(y,x)\n",
    "    return new\n",
    "swap('abc','xyz')"
   ]
  },
  {
   "cell_type": "code",
   "execution_count": 9,
   "metadata": {},
   "outputs": [
    {
     "data": {
      "text/plain": [
       "'xyc abz'"
      ]
     },
     "execution_count": 9,
     "metadata": {},
     "output_type": "execute_result"
    }
   ],
   "source": [
    "# Problem 5\n",
    "def swap2(a,b):\n",
    "    newa = b[0:2] + a[2:]\n",
    "    newb = a[0:2] + b[2:]\n",
    "    return newa+ ' ' +newb\n",
    "swap2('abc','xyz')"
   ]
  },
  {
   "cell_type": "code",
   "execution_count": 9,
   "metadata": {},
   "outputs": [
    {
     "data": {
      "text/plain": [
       "'Empty string must, have more than one character!: o '"
      ]
     },
     "execution_count": 9,
     "metadata": {},
     "output_type": "execute_result"
    }
   ],
   "source": [
    "# Problem 3\n",
    "def lastfirst(word):\n",
    "    if len(word)<len('ev'):\n",
    "        a = f'Empty string must, have more than one character!: {word} '\n",
    "        return a\n",
    "    newword = ''\n",
    "    newword+=word[:2]\n",
    "    newword+=word[-2:]\n",
    "    print(newword)\n",
    "lastfirst('o')    "
   ]
  },
  {
   "cell_type": "code",
   "execution_count": 10,
   "metadata": {},
   "outputs": [
    {
     "data": {
      "text/plain": [
       "'rtrt'"
      ]
     },
     "execution_count": 10,
     "metadata": {},
     "output_type": "execute_result"
    }
   ],
   "source": [
    "# Problem 3\n",
    "def lastfirst(word):\n",
    "    if len(word) < 2:\n",
    "        return f'Empty string must, have more than one character!: {word}'\n",
    "    return word[:2] + word[-2:]\n",
    "lastfirst('rt')"
   ]
  },
  {
   "cell_type": "code",
   "execution_count": 17,
   "metadata": {},
   "outputs": [
    {
     "data": {
      "text/plain": [
       "'ovuike'"
      ]
     },
     "execution_count": 17,
     "metadata": {},
     "output_type": "execute_result"
    }
   ],
   "source": [
    "# Problem 8\n",
    "def longest(a,b,c):\n",
    "    if len(a) > len(b):\n",
    "        return a \n",
    "    else: return b \n",
    "    if len(a) > len(c):\n",
    "        return a \n",
    "    else: return len(c) \n",
    "    if len(b) > len(c):\n",
    "        return b \n",
    "    else: return c \n",
    "longest('ruth','ovuike','apple')"
   ]
  },
  {
   "cell_type": "code",
   "execution_count": 26,
   "metadata": {},
   "outputs": [
    {
     "data": {
      "text/plain": [
       "'Poland Spring'"
      ]
     },
     "execution_count": 26,
     "metadata": {},
     "output_type": "execute_result"
    }
   ],
   "source": [
    "# Problem 8\n",
    "def longest1(wordlist):\n",
    "    x = []\n",
    "    for i in wordlist:\n",
    "        x.append((len(i),i))\n",
    "    x.sort()\n",
    "    return x[-1][1]\n",
    "longest1(['Blue','Orange','Poland Spring'])"
   ]
  },
  {
   "cell_type": "code",
   "execution_count": 39,
   "metadata": {},
   "outputs": [
    {
     "data": {
      "text/plain": [
       "{'g': 2, 'o': 2, 'l': 1, 'e': 1}"
      ]
     },
     "execution_count": 39,
     "metadata": {},
     "output_type": "execute_result"
    }
   ],
   "source": [
    "# Problem 2\n",
    "def freqency(word):\n",
    "    x = {}\n",
    "    for i in word:\n",
    "        keys = x.keys()\n",
    "        if i in keys:\n",
    "            x[i]+=1\n",
    "        else: x[i] = 1\n",
    "    return x\n",
    "freqency('google')"
   ]
  },
  {
   "cell_type": "code",
   "execution_count": 45,
   "metadata": {},
   "outputs": [
    {
     "data": {
      "text/plain": [
       "'goo$le'"
      ]
     },
     "execution_count": 45,
     "metadata": {},
     "output_type": "execute_result"
    }
   ],
   "source": [
    "# Problem 4\n",
    "def firstword(word):\n",
    "    x = ''\n",
    "    x +=word[0]\n",
    "    for i in word[1:]:\n",
    "        if i == word[0]:\n",
    "            x+= i.replace(i,'$')\n",
    "        else: x+=i\n",
    "    return x\n",
    "firstword('google')"
   ]
  },
  {
   "cell_type": "code",
   "execution_count": 46,
   "metadata": {},
   "outputs": [
    {
     "data": {
      "text/plain": [
       "'ins$ghts'"
      ]
     },
     "execution_count": 46,
     "metadata": {},
     "output_type": "execute_result"
    }
   ],
   "source": [
    "# Problem 4\n",
    "def firstword(word):\n",
    "    new = word[0]\n",
    "    word = word.replace(new,'$')\n",
    "    word = new + word[1:]\n",
    "    return word\n",
    "firstword('insights')"
   ]
  },
  {
   "cell_type": "code",
   "execution_count": 52,
   "metadata": {},
   "outputs": [
    {
     "data": {
      "text/plain": [
       "'drawingly'"
      ]
     },
     "execution_count": 52,
     "metadata": {},
     "output_type": "execute_result"
    }
   ],
   "source": [
    "# Problem 6,done\n",
    "def chnage(word):\n",
    "    if len(word) <3:\n",
    "        return f'Not enough word must be more than two {word}'\n",
    "    if word[-3:]== 'ing':\n",
    "        word+='ly'\n",
    "    else : word = word + 'ing'\n",
    "    return word\n",
    "chnage('drawing')"
   ]
  },
  {
   "cell_type": "code",
   "execution_count": 53,
   "metadata": {},
   "outputs": [
    {
     "data": {
      "text/plain": [
       "'drawingly'"
      ]
     },
     "execution_count": 53,
     "metadata": {},
     "output_type": "execute_result"
    }
   ],
   "source": [
    "# Problem 6\n",
    "def change1(word):\n",
    "    lenght = len(word)\n",
    "    if lenght>2:\n",
    "        if word[-3:] == 'ing':\n",
    "            word+='ly'\n",
    "        else : word+='ing'\n",
    "    return word\n",
    "change1('drawing')"
   ]
  },
  {
   "cell_type": "code",
   "execution_count": 126,
   "metadata": {},
   "outputs": [
    {
     "data": {
      "text/plain": [
       "'The lyrics is good'"
      ]
     },
     "execution_count": 126,
     "metadata": {},
     "output_type": "execute_result"
    }
   ],
   "source": [
    "# Problem 7,brainstorm\n",
    "def poor(word):\n",
    "    if word[-7:] == 'is poor':\n",
    "        word = word.replace('poor','good')\n",
    "        return word\n",
    "    elif word[-16:] == 'is not that poor':\n",
    "        word = word.replace('not that poor','good')\n",
    "        return word\n",
    "poor('The lyrics is not that poor')"
   ]
  },
  {
   "cell_type": "code",
   "execution_count": 127,
   "metadata": {},
   "outputs": [
    {
     "data": {
      "text/plain": [
       "'The lyrics is good'"
      ]
     },
     "execution_count": 127,
     "metadata": {},
     "output_type": "execute_result"
    }
   ],
   "source": [
    "poor('The lyrics is poor')"
   ]
  },
  {
   "cell_type": "code",
   "execution_count": 129,
   "metadata": {},
   "outputs": [
    {
     "data": {
      "text/plain": [
       "'The lyrics is poor'"
      ]
     },
     "execution_count": 129,
     "metadata": {},
     "output_type": "execute_result"
    }
   ],
   "source": [
    "# Problem 7,done\n",
    "def poor(word):\n",
    "    if word[-16:] == 'is not that poor':\n",
    "        word = word.replace('not that poor','good')\n",
    "        return word\n",
    "    else:return word\n",
    "poor('The lyrics is poor')"
   ]
  },
  {
   "cell_type": "code",
   "execution_count": 130,
   "metadata": {},
   "outputs": [
    {
     "data": {
      "text/plain": [
       "'The lyrics is good'"
      ]
     },
     "execution_count": 130,
     "metadata": {},
     "output_type": "execute_result"
    }
   ],
   "source": [
    "poor('The lyrics is not that poor')"
   ]
  },
  {
   "cell_type": "code",
   "execution_count": 131,
   "metadata": {},
   "outputs": [],
   "source": [
    "# Problem 7, website solution\n",
    "def not_poor(str1):\n",
    "    snot = str1.find('not')\n",
    "    spoor = str1.find('poor')\n",
    "  \n",
    "\n",
    "    if spoor > snot and snot>0 and spoor>0:\n",
    "        str1 = str1.replace(str1[snot:(spoor+4)], 'good')\n",
    "        return str1\n",
    "    else:\n",
    "        return str1"
   ]
  },
  {
   "cell_type": "code",
   "execution_count": null,
   "metadata": {},
   "outputs": [],
   "source": []
  },
  {
   "cell_type": "code",
   "execution_count": null,
   "metadata": {},
   "outputs": [],
   "source": []
  },
  {
   "cell_type": "code",
   "execution_count": 135,
   "metadata": {},
   "outputs": [
    {
     "data": {
      "text/plain": [
       "'ython'"
      ]
     },
     "execution_count": 135,
     "metadata": {},
     "output_type": "execute_result"
    }
   ],
   "source": [
    "# Problem 9,\n",
    "def nth(word,n):\n",
    "    new = ''\n",
    "    for i in word:\n",
    "        if i == word[n]: continue\n",
    "        else: new+=i\n",
    "    return new\n",
    "nth('python',0)"
   ]
  },
  {
   "cell_type": "code",
   "execution_count": 134,
   "metadata": {},
   "outputs": [
    {
     "data": {
      "text/plain": [
       "'pythn'"
      ]
     },
     "execution_count": 134,
     "metadata": {},
     "output_type": "execute_result"
    }
   ],
   "source": [
    "# Problem 9,website solution\n",
    "def nth(word,n):\n",
    "    f = word[:n]\n",
    "    l = word[n+1:]\n",
    "    return f+l\n",
    "nth('python',4)"
   ]
  },
  {
   "cell_type": "code",
   "execution_count": 3,
   "metadata": {},
   "outputs": [
    {
     "data": {
      "text/plain": [
       "'dbca'"
      ]
     },
     "execution_count": 3,
     "metadata": {},
     "output_type": "execute_result"
    }
   ],
   "source": [
    "# Problem 10,done\n",
    "def exchange(word): \n",
    "    return word[-1:]+ word[1:len(word)-1]+word[0:1]\n",
    "exchange('abcd')"
   ]
  },
  {
   "cell_type": "code",
   "execution_count": 23,
   "metadata": {},
   "outputs": [
    {
     "data": {
      "text/plain": [
       "'ace'"
      ]
     },
     "execution_count": 23,
     "metadata": {},
     "output_type": "execute_result"
    }
   ],
   "source": [
    "# Problem 11, website solution didnt do it\n",
    "def odd(word):\n",
    "    word1 = ''\n",
    "    for i in range(len(word)):\n",
    "        if i % 2 == 0:\n",
    "            word1+= word[i]\n",
    "    return word1\n",
    "odd('abcdef')"
   ]
  },
  {
   "cell_type": "code",
   "execution_count": 36,
   "metadata": {},
   "outputs": [
    {
     "data": {
      "text/plain": [
       "{'m': 2,\n",
       " 'y': 1,\n",
       " 'n': 1,\n",
       " 'a': 1,\n",
       " 'e': 2,\n",
       " 'i': 2,\n",
       " 's': 1,\n",
       " 'r': 1,\n",
       " 'u': 2,\n",
       " 't': 1,\n",
       " 'h': 1,\n",
       " 'o': 1,\n",
       " 'v': 1,\n",
       " 'k': 1}"
      ]
     },
     "execution_count": 36,
     "metadata": {},
     "output_type": "execute_result"
    }
   ],
   "source": [
    "# Problem 12,\n",
    "def sentence(word):\n",
    "    word = word.replace(' ','')\n",
    "    count = {}\n",
    "    for i in word:\n",
    "        key = count.keys()\n",
    "        if i in key:\n",
    "            count[i]+=1\n",
    "        else:\n",
    "            count[i] =1\n",
    "    return count\n",
    "sentence('my name is ruth ovuike')"
   ]
  },
  {
   "cell_type": "code",
   "execution_count": 37,
   "metadata": {},
   "outputs": [
    {
     "name": "stdout",
     "output_type": "stream",
     "text": [
      "MYnameisruth\n"
     ]
    }
   ],
   "source": [
    "# brain storm, takes away white spaces\n",
    "word = 'MY name is ruth'\n",
    "print(word.replace(' ',''))"
   ]
  },
  {
   "cell_type": "code",
   "execution_count": 45,
   "metadata": {},
   "outputs": [
    {
     "name": "stdout",
     "output_type": "stream",
     "text": [
      "mynmaeisruth\n"
     ]
    }
   ],
   "source": [
    "# takes away a abundance of white spaces\n",
    "word = '  my   nmae is       ruth'\n",
    "print(''.join(word.split()))"
   ]
  },
  {
   "cell_type": "code",
   "execution_count": 39,
   "metadata": {},
   "outputs": [
    {
     "data": {
      "text/plain": [
       "{'my': 1, 'name': 1, 'is': 1, 'ruth': 1, 'ovuike': 1}"
      ]
     },
     "execution_count": 39,
     "metadata": {},
     "output_type": "execute_result"
    }
   ],
   "source": [
    "# Problem 12, different\n",
    "def sentence(word):\n",
    "    word = word.split()\n",
    "    count = {}\n",
    "    for i in word:\n",
    "        key = count.keys()\n",
    "        if i in key:\n",
    "            count[i]+=1\n",
    "        else:\n",
    "            count[i] =1\n",
    "    return count\n",
    "sentence('my name is ruth ovuike')"
   ]
  },
  {
   "cell_type": "code",
   "execution_count": 52,
   "metadata": {},
   "outputs": [
    {
     "name": "stdout",
     "output_type": "stream",
     "text": [
      "Plese put a list of colours with commas: blue,orange,black,pink\n",
      "black,blue,orange,pink\n"
     ]
    }
   ],
   "source": [
    "# Problem 13\n",
    "items = input('Plese put a list of colours with commas: ')\n",
    "words = [word for word in items.split(',')]\n",
    "print(','.join(sorted(list(set(words)))))\n",
    "\n"
   ]
  },
  {
   "cell_type": "code",
   "execution_count": 54,
   "metadata": {},
   "outputs": [
    {
     "data": {
      "text/plain": [
       "\"->'<i>Python</i>'\""
      ]
     },
     "execution_count": 54,
     "metadata": {},
     "output_type": "execute_result"
    }
   ],
   "source": [
    "# Problem 14,done\n",
    "def html(x,y):\n",
    "    return f\"->'<{x}>{y}</{x}>'\"\n",
    "html('i','Python')"
   ]
  },
  {
   "cell_type": "code",
   "execution_count": 55,
   "metadata": {},
   "outputs": [
    {
     "data": {
      "text/plain": [
       "'{{Ruth}}'"
      ]
     },
     "execution_count": 55,
     "metadata": {},
     "output_type": "execute_result"
    }
   ],
   "source": [
    "# Problem 15\n",
    "def middle(i,k):\n",
    "    return i[:2] + k + i[2:]\n",
    "middle('{{}}','Ruth')"
   ]
  },
  {
   "cell_type": "code",
   "execution_count": 57,
   "metadata": {},
   "outputs": [
    {
     "data": {
      "text/plain": [
       "'onononon'"
      ]
     },
     "execution_count": 57,
     "metadata": {},
     "output_type": "execute_result"
    }
   ],
   "source": [
    "# Problem 16,done\n",
    "def copy(k):\n",
    "    return k[-2:] * 4\n",
    "copy('Python')"
   ]
  },
  {
   "cell_type": "code",
   "execution_count": 60,
   "metadata": {},
   "outputs": [
    {
     "data": {
      "text/plain": [
       "'Pyt'"
      ]
     },
     "execution_count": 60,
     "metadata": {},
     "output_type": "execute_result"
    }
   ],
   "source": [
    "# Problem 17,done\n",
    "def three(m):\n",
    "    return m[0:3]\n",
    "three('Python')"
   ]
  },
  {
   "cell_type": "code",
   "execution_count": 81,
   "metadata": {},
   "outputs": [
    {
     "data": {
      "text/plain": [
       "'htuR'"
      ]
     },
     "execution_count": 81,
     "metadata": {},
     "output_type": "execute_result"
    }
   ],
   "source": [
    "# Problem 19,\n",
    "def four(p):\n",
    "    if len(p) % 4 == 0: p = p[::-1]\n",
    "    return p\n",
    "four('Ruth')"
   ]
  },
  {
   "cell_type": "code",
   "execution_count": 112,
   "metadata": {},
   "outputs": [
    {
     "data": {
      "text/plain": [
       "'PYTHON'"
      ]
     },
     "execution_count": 112,
     "metadata": {},
     "output_type": "execute_result"
    }
   ],
   "source": [
    "# Problem 20,\n",
    "def upper(k):\n",
    "    counter = 0\n",
    "    for i in k[0:4]:\n",
    "        if i.upper() == i:\n",
    "            counter+=1\n",
    "    if counter >= 2:\n",
    "        return k.upper()\n",
    "    return k\n",
    "upper('PyThon')"
   ]
  },
  {
   "cell_type": "code",
   "execution_count": 118,
   "metadata": {},
   "outputs": [
    {
     "data": {
      "text/plain": [
       "['3', 'c', 'e', 'e', 'o', 'r', 'r', 's', 'u', 'w']"
      ]
     },
     "execution_count": 118,
     "metadata": {},
     "output_type": "execute_result"
    }
   ],
   "source": [
    "# Problem 21:\n",
    "def f(k):\n",
    "    return sorted(sorted(k), key = str.upper)\n",
    "f('w3resource')"
   ]
  },
  {
   "cell_type": "code",
   "execution_count": 121,
   "metadata": {},
   "outputs": [
    {
     "name": "stdout",
     "output_type": "stream",
     "text": [
      "Flase\n"
     ]
    }
   ],
   "source": [
    "# Problem 24,done\n",
    "def start(k,o):\n",
    "    if o == k[0:len(o)]:\n",
    "        print('True')\n",
    "    else: print('Flase')\n",
    "start('apple','ker')"
   ]
  },
  {
   "cell_type": "code",
   "execution_count": 123,
   "metadata": {},
   "outputs": [
    {
     "name": "stdout",
     "output_type": "stream",
     "text": [
      "True\n"
     ]
    }
   ],
   "source": [
    "# Problem 24\n",
    "def start1(k,o):\n",
    "    print(k.startswith(o))\n",
    "start1('apple','app')        "
   ]
  },
  {
   "cell_type": "code",
   "execution_count": 125,
   "metadata": {},
   "outputs": [
    {
     "data": {
      "text/plain": [
       "'13.00'"
      ]
     },
     "execution_count": 125,
     "metadata": {},
     "output_type": "execute_result"
    }
   ],
   "source": [
    "# Problem 30,done\n",
    "def decimal(f):\n",
    "    return f'{f:.2f}'\n",
    "    \n",
    "decimal(12.9999 )"
   ]
  },
  {
   "cell_type": "code",
   "execution_count": 128,
   "metadata": {},
   "outputs": [
    {
     "data": {
      "text/plain": [
       "'+3.14'"
      ]
     },
     "execution_count": 128,
     "metadata": {},
     "output_type": "execute_result"
    }
   ],
   "source": [
    "# Problem 31,done\n",
    "def sign(x):\n",
    "    return f'{x:+.2f}'\n",
    "sign(3.1415926)"
   ]
  },
  {
   "cell_type": "code",
   "execution_count": 129,
   "metadata": {},
   "outputs": [
    {
     "data": {
      "text/plain": [
       "'-13'"
      ]
     },
     "execution_count": 129,
     "metadata": {},
     "output_type": "execute_result"
    }
   ],
   "source": [
    "# Problem 32,done\n",
    "def nodec(g):\n",
    "    return f'{g:.0f}'\n",
    "nodec(-12.9999 )"
   ]
  },
  {
   "cell_type": "code",
   "execution_count": 137,
   "metadata": {},
   "outputs": [
    {
     "data": {
      "text/plain": [
       "'00000023'"
      ]
     },
     "execution_count": 137,
     "metadata": {},
     "output_type": "execute_result"
    }
   ],
   "source": [
    "# Problem 33,done\n",
    "def left(l):\n",
    "    return '{:0>8}'.format(l)\n",
    "left('23')"
   ]
  },
  {
   "cell_type": "code",
   "execution_count": 140,
   "metadata": {},
   "outputs": [
    {
     "data": {
      "text/plain": [
       "'34********'"
      ]
     },
     "execution_count": 140,
     "metadata": {},
     "output_type": "execute_result"
    }
   ],
   "source": [
    "# Problem 34,done\n",
    "def right(l,x):\n",
    "    return f'{l:*<{x}}'\n",
    "right('34',10)"
   ]
  },
  {
   "cell_type": "code",
   "execution_count": 144,
   "metadata": {},
   "outputs": [
    {
     "data": {
      "text/plain": [
       "'23,456,789'"
      ]
     },
     "execution_count": 144,
     "metadata": {},
     "output_type": "execute_result"
    }
   ],
   "source": [
    "# Problem 35,done\n",
    "def comma(k):\n",
    "    return f'{k:,}'\n",
    "comma(23456789)"
   ]
  },
  {
   "cell_type": "code",
   "execution_count": 150,
   "metadata": {},
   "outputs": [
    {
     "data": {
      "text/plain": [
       "'67.65%'"
      ]
     },
     "execution_count": 150,
     "metadata": {},
     "output_type": "execute_result"
    }
   ],
   "source": [
    "# Problem 36,done\n",
    "def per(o):\n",
    "    return '{:.2%}'.format(o)\n",
    "per((23/34))"
   ]
  },
  {
   "cell_type": "code",
   "execution_count": 159,
   "metadata": {},
   "outputs": [
    {
     "data": {
      "text/plain": [
       "('22$$$$$$$$', '$$$$$$$$22', '$$$$22$$$$')"
      ]
     },
     "execution_count": 159,
     "metadata": {},
     "output_type": "execute_result"
    }
   ],
   "source": [
    "# Problem 37,done\n",
    "def everything(s,r):\n",
    "    a = f'{s}'.ljust(10,r)\n",
    "    b = f'{s}'.rjust(10,r)\n",
    "    c = f'{s}'.center(10,r)\n",
    "    return a,b,c\n",
    "everything('22','$')"
   ]
  },
  {
   "cell_type": "code",
   "execution_count": 160,
   "metadata": {},
   "outputs": [
    {
     "data": {
      "text/plain": [
       "('22$$$$$$$$', '$$$$$$$$22', '$$$$22$$$$')"
      ]
     },
     "execution_count": 160,
     "metadata": {},
     "output_type": "execute_result"
    }
   ],
   "source": [
    "# Problem 37,done, another way\n",
    "def everything1(s,r):\n",
    "    a = f'{s:$>10}'\n",
    "    b = f'{s:$<10}'\n",
    "    c = f'{s:$^10}'\n",
    "    return a,b,c\n",
    "everything('22','$')"
   ]
  },
  {
   "cell_type": "code",
   "execution_count": 161,
   "metadata": {},
   "outputs": [
    {
     "data": {
      "text/plain": [
       "4"
      ]
     },
     "execution_count": 161,
     "metadata": {},
     "output_type": "execute_result"
    }
   ],
   "source": [
    "# Problem 38, done\n",
    "def amount(f,g):\n",
    "    return f'{f}'.count(g)\n",
    "amount('apples are appealing','p')"
   ]
  },
  {
   "cell_type": "code",
   "execution_count": 162,
   "metadata": {},
   "outputs": [
    {
     "data": {
      "text/plain": [
       "'htuR si eman yM'"
      ]
     },
     "execution_count": 162,
     "metadata": {},
     "output_type": "execute_result"
    }
   ],
   "source": [
    "# Problem 39,done\n",
    "def re(e):\n",
    "    return e[::-1]\n",
    "re('My name is Ruth')"
   ]
  },
  {
   "cell_type": "code",
   "execution_count": 167,
   "metadata": {},
   "outputs": [
    {
     "data": {
      "text/plain": [
       "'htuR si eman yM'"
      ]
     },
     "execution_count": 167,
     "metadata": {},
     "output_type": "execute_result"
    }
   ],
   "source": [
    "# Problem 39, another way\n",
    "def re(e):\n",
    "    return ''.join(reversed(e))\n",
    "re('My name is Ruth')"
   ]
  },
  {
   "cell_type": "code",
   "execution_count": 169,
   "metadata": {},
   "outputs": [
    {
     "data": {
      "text/plain": [
       "'fox brown quick The'"
      ]
     },
     "execution_count": 169,
     "metadata": {},
     "output_type": "execute_result"
    }
   ],
   "source": [
    "# Problem 40,done\n",
    "def re2(r):\n",
    "    r = r.split()\n",
    "    r = r[::-1]\n",
    "    return  ' '.join(r)\n",
    "re2('The quick brown fox')"
   ]
  },
  {
   "cell_type": "code",
   "execution_count": 171,
   "metadata": {},
   "outputs": [
    {
     "data": {
      "text/plain": [
       "'dog. lazy the over jumps fox brown quick The'"
      ]
     },
     "execution_count": 171,
     "metadata": {},
     "output_type": "execute_result"
    }
   ],
   "source": [
    "# Problem 41, another way,done\n",
    "def re3(r):\n",
    "    r = r.split()\n",
    "    return ' '.join(reversed(r))\n",
    "re3(\"The quick brown fox jumps over the lazy dog.\")"
   ]
  },
  {
   "cell_type": "code",
   "execution_count": 188,
   "metadata": {},
   "outputs": [
    {
     "name": "stdout",
     "output_type": "stream",
     "text": [
      "['o', 'l', 'k', 'h', 'y', 't', 's', 'r', 'e', 'v', 'c', 'b', 'f', 'g', 'i', 'w', 'x', 'z', 'q', 'm', 'n']\n",
      "[2, 4, 3, 4, 2, 1, 1, 2, 1, 3, 3, 1, 2, 5, 1, 3, 2, 2, 2, 2, 1]\n"
     ]
    }
   ],
   "source": [
    "# Problem 42,done\n",
    "def frequency(r):\n",
    "    f = {}\n",
    "    c = f.keys()\n",
    "    for i in r:\n",
    "        if i in c:\n",
    "            f[i]+=1\n",
    "        else: f[i] = 1\n",
    "    a = list(f)\n",
    "    b = list(f.values())\n",
    "    for j in a,b:\n",
    "        print(j)\n",
    "frequency('oolkhytsrevcbfhgkriywwwlllkfhcggggcvxxzzqqmmnvh')"
   ]
  },
  {
   "cell_type": "code",
   "execution_count": 191,
   "metadata": {},
   "outputs": [
    {
     "data": {
      "text/plain": [
       "{'l': 3,\n",
       " 'k': 3,\n",
       " 'j': 3,\n",
       " 'h': 2,\n",
       " 'g': 2,\n",
       " 'f': 2,\n",
       " 'd': 2,\n",
       " 's': 2,\n",
       " 'a': 1,\n",
       " 'y': 2,\n",
       " 'u': 2,\n",
       " 'i': 2,\n",
       " 'o': 2,\n",
       " 'p': 1,\n",
       " 't': 1,\n",
       " 'r': 1,\n",
       " 'e': 1,\n",
       " 'w': 1,\n",
       " 'q': 1,\n",
       " 'x': 5,\n",
       " 'z': 4,\n",
       " 'c': 2,\n",
       " 'v': 3,\n",
       " 'b': 3,\n",
       " 'n': 4,\n",
       " 'm': 2}"
      ]
     },
     "execution_count": 191,
     "metadata": {},
     "output_type": "execute_result"
    }
   ],
   "source": [
    "#Problem 42, another way\n",
    "def freq(r):  \n",
    "    f = {}\n",
    "    c = f.keys()\n",
    "    for i in r:\n",
    "        if i in c:\n",
    "            f[i]+=1\n",
    "        else: f[i] = 1\n",
    "    return f\n",
    "freq('lkjlkjhgfdsasdfgyhujikolpoiuytrewqxzxzxzxzxcvvbnnmvncbnbm')"
   ]
  },
  {
   "cell_type": "code",
   "execution_count": 197,
   "metadata": {},
   "outputs": [
    {
     "data": {
      "text/plain": [
       "'234567.00cm³'"
      ]
     },
     "execution_count": 197,
     "metadata": {},
     "output_type": "execute_result"
    }
   ],
   "source": [
    "# Problem 43\n",
    "def decimal(f,c):\n",
    "    return \"{0:.{1}f}cm\\u00b3\".format(f,c)\n",
    "decimal(234567,2)"
   ]
  },
  {
   "cell_type": "code",
   "execution_count": 198,
   "metadata": {},
   "outputs": [
    {
     "data": {
      "text/plain": [
       "'234567.00cm²'"
      ]
     },
     "execution_count": 198,
     "metadata": {},
     "output_type": "execute_result"
    }
   ],
   "source": [
    "def decimal(f,c):\n",
    "    return \"{0:.{1}f}cm\\u00b2\".format(f,c)\n",
    "decimal(234567,2)"
   ]
  },
  {
   "cell_type": "code",
   "execution_count": 203,
   "metadata": {},
   "outputs": [
    {
     "name": "stdout",
     "output_type": "stream",
     "text": [
      "R 0\n",
      "u 1\n",
      "t 2\n",
      "h 3\n"
     ]
    }
   ],
   "source": [
    "#Problem 44,done\n",
    "def index(f):\n",
    "    for i in f:print(i, f.find(i))\n",
    "index('Ruth')"
   ]
  },
  {
   "cell_type": "code",
   "execution_count": 202,
   "metadata": {},
   "outputs": [
    {
     "name": "stdout",
     "output_type": "stream",
     "text": [
      "H 0\n",
      "o 1\n",
      "n 2\n",
      "e 3\n",
      "y 4\n"
     ]
    }
   ],
   "source": [
    "def index2(f):\n",
    "    for x,y in enumerate(f):\n",
    "        print(y,x)\n",
    "index2('Honey')"
   ]
  },
  {
   "cell_type": "code",
   "execution_count": 261,
   "metadata": {},
   "outputs": [
    {
     "name": "stdout",
     "output_type": "stream",
     "text": [
      "False\n"
     ]
    }
   ],
   "source": [
    "# Problem 45,done\n",
    "def alll(z):\n",
    "    z = z.lower()\n",
    "    c = 'abcdefghijklmnopqrstuvwxyz'\n",
    "    z = z.replace(' ','')\n",
    "    z = ''.join(list(sorted(set(z))))\n",
    "    print(z in c)\n",
    "alll('honey crunch and oats')"
   ]
  },
  {
   "cell_type": "code",
   "execution_count": 262,
   "metadata": {},
   "outputs": [
    {
     "name": "stdout",
     "output_type": "stream",
     "text": [
      "True\n"
     ]
    }
   ],
   "source": [
    "alll('The quick brown fox jumps over the lazy dog')"
   ]
  },
  {
   "cell_type": "code",
   "execution_count": 264,
   "metadata": {},
   "outputs": [
    {
     "data": {
      "text/plain": [
       "'thequickbrownfoxjumpsoverthelazydog'"
      ]
     },
     "execution_count": 264,
     "metadata": {},
     "output_type": "execute_result"
    }
   ],
   "source": [
    "# Brainstorm,45\n",
    "x = 'the quick brown fox jumps over the lazy dog'\n",
    "x = x.replace(' ','')\n",
    "x\n",
    "#x = list(sorted(set('the quick brown fox jumps over the lazy dog')))\n",
    "#''.join(x)"
   ]
  },
  {
   "cell_type": "code",
   "execution_count": 266,
   "metadata": {},
   "outputs": [
    {
     "data": {
      "text/plain": [
       "['This', 'is', 'a', 'test', 'string']"
      ]
     },
     "execution_count": 266,
     "metadata": {},
     "output_type": "execute_result"
    }
   ],
   "source": [
    "# Problem 46,done\n",
    "def listt(f):\n",
    "    return f.split()\n",
    "listt('This is a test string')"
   ]
  },
  {
   "cell_type": "code",
   "execution_count": 271,
   "metadata": {},
   "outputs": [
    {
     "data": {
      "text/plain": [
       "'honEys'"
      ]
     },
     "execution_count": 271,
     "metadata": {},
     "output_type": "execute_result"
    }
   ],
   "source": [
    "# Problem 47,done\n",
    "def first(f,n):\n",
    "    a = f[0:n].lower()\n",
    "    f = a + f[n:]\n",
    "    return f\n",
    "first('HONEys',3)"
   ]
  },
  {
   "cell_type": "code",
   "execution_count": 272,
   "metadata": {},
   "outputs": [
    {
     "data": {
      "text/plain": [
       "'w3reSOURCE.COM'"
      ]
     },
     "execution_count": 272,
     "metadata": {},
     "output_type": "execute_result"
    }
   ],
   "source": [
    "first('W3RESOURCE.COM',4)"
   ]
  },
  {
   "cell_type": "code",
   "execution_count": 3,
   "metadata": {},
   "outputs": [
    {
     "data": {
      "text/plain": [
       "'32,054.23'"
      ]
     },
     "execution_count": 3,
     "metadata": {},
     "output_type": "execute_result"
    }
   ],
   "source": [
    "# Problem 48,done\n",
    "def swap(f):\n",
    "    if '.' and ',' in f:\n",
    "        x = str.maketrans('.,',',.')\n",
    "        f = f.translate(x) \n",
    "    return f\n",
    "swap(\"32.054,23\")"
   ]
  },
  {
   "cell_type": "code",
   "execution_count": 12,
   "metadata": {},
   "outputs": [
    {
     "name": "stdout",
     "output_type": "stream",
     "text": [
      "8\n",
      "['a', 'e', 'i', 'o', 'o', 'a', 'o', 'u']\n"
     ]
    }
   ],
   "source": [
    "# Problem 49,\n",
    "def vowels(q):\n",
    "        q =  q.lower()\n",
    "        vow = 'aeiou'\n",
    "        print(len([x for x in q if x in vow]))\n",
    "        print([x for x in q if x in vow])\n",
    "vowels('cake is good and you')"
   ]
  },
  {
   "cell_type": "code",
   "execution_count": 15,
   "metadata": {},
   "outputs": [
    {
     "data": {
      "text/plain": [
       "['w,3,r,e,s,o', 'u', 'r', 'c', 'e']"
      ]
     },
     "execution_count": 15,
     "metadata": {},
     "output_type": "execute_result"
    }
   ],
   "source": [
    "# Problem 50,done\n",
    "def vowels(Q,n):\n",
    "    Q = Q[:].rsplit(',',n)\n",
    "    return Q\n",
    "vowels(\"w,3,r,e,s,o,u,r,c,e\",4)"
   ]
  },
  {
   "cell_type": "code",
   "execution_count": 4,
   "metadata": {},
   "outputs": [
    {
     "data": {
      "text/plain": [
       "'e'"
      ]
     },
     "execution_count": 4,
     "metadata": {},
     "output_type": "execute_result"
    }
   ],
   "source": [
    "# Problem 51,53\n",
    "def repeat(B):\n",
    "    f = {}\n",
    "    c = []\n",
    "    for i in B:\n",
    "        if i in f:\n",
    "            f[i]+=1\n",
    "        else: \n",
    "            f[i] =1\n",
    "            c.append(i)\n",
    "    for x in c:\n",
    "        if f[x] == 1:\n",
    "            return x\n",
    "    return None \n",
    "repeat('abcabcef')"
   ]
  },
  {
   "cell_type": "code",
   "execution_count": 8,
   "metadata": {},
   "outputs": [
    {
     "data": {
      "text/plain": [
       "'a'"
      ]
     },
     "execution_count": 8,
     "metadata": {},
     "output_type": "execute_result"
    }
   ],
   "source": [
    "# Problem 53, done\n",
    "def strepeat(x):\n",
    "    f = []\n",
    "    g = {}\n",
    "    for i in x:\n",
    "        if i in g:\n",
    "            g[i]+= 1\n",
    "        else: \n",
    "            g[i]=1\n",
    "            f.append(i)\n",
    "    for v in f:\n",
    "        if g[v]== 2:\n",
    "            return v\n",
    "    return None \n",
    "strepeat('apap')"
   ]
  },
  {
   "cell_type": "code",
   "execution_count": 33,
   "metadata": {},
   "outputs": [
    {
     "data": {
      "text/plain": [
       "'a'"
      ]
     },
     "execution_count": 33,
     "metadata": {},
     "output_type": "execute_result"
    }
   ],
   "source": [
    "# Problem 53 shorter,have to learn\n",
    "def repeat3(z):\n",
    "    for x,y in enumerate(z):\n",
    "        if z[:x+1].count(y) > 1:\n",
    "            return y\n",
    "    return None\n",
    "repeat3('apap')"
   ]
  },
  {
   "cell_type": "code",
   "execution_count": 34,
   "metadata": {},
   "outputs": [
    {
     "data": {
      "text/plain": [
       "'x'"
      ]
     },
     "execution_count": 34,
     "metadata": {},
     "output_type": "execute_result"
    }
   ],
   "source": [
    "# Problem 54,55\n",
    "def repeat4(v):\n",
    "    word = {}\n",
    "    for c in v:\n",
    "        if c in word:\n",
    "            return c;\n",
    "        else:\n",
    "            word[c] = 0\n",
    "    return None\n",
    "repeat4('abgxxnh')"
   ]
  },
  {
   "cell_type": "code",
   "execution_count": 45,
   "metadata": {},
   "outputs": [
    {
     "name": "stdout",
     "output_type": "stream",
     "text": [
      "('of', 4)\n"
     ]
    }
   ],
   "source": [
    "# Problem 56,59\n",
    "def most(c):\n",
    "    c = c.split()\n",
    "    f = {}\n",
    "    for i in c:\n",
    "        if i in f:\n",
    "            f[i]+=1\n",
    "        else:\n",
    "            f[i] = 1\n",
    "    counts = sorted(f.items(), key= lambda kv: kv[1])\n",
    "    return counts[-2]\n",
    "print(most(\"Both of these issues are fixed by postponing the evaluation of annotations. Instead of compiling code which executes expressions in annotations at their definition time, the compiler stores the annotation in a string form equivalent to the AST of the expression in question. If needed, annotations can be resolved at runtime using typing.get_type_hints(). In the common case where this is not required, the annotations are cheaper to store (since short strings are interned by the interpreter) and make startup time faster.\"))"
   ]
  },
  {
   "cell_type": "code",
   "execution_count": 46,
   "metadata": {},
   "outputs": [
    {
     "data": {
      "text/plain": [
       "'im'"
      ]
     },
     "execution_count": 46,
     "metadata": {},
     "output_type": "execute_result"
    }
   ],
   "source": [
    "# Problem 55, done\n",
    "def word(o):\n",
    "    o = o.split()\n",
    "    for x, y in enumerate(o):\n",
    "        if o[:x+1].count(y)>1:\n",
    "            return y\n",
    "    return None\n",
    "word('im too good im way too good to you')"
   ]
  },
  {
   "cell_type": "code",
   "execution_count": 48,
   "metadata": {},
   "outputs": [
    {
     "data": {
      "text/plain": [
       "'w3resource'"
      ]
     },
     "execution_count": 48,
     "metadata": {},
     "output_type": "execute_result"
    }
   ],
   "source": [
    "# Problem 57,done\n",
    "def space(q):\n",
    "    q = q.replace(' ','')\n",
    "    return q\n",
    "space('w 3 res ou r ce')    "
   ]
  },
  {
   "cell_type": "code",
   "execution_count": 59,
   "metadata": {},
   "outputs": [
    {
     "data": {
      "text/plain": [
       "'     w3resource.com'"
      ]
     },
     "execution_count": 59,
     "metadata": {},
     "output_type": "execute_result"
    }
   ],
   "source": [
    "# Problem 58\n",
    "def front(a):\n",
    "    v = a.count(' ')\n",
    "    a = a.split()\n",
    "    a = ''.join(a)\n",
    "    a = ' '*v + a\n",
    "    return a\n",
    "front(\"w3resource .  com  \")"
   ]
  },
  {
   "cell_type": "code",
   "execution_count": 61,
   "metadata": {},
   "outputs": [
    {
     "data": {
      "text/plain": [
       "('r', 11)"
      ]
     },
     "execution_count": 61,
     "metadata": {},
     "output_type": "execute_result"
    }
   ],
   "source": [
    "# Problem 59 done\n",
    "def maxx(h):\n",
    "    g = {}\n",
    "    for i in h:\n",
    "        if i in g:\n",
    "            g[i]+=1\n",
    "        else:\n",
    "            g[i] = 1\n",
    "    count = sorted(g.items(),key = lambda x: x[1])\n",
    "    return count[-1]\n",
    "maxx('rrrrrrrrrrruth')"
   ]
  },
  {
   "cell_type": "code",
   "execution_count": 63,
   "metadata": {},
   "outputs": [
    {
     "data": {
      "text/plain": [
       "'RutH'"
      ]
     },
     "execution_count": 63,
     "metadata": {},
     "output_type": "execute_result"
    }
   ],
   "source": [
    "# Problem 60 done, diffrent \n",
    "def cap(c):\n",
    "    c = c[0].capitalize() + c[1:-1] + c[-1].capitalize()\n",
    "    return c\n",
    "cap('ruth')"
   ]
  },
  {
   "cell_type": "code",
   "execution_count": 88,
   "metadata": {},
   "outputs": [
    {
     "data": {
      "text/plain": [
       "' PythoN ExerciseS PracticE SolutioN'"
      ]
     },
     "execution_count": 88,
     "metadata": {},
     "output_type": "execute_result"
    }
   ],
   "source": [
    "# 60,done\n",
    "def cap1(c):\n",
    "    c = c.split()\n",
    "    a = ''\n",
    "    for i in c:\n",
    "        i = i[0].capitalize() + i[1:-1] + i[-1].capitalize()\n",
    "        a = a+' '+i\n",
    "    return a\n",
    "cap1(\"python exercises practice solution\")"
   ]
  },
  {
   "cell_type": "code",
   "execution_count": 85,
   "metadata": {},
   "outputs": [
    {
     "data": {
      "text/plain": [
       "' RutH OvuikE'"
      ]
     },
     "execution_count": 85,
     "metadata": {},
     "output_type": "execute_result"
    }
   ],
   "source": [
    "# brainstrom 60\n",
    "c = 'ruth ovuike'\n",
    "c = c.split()\n",
    "a = ''\n",
    "for i in c:\n",
    "    i = i[0].capitalize() + i[1:-1] + i[-1].capitalize()\n",
    "    a = a+' '+ i\n",
    "a"
   ]
  },
  {
   "cell_type": "code",
   "execution_count": 96,
   "metadata": {},
   "outputs": [
    {
     "data": {
      "text/plain": [
       "'python exrcisalu'"
      ]
     },
     "execution_count": 96,
     "metadata": {},
     "output_type": "execute_result"
    }
   ],
   "source": [
    "# 61,done\n",
    "def dup(y):\n",
    "    f = ''\n",
    "    g = {}\n",
    "    for i in y:\n",
    "        if i in g:\n",
    "            g[i]+=1\n",
    "        else:\n",
    "            g[i] =1\n",
    "            f+=i\n",
    "    return f\n",
    "dup(\"python exercises practice solution\")"
   ]
  },
  {
   "cell_type": "code",
   "execution_count": 97,
   "metadata": {},
   "outputs": [],
   "source": [
    "# 61 another way\n",
    "from collections import OrderedDict\n",
    "def remove_duplicate(str1):\n",
    "    return \"\".join(OrderedDict.fromkeys(str1))\n",
    "     "
   ]
  },
  {
   "cell_type": "code",
   "execution_count": 125,
   "metadata": {},
   "outputs": [
    {
     "data": {
      "text/plain": [
       "10"
      ]
     },
     "execution_count": 125,
     "metadata": {},
     "output_type": "execute_result"
    }
   ],
   "source": [
    "# 62,done\n",
    "def summ(t):\n",
    "    t = sorted(t)\n",
    "    e = '1,2,3,4,5,6,7,8,9,10'\n",
    "    count = ''\n",
    "    count1 = 0\n",
    "    for i in t:\n",
    "        if i in e:\n",
    "            count+=i\n",
    "    for t in count:\n",
    "        t = int(t)\n",
    "        count1+=t\n",
    "    return count1\n",
    "summ('ruth1234')"
   ]
  },
  {
   "cell_type": "code",
   "execution_count": 116,
   "metadata": {},
   "outputs": [
    {
     "name": "stdout",
     "output_type": "stream",
     "text": [
      "10\n",
      "3\n"
     ]
    }
   ],
   "source": [
    "# Brainstorm\n",
    "x = ['a','3','b','m','k','10']\n",
    "x = sorted(x)\n",
    "e = '1,2,3,4,5,6,7,8,9,10'\n",
    "for i in x:\n",
    "    if i in e:\n",
    "        print(i)"
   ]
  },
  {
   "cell_type": "code",
   "execution_count": 126,
   "metadata": {},
   "outputs": [
    {
     "data": {
      "text/plain": [
       "45"
      ]
     },
     "execution_count": 126,
     "metadata": {},
     "output_type": "execute_result"
    }
   ],
   "source": [
    "# 62, condensed\n",
    "def sum1(t):\n",
    "    count = 0\n",
    "    for i in t:\n",
    "        if i.isdigit()== True:\n",
    "            i = int(i)\n",
    "            count+=i\n",
    "    return count\n",
    "sum1('ruth123456789')"
   ]
  },
  {
   "cell_type": "code",
   "execution_count": 4,
   "metadata": {},
   "outputs": [
    {
     "data": {
      "text/plain": [
       "7"
      ]
     },
     "execution_count": 4,
     "metadata": {},
     "output_type": "execute_result"
    }
   ],
   "source": [
    "#64,\n",
    "def maxx(input_str): \n",
    "     return  max(map(len,input_str.split('1')))\n",
    "maxx('1111110000000111110000111111')"
   ]
  },
  {
   "cell_type": "code",
   "execution_count": 5,
   "metadata": {},
   "outputs": [],
   "source": [
    "# Learn 0\n",
    "# 26 problems to pratice plus intertools 72,52,67 and collection 65,68,74,75,42,61 (difflib sequencemacher done) substrings77,80"
   ]
  },
  {
   "cell_type": "code",
   "execution_count": 2,
   "metadata": {},
   "outputs": [
    {
     "name": "stdout",
     "output_type": "stream",
     "text": [
      "pqrxyz\n"
     ]
    }
   ],
   "source": [
    "#70\n",
    "def common(l,n):\n",
    "    set1 = set(l)\n",
    "    set2 = set(n)\n",
    "    result = ''\n",
    "    for i in l:\n",
    "        if i not in set2:\n",
    "            result+=i\n",
    "    for x in n:\n",
    "        if x not in set1:\n",
    "            result+=x\n",
    "    print(result)\n",
    "common('abcdpqr','xyzabcd')            "
   ]
  },
  {
   "cell_type": "code",
   "execution_count": 43,
   "metadata": {},
   "outputs": [
    {
     "data": {
      "text/plain": [
       "'  RuthEzinneOvuike'"
      ]
     },
     "execution_count": 43,
     "metadata": {},
     "output_type": "execute_result"
    }
   ],
   "source": [
    "#71 done\n",
    "def move(m):\n",
    "    space = ''\n",
    "    for i in m:\n",
    "        if i == ' ':\n",
    "            space+=i\n",
    "    m = m.replace(' ','')\n",
    "    return space + m\n",
    "move('Ruth Ezinne Ovuike')"
   ]
  },
  {
   "cell_type": "code",
   "execution_count": 41,
   "metadata": {},
   "outputs": [
    {
     "name": "stdout",
     "output_type": "stream",
     "text": [
      "   tu   yh\n"
     ]
    }
   ],
   "source": [
    "# brainstorm\n",
    "q = 'tu   yh'\n",
    "counter = 0\n",
    "for i in q:\n",
    "    if i == ' ':\n",
    "        counter+=1\n",
    " \n",
    "print(' '*counter + q)"
   ]
  },
  {
   "cell_type": "code",
   "execution_count": 57,
   "metadata": {},
   "outputs": [
    {
     "data": {
      "text/plain": [
       "'Upper case:3, Lowercase:9, Number: 1, Special:4'"
      ]
     },
     "execution_count": 57,
     "metadata": {},
     "output_type": "execute_result"
    }
   ],
   "source": [
    "#73 done\n",
    "def counter(k):\n",
    "    upper1,lower1,num,special = 0,0,0,0\n",
    "    for i in k:\n",
    "        if i.isnumeric()== True:num+=1\n",
    "        elif i in '!@#$%^&*()_+-=:;\\\"\\\"\\\\<,>.?/[]{}|~`':special+=1\n",
    "        elif i == i.upper():upper1+=1\n",
    "        elif i == i.lower():lower1+=1\n",
    "    return f'Upper case:{upper1}, Lowercase:{lower1}, Number: {num}, Special:{special}'\n",
    "counter('@W3Resource/\\.Com')    "
   ]
  },
  {
   "cell_type": "code",
   "execution_count": 50,
   "metadata": {},
   "outputs": [
    {
     "name": "stdout",
     "output_type": "stream",
     "text": [
      "3\n",
      "U\n"
     ]
    }
   ],
   "source": [
    "#brainstorm\n",
    "b = '3rUth'\n",
    "for i in b:\n",
    "    if i == i.upper():print(i)\n",
    "    elif i.isnumeric()== True:print(i)"
   ]
  },
  {
   "cell_type": "code",
   "execution_count": 72,
   "metadata": {},
   "outputs": [
    {
     "data": {
      "text/plain": [
       "(('a', 1), ('Algorithm.', 10))"
      ]
     },
     "execution_count": 72,
     "metadata": {},
     "output_type": "execute_result"
    }
   ],
   "source": [
    "#79 done but kinda learn\n",
    "def small(Q):\n",
    "    Q = Q.split()\n",
    "    r = {}\n",
    "    for i in Q:\n",
    "        r[i] = 0\n",
    "        r[i] = len(i)\n",
    "        count = sorted(r.items(), key = lambda x: x[1])\n",
    "    return count[0], count[-1]\n",
    "small(\"Write a Java program to sort an array of given integers using Quick sort Algorithm.\")"
   ]
  },
  {
   "cell_type": "code",
   "execution_count": 86,
   "metadata": {},
   "outputs": [
    {
     "name": "stdout",
     "output_type": "stream",
     "text": [
      "The quick \n",
      "brown fox\n"
     ]
    }
   ],
   "source": [
    "#82 done but kinda learn escape is always with print,im so smart\n",
    "def par(P,n):\n",
    "    print(P[:n]+ '\\n'+ P[n:] )\n",
    "par('The quick brown fox',10)"
   ]
  },
  {
   "cell_type": "code",
   "execution_count": 20,
   "metadata": {},
   "outputs": [
    {
     "data": {
      "text/plain": [
       "2"
      ]
     },
     "execution_count": 20,
     "metadata": {},
     "output_type": "execute_result"
    }
   ],
   "source": [
    "#78,done\n",
    "def alpha(k):\n",
    "    al = 'abcdefghijklmnopqrstuvwxyz'\n",
    "    counter = 0\n",
    "    counter2 = 0\n",
    "    for i in al[:len(k)]:\n",
    "        if k[counter] ==i:\n",
    "            counter2+=1\n",
    "        counter+=1\n",
    "    return counter2  \n",
    "alpha('xbc')   "
   ]
  },
  {
   "cell_type": "code",
   "execution_count": 8,
   "metadata": {},
   "outputs": [
    {
     "name": "stdout",
     "output_type": "stream",
     "text": [
      "3\n"
     ]
    }
   ],
   "source": [
    "# Brainstorm\n",
    "l = 'abcde'\n",
    "g = 'accge'\n",
    "counter = 0\n",
    "counter2 = 0\n",
    "for i in l:\n",
    "    if g[counter]== i:\n",
    "        counter2+=1\n",
    "    counter+=1\n",
    "print(counter2)"
   ]
  },
  {
   "cell_type": "code",
   "execution_count": 15,
   "metadata": {},
   "outputs": [
    {
     "data": {
      "text/plain": [
       "2"
      ]
     },
     "execution_count": 15,
     "metadata": {},
     "output_type": "execute_result"
    }
   ],
   "source": [
    "#website solution\n",
    "def position(str1): \n",
    "    count_chars = 0\n",
    "    for i in range(len(str1)):\n",
    "        if ((i == ord(str1[i]) - ord('A')) or \n",
    "            (i == ord(str1[i]) - ord('a'))): \n",
    "            count_chars += 1\n",
    "    return count_chars \n",
    "position('xbc')"
   ]
  },
  {
   "cell_type": "code",
   "execution_count": 29,
   "metadata": {},
   "outputs": [
    {
     "name": "stdout",
     "output_type": "stream",
     "text": [
      "Index of E : 7\n",
      "Index of x : 8\n"
     ]
    }
   ],
   "source": [
    "#81,done\n",
    "def findex(a,k):\n",
    "    for i in range(len(k)):\n",
    "        if a.find(k[i])!= -1:\n",
    "             print('Index of',k[i],':',a.index(k[i]))\n",
    "        else: None\n",
    "\n",
    "findex(\"Python Exercises\", \"Ex\")"
   ]
  },
  {
   "cell_type": "code",
   "execution_count": 37,
   "metadata": {},
   "outputs": [
    {
     "data": {
      "text/plain": [
       "'abcd'"
      ]
     },
     "execution_count": 37,
     "metadata": {},
     "output_type": "execute_result"
    }
   ],
   "source": [
    "#69 learn hard\n",
    "from difflib import SequenceMatcher\n",
    "def common(k,l):\n",
    "    matcher = SequenceMatcher(None, a=k, b=l)\n",
    "    match = matcher.find_longest_match(0,len(k),0,len(l))\n",
    "    return k[match.a:match.a+match.size]\n",
    "common('abcdefgh','xswerabcdwd')  "
   ]
  },
  {
   "cell_type": "code",
   "execution_count": 52,
   "metadata": {},
   "outputs": [
    {
     "name": "stdout",
     "output_type": "stream",
     "text": [
      "[(1, 2), (1, 4), (3, 2), (3, 4)]\n"
     ]
    }
   ],
   "source": [
    "# itertools(product,permutations,combinations,accumulate,groupby,if): 52,67,72\n",
    "from itertools import product\n",
    "a = [1,3]\n",
    "b = [2,4]               #all possible combinations\n",
    "pro = list(product(a,b))\n",
    "print(pro)"
   ]
  },
  {
   "cell_type": "code",
   "execution_count": 41,
   "metadata": {},
   "outputs": [
    {
     "name": "stdout",
     "output_type": "stream",
     "text": [
      "[(1, 3, 1, 3), (1, 3, 1, 4), (1, 3, 2, 3), (1, 3, 2, 4), (1, 4, 1, 3), (1, 4, 1, 4), (1, 4, 2, 3), (1, 4, 2, 4), (2, 3, 1, 3), (2, 3, 1, 4), (2, 3, 2, 3), (2, 3, 2, 4), (2, 4, 1, 3), (2, 4, 1, 4), (2, 4, 2, 3), (2, 4, 2, 4)]\n"
     ]
    }
   ],
   "source": [
    "pro = list(product(a,b,repeat=2)) #repeats it twice\n",
    "print(pro)"
   ]
  },
  {
   "cell_type": "code",
   "execution_count": 48,
   "metadata": {},
   "outputs": [
    {
     "name": "stdout",
     "output_type": "stream",
     "text": [
      "[(5, 6, 7), (5, 7, 6), (6, 5, 7), (6, 7, 5), (7, 5, 6), (7, 6, 5)]\n"
     ]
    }
   ],
   "source": [
    "from itertools import permutations\n",
    "c = [5,6,7]\n",
    "letgo = list(permutations(c)) #all possible oderings\n",
    "print(letgo)"
   ]
  },
  {
   "cell_type": "code",
   "execution_count": 50,
   "metadata": {},
   "outputs": [
    {
     "name": "stdout",
     "output_type": "stream",
     "text": [
      "[(1, 2), (1, 3), (1, 4), (2, 3), (2, 4), (3, 4)]\n"
     ]
    }
   ],
   "source": [
    "from itertools import combinations\n",
    "f = [1,2,3,4]\n",
    "comb = list(combinations(f,2)) # different kind of combination no repeatition\n",
    "print(comb)"
   ]
  },
  {
   "cell_type": "code",
   "execution_count": 53,
   "metadata": {},
   "outputs": [
    {
     "name": "stdout",
     "output_type": "stream",
     "text": [
      "[(1, 1), (1, 2), (1, 3), (1, 4), (2, 2), (2, 3), (2, 4), (3, 3), (3, 4), (4, 4)]\n"
     ]
    }
   ],
   "source": [
    "from itertools import combinations,combinations_with_replacement\n",
    "comb = list(combinations_with_replacement(f,2)) #has reprtition if needed\n",
    "print(comb)"
   ]
  },
  {
   "cell_type": "code",
   "execution_count": 63,
   "metadata": {},
   "outputs": [
    {
     "name": "stdout",
     "output_type": "stream",
     "text": [
      "[1, 2, 3, 4] \n",
      " [1, 3, 6, 10]\n"
     ]
    }
   ],
   "source": [
    "from itertools import accumulate\n",
    "import operator\n",
    "a = [1,2,3,4]\n",
    "acc = list(accumulate(a)) #adds them \n",
    "print(a,'\\n',acc)"
   ]
  },
  {
   "cell_type": "code",
   "execution_count": 64,
   "metadata": {},
   "outputs": [
    {
     "name": "stdout",
     "output_type": "stream",
     "text": [
      "[1, 2, 6, 24]\n"
     ]
    }
   ],
   "source": [
    "acc = list(accumulate(a, func= operator.mul))\n",
    "print(acc)# multiplys it"
   ]
  },
  {
   "cell_type": "code",
   "execution_count": 67,
   "metadata": {},
   "outputs": [
    {
     "name": "stdout",
     "output_type": "stream",
     "text": [
      "[1, 2, 5, 4, 4] \n",
      " [1, 2, 5, 5, 5]\n"
     ]
    }
   ],
   "source": [
    "a = [1,2,5,4,4]\n",
    "acc = list(accumulate(a,func = max))# gives you the max\n",
    "print(a,'\\n',acc)"
   ]
  },
  {
   "cell_type": "code",
   "execution_count": 12,
   "metadata": {},
   "outputs": [
    {
     "name": "stdout",
     "output_type": "stream",
     "text": [
      "-5\n"
     ]
    }
   ],
   "source": [
    "                              #list\n",
    "#1 Write a Python program to sum all the items in a list,you got iy but stiil need to Revise\n",
    "from functools import reduce\n",
    "def num(n):\n",
    "    print(reduce(lambda x,y: x+y,n))\n",
    "num([1,2,-8])"
   ]
  },
  {
   "cell_type": "code",
   "execution_count": 14,
   "metadata": {},
   "outputs": [
    {
     "name": "stdout",
     "output_type": "stream",
     "text": [
      "-16\n"
     ]
    }
   ],
   "source": [
    "#2 Done\n",
    "def multi(h):\n",
    "    print(reduce(lambda x,y:x*y,h))\n",
    "multi([1,2,-8])"
   ]
  },
  {
   "cell_type": "code",
   "execution_count": 20,
   "metadata": {},
   "outputs": [
    {
     "data": {
      "text/plain": [
       "2"
      ]
     },
     "execution_count": 20,
     "metadata": {},
     "output_type": "execute_result"
    }
   ],
   "source": [
    "#3 R but you still got it\n",
    "def large(n):\n",
    "    n.sort(reverse = True,key = lambda x: x)\n",
    "    return n[0]\n",
    "large([1,2,-8,0])"
   ]
  },
  {
   "cell_type": "code",
   "execution_count": 21,
   "metadata": {},
   "outputs": [
    {
     "data": {
      "text/plain": [
       "-8"
      ]
     },
     "execution_count": 21,
     "metadata": {},
     "output_type": "execute_result"
    }
   ],
   "source": [
    "#4 Done\n",
    "def minn(n):\n",
    "    n.sort(key = lambda x:x)\n",
    "    return n[0]\n",
    "minn([1,2,-8,0])"
   ]
  },
  {
   "cell_type": "code",
   "execution_count": 27,
   "metadata": {},
   "outputs": [
    {
     "data": {
      "text/plain": [
       "['abc']"
      ]
     },
     "execution_count": 27,
     "metadata": {},
     "output_type": "execute_result"
    }
   ],
   "source": [
    "#5 Done\n",
    "def lenn(p):\n",
    "    return [i for i in p if len(i)>=2 ]\n",
    "lenn(['abc','c'])"
   ]
  },
  {
   "cell_type": "code",
   "execution_count": 47,
   "metadata": {},
   "outputs": [
    {
     "data": {
      "text/plain": [
       "[[(2, 1), (1, 2), (2, 3), (4, 4), (2, 5)]]"
      ]
     },
     "execution_count": 47,
     "metadata": {},
     "output_type": "execute_result"
    }
   ],
   "source": [
    "#6 R\n",
    "def decending(k):\n",
    "    return [sorted(k,key =lambda x:x[1]) ]\n",
    "decending([(2, 5), (1, 2), (4, 4), (2, 3), (2, 1)])"
   ]
  },
  {
   "cell_type": "code",
   "execution_count": 48,
   "metadata": {},
   "outputs": [
    {
     "data": {
      "text/plain": [
       "{10, 20, 30, 40, 50, 60, 80}"
      ]
     },
     "execution_count": 48,
     "metadata": {},
     "output_type": "execute_result"
    }
   ],
   "source": [
    "#7 done \n",
    "def duplication(p):\n",
    "    return set(i for i in p)\n",
    "duplication([10,20,30,20,10,50,60,40,80,50,40])"
   ]
  },
  {
   "cell_type": "code",
   "execution_count": 56,
   "metadata": {},
   "outputs": [
    {
     "name": "stdout",
     "output_type": "stream",
     "text": [
      "It's not empty!!!!\n"
     ]
    }
   ],
   "source": [
    "#8 R\n",
    "def empty(l):\n",
    "    if l == []:print('Empty!!!')\n",
    "    else : print('It\\'s not empty!!!!')\n",
    "empty([1,2])"
   ]
  },
  {
   "cell_type": "code",
   "execution_count": 59,
   "metadata": {},
   "outputs": [
    {
     "data": {
      "text/plain": [
       "['quick', 'brown', 'jumps', 'over', 'lazy']"
      ]
     },
     "execution_count": 59,
     "metadata": {},
     "output_type": "execute_result"
    }
   ],
   "source": [
    "#10 done\n",
    "def large(n,l):\n",
    "     return [i for i in l.split() if len(i)>3]\n",
    "large(3, \"The quick brown fox jumps over the lazy dog\")"
   ]
  },
  {
   "cell_type": "code",
   "execution_count": 6,
   "metadata": {},
   "outputs": [
    {
     "data": {
      "text/plain": [
       "['Element 5 is in [1, 2, 3, 4, 5] and is also in [5, 6, 7, 8, 9]']"
      ]
     },
     "execution_count": 6,
     "metadata": {},
     "output_type": "execute_result"
    }
   ],
   "source": [
    "#11 Done\n",
    "def isit(l,m):\n",
    "     return [f'Element {i} is in {l} and is also in {m}'for i in l if i in m]\n",
    "isit([1,2,3,4,5], [5,6,7,8,9])"
   ]
  },
  {
   "cell_type": "code",
   "execution_count": 23,
   "metadata": {},
   "outputs": [
    {
     "data": {
      "text/plain": [
       "['Green', 'White', 'Pink']"
      ]
     },
     "execution_count": 23,
     "metadata": {},
     "output_type": "execute_result"
    }
   ],
   "source": [
    "#12 Done\n",
    "def removepos(k):\n",
    "    a,b,c,= [k.pop(0)],[k.pop(-1)],[k.pop(-2)]\n",
    "    return k\n",
    "removepos(['Red', 'Green', 'White', 'Black', 'Pink', 'Yellow'])"
   ]
  },
  {
   "cell_type": "code",
   "execution_count": 24,
   "metadata": {},
   "outputs": [
    {
     "name": "stdout",
     "output_type": "stream",
     "text": [
      "['Green', 'White', 'Black']\n"
     ]
    }
   ],
   "source": [
    "#12 another way\n",
    "color = ['Red', 'Green', 'White', 'Black', 'Pink', 'Yellow']\n",
    "color = [x for (i,x) in enumerate(color) if i not in (0,4,5)]\n",
    "print(color)"
   ]
  },
  {
   "cell_type": "code",
   "execution_count": 32,
   "metadata": {},
   "outputs": [
    {
     "data": {
      "text/plain": [
       "[[['*', '*', '*', '*', '*', '*'],\n",
       "  ['*', '*', '*', '*', '*', '*'],\n",
       "  ['*', '*', '*', '*', '*', '*'],\n",
       "  ['*', '*', '*', '*', '*', '*']],\n",
       " [['*', '*', '*', '*', '*', '*'],\n",
       "  ['*', '*', '*', '*', '*', '*'],\n",
       "  ['*', '*', '*', '*', '*', '*'],\n",
       "  ['*', '*', '*', '*', '*', '*']],\n",
       " [['*', '*', '*', '*', '*', '*'],\n",
       "  ['*', '*', '*', '*', '*', '*'],\n",
       "  ['*', '*', '*', '*', '*', '*'],\n",
       "  ['*', '*', '*', '*', '*', '*']]]"
      ]
     },
     "execution_count": 32,
     "metadata": {},
     "output_type": "execute_result"
    }
   ],
   "source": [
    "#13 Done, im amazing\n",
    "[[['*']*6 for i in range(4)]for i in range(3)]"
   ]
  },
  {
   "cell_type": "code",
   "execution_count": 33,
   "metadata": {},
   "outputs": [
    {
     "name": "stdout",
     "output_type": "stream",
     "text": [
      "[[['*', '*', '*', '*', '*', '*'], ['*', '*', '*', '*', '*', '*'], ['*', '*', '*', '*', '*', '*'], ['*', '*', '*', '*', '*', '*']], [['*', '*', '*', '*', '*', '*'], ['*', '*', '*', '*', '*', '*'], ['*', '*', '*', '*', '*', '*'], ['*', '*', '*', '*', '*', '*']], [['*', '*', '*', '*', '*', '*'], ['*', '*', '*', '*', '*', '*'], ['*', '*', '*', '*', '*', '*'], ['*', '*', '*', '*', '*', '*']]]\n"
     ]
    }
   ],
   "source": [
    "#13 another way\n",
    "array = [[ ['*' for col in range(6)] for col in range(4)] for row in range(3)]\n",
    "print(array)"
   ]
  },
  {
   "cell_type": "code",
   "execution_count": 34,
   "metadata": {},
   "outputs": [
    {
     "data": {
      "text/plain": [
       "[7, 25, 27]"
      ]
     },
     "execution_count": 34,
     "metadata": {},
     "output_type": "execute_result"
    }
   ],
   "source": [
    "#!4 Done\n",
    "def even(l):\n",
    "    return [i for i in l if i%2]\n",
    "even([7,8, 120, 25, 44, 20, 27])"
   ]
  },
  {
   "cell_type": "code",
   "execution_count": 35,
   "metadata": {},
   "outputs": [
    {
     "name": "stdout",
     "output_type": "stream",
     "text": [
      "['Yellow', 'White', 'Pink', 'Green', 'Red', 'Black']\n"
     ]
    }
   ],
   "source": [
    "#15 R\n",
    "from random import shuffle\n",
    "color = ['Red', 'Green', 'White', 'Black', 'Pink', 'Yellow']\n",
    "shuffle(color)\n",
    "print(color)"
   ]
  },
  {
   "cell_type": "code",
   "execution_count": 38,
   "metadata": {},
   "outputs": [
    {
     "data": {
      "text/plain": [
       "[1, 4, 9, 16, 25, 256, 289, 324, 361, 400]"
      ]
     },
     "execution_count": 38,
     "metadata": {},
     "output_type": "execute_result"
    }
   ],
   "source": [
    "#16 Done\n",
    "k = [i*i for i in range(1,21)]\n",
    "allk = k[:5]+k[-5:]\n",
    "allk"
   ]
  },
  {
   "cell_type": "code",
   "execution_count": 40,
   "metadata": {},
   "outputs": [
    {
     "data": {
      "text/plain": [
       "[36, 49, 64, 81, 100, 121, 144, 169, 196, 225, 256, 289, 324, 361, 400]"
      ]
     },
     "execution_count": 40,
     "metadata": {},
     "output_type": "execute_result"
    }
   ],
   "source": [
    "#17 Done\n",
    "k[5:]"
   ]
  },
  {
   "cell_type": "code",
   "execution_count": 58,
   "metadata": {
    "scrolled": true
   },
   "outputs": [
    {
     "data": {
      "text/plain": [
       "[1, 2, 3, 4, 6, 7, 8, 9]"
      ]
     },
     "execution_count": 58,
     "metadata": {},
     "output_type": "execute_result"
    }
   ],
   "source": [
    "#19 Done\n",
    "def isnot(l,m):\n",
    "    d1 = [x for x in l if x not in m]\n",
    "    d2 = [y for y in m if y not in l]\n",
    "    return d1+d2\n",
    "isnot([1,2,3,4,5], [5,6,7,8,9])"
   ]
  },
  {
   "cell_type": "code",
   "execution_count": 61,
   "metadata": {},
   "outputs": [
    {
     "name": "stdout",
     "output_type": "stream",
     "text": [
      "0 5\n",
      "1 15\n",
      "2 35\n",
      "3 8\n",
      "4 98\n"
     ]
    },
    {
     "data": {
      "text/plain": [
       "[None, None, None, None, None]"
      ]
     },
     "execution_count": 61,
     "metadata": {},
     "output_type": "execute_result"
    }
   ],
   "source": [
    "#20 Done\n",
    "def iindex(q):\n",
    "    return [print(x,y) for x,y in enumerate(q)]\n",
    "iindex([5, 15, 35, 8, 98])"
   ]
  },
  {
   "cell_type": "code",
   "execution_count": 89,
   "metadata": {},
   "outputs": [
    {
     "data": {
      "text/plain": [
       "'abc'"
      ]
     },
     "execution_count": 89,
     "metadata": {},
     "output_type": "execute_result"
    }
   ],
   "source": [
    "#21 Done\n",
    "def convert(p):\n",
    "    a = ''\n",
    "    for i in p:\n",
    "        i = str(i)\n",
    "        a+=i\n",
    "    return a\n",
    "convert(['a','b','c'])"
   ]
  },
  {
   "cell_type": "code",
   "execution_count": 90,
   "metadata": {},
   "outputs": [
    {
     "data": {
      "text/plain": [
       "'abc'"
      ]
     },
     "execution_count": 90,
     "metadata": {},
     "output_type": "execute_result"
    }
   ],
   "source": [
    "#21 have to learn this one\n",
    "def convert2(p):\n",
    "    s = ''.join(p)\n",
    "    return s\n",
    "convert2(['a','b','c'])"
   ]
  },
  {
   "cell_type": "code",
   "execution_count": 91,
   "metadata": {},
   "outputs": [
    {
     "data": {
      "text/plain": [
       "0"
      ]
     },
     "execution_count": 91,
     "metadata": {},
     "output_type": "execute_result"
    }
   ],
   "source": [
    "#22 Done\n",
    "z = ['a','b','c']\n",
    "z.index('a')"
   ]
  },
  {
   "cell_type": "code",
   "execution_count": 122,
   "metadata": {},
   "outputs": [
    {
     "data": {
      "text/plain": [
       "['1', '2', '3', '4', '5', '6']"
      ]
     },
     "execution_count": 122,
     "metadata": {},
     "output_type": "execute_result"
    }
   ],
   "source": [
    "#23 my way\n",
    "def flatten(l):\n",
    "    li = ''\n",
    "    for i in l:\n",
    "        for k in i:\n",
    "            k = str(k)\n",
    "            li+=k\n",
    "    li = list(li)\n",
    "    return li\n",
    "flatten([[1,2,3],[4,5,6]])"
   ]
  },
  {
   "cell_type": "code",
   "execution_count": 123,
   "metadata": {},
   "outputs": [
    {
     "data": {
      "text/plain": [
       "[1, 2, 3, 4, 5, 6, 7]"
      ]
     },
     "execution_count": 123,
     "metadata": {},
     "output_type": "execute_result"
    }
   ],
   "source": [
    "#23 have to learn R\n",
    "def flatten1(l):\n",
    "    li = sum(l,[])\n",
    "    return li\n",
    "flatten1([[1,2,3],[4,5,6,7]])"
   ]
  },
  {
   "cell_type": "code",
   "execution_count": 136,
   "metadata": {},
   "outputs": [
    {
     "data": {
      "text/plain": [
       "[1, 2, 3, 4, 5, 6, 7]"
      ]
     },
     "execution_count": 136,
     "metadata": {},
     "output_type": "execute_result"
    }
   ],
   "source": [
    "#24 Done\n",
    "def together(l,k):\n",
    "    l.extend(k)\n",
    "    return l\n",
    "together([1,2,3],[4,5,6,7])"
   ]
  },
  {
   "cell_type": "code",
   "execution_count": null,
   "metadata": {},
   "outputs": [],
   "source": [
    "#skipped 25\n",
    "#26\n",
    "#def circular(o,p):\n",
    "    \n",
    "    "
   ]
  },
  {
   "cell_type": "code",
   "execution_count": null,
   "metadata": {},
   "outputs": [],
   "source": [
    "f = [1,2,3,4] #=[4,1,2,3]\n",
    "#[4,1,2,3]\n",
    "for i,k in enumerate(f):\n",
    "    f.insert((k-1),i)\n",
    "print(f)"
   ]
  },
  {
   "cell_type": "code",
   "execution_count": null,
   "metadata": {},
   "outputs": [],
   "source": [
    "1+1"
   ]
  },
  {
   "cell_type": "code",
   "execution_count": null,
   "metadata": {},
   "outputs": [],
   "source": []
  },
  {
   "cell_type": "code",
   "execution_count": null,
   "metadata": {},
   "outputs": [],
   "source": []
  }
 ],
 "metadata": {
  "kernelspec": {
   "display_name": "Python 3",
   "language": "python",
   "name": "python3"
  },
  "language_info": {
   "codemirror_mode": {
    "name": "ipython",
    "version": 3
   },
   "file_extension": ".py",
   "mimetype": "text/x-python",
   "name": "python",
   "nbconvert_exporter": "python",
   "pygments_lexer": "ipython3",
   "version": "3.7.4"
  }
 },
 "nbformat": 4,
 "nbformat_minor": 2
}
