{
 "cells": [
  {
   "cell_type": "code",
   "execution_count": 240,
   "metadata": {},
   "outputs": [],
   "source": [
    "                   #Strings, 30 for less importance 66 for more importance\n",
    "\n",
    "#Three quotes:1,2,3,4,5,6,7,8,9,10,11,12,13,14,15,16,17,18,19,20,21,22,23,24,25,26,27,28,29,30\n",
    "#Chck if the pharse: 1,2,3,4,5,6,7,8,9,10,11,12,13,14,15,16,17,18,19,20,21,22,23,24,25,26,27,28,29,30\n",
    "#Excape char = \\':1,2,3,4,5,6,7,8,9,10,11,12,13,14,15\n",
    "#              \\\\:1,2,3,4,5,6,7,8,9,10,11,12,13,14,15\n",
    "#              \\n:1,2,3,4,5,6,7,8,9,10,11,12,13,14,15\n",
    "#              \\r:1,2,3,4,5,6,7,8,9,10,11,12,13,14,15\n",
    "#              \\t:1,2,3,4,5,6,7,8,9,10,11,12,13,14,15\n",
    "#              \\b:1,2,3,4,5,6,7,8,9,10,11,12,13,14,15\n",
    "#              r':1,2,3,4,5,6,7,done\n",
    "                           #f'string vs format() vs %s string \n",
    "               # :< =1,2,3,4,5,6,7,8,9,10,11,12,13,14,15\n",
    "               # :> =1,2,3,4,5,6,7,8,9\n",
    "               # :^ =1,2,3,4,5,6,7,8,9\n",
    "#padding       # := =1,2,3,4,5,6,7,8,9\n",
    "          # :+ & :- =1,2,3,4,5,6,7,8,9\n",
    "          # :_ & :, =1,2,3,4,5,6,7,8,9\n",
    "               # :f =1,2,3,4,5,6,7,8,9\n",
    "               # :% =1,2,3,4,5,6,7,8,9\n",
    "\n",
    "                         #Placeholder\n",
    "               # 1,2,3,4,5\n",
    "                        #unpackag\n",
    "               # 1,2,3,4,5\n",
    "                        # repr & !r\n",
    "               # 1,2,3,4,5\n",
    "                        # For loop\n",
    "               # 1,2,3,4,5\n",
    "                        #f'pi'\n",
    "               # 1,2,3,4,5\n",
    "                        #table\n",
    "                # 1,done\n",
    "                        #rounding\n",
    "                # 1,2,3,4,5,\n",
    "                        #functions and f-string\n",
    "                #1,done\n",
    "                        #All 44 Methods \n",
    "                    #1 capitalize() = 1,2,3,4,5,6,7,8,9,10\n",
    "                    #2 casefold() = 1,2,3,4,5,6,7,8,9,10\n",
    "                    #3 center() = 1,2,3,4,5,6,7,8,9,10\n",
    "                    #4 count() = 1,2,3,4,5,6,7,8,9,10\n",
    "        #5 endswith() & startswith()= 1,2,3,4,5,6,7,8,9,10\n",
    "                    #5 expandtabs()= 1,2,3,4,5,6,7,8,9,10\n",
    "        #6 find() & rfind()=1,2,3,4,5,6,7,8,9,10\n",
    "       #8 index() & rindex()=1,2,3,4,5,6,7,8,9,10\n",
    "                    #10 format_map()=Done\n",
    "#11 isalnum() & isalpha() & isnumeric() =1,2,3,4,5,6,7,8,9,10\n",
    "#12 isdigit() & isdecimal() = 1,2,3,4,5,6,7,8,9,10\n",
    "#13 islower() & isupper() & istitle() =1,2,3,4,5,6,7,8,9,10\n",
    "#14 isspace & isidentifier() & isprintable()=1,2,3,4,5,6,7,8,9,10\n",
    "#15 lower() & upper() & title() = 1,2,3,4,5,6,7,8,9,10\n",
    "     #16 ljust() & rjust() =1,2,3,4,5,6,7,8,9,10\n",
    "     #17 strip() & lstrip() & rstrip() = 1,2,3,4,5,6,7,8,9,10\n",
    "     #18 rsplit() & splitlines() & split() =1,2,3,4,5,6,7,8,9,10\n",
    "     #19 maketrans() & transalate() = 1,2,3,4,5,6,7,8,9,10\n",
    "     #20 partition() & rpartition() =1,2,3,4,5,6,7,8,9,10\n",
    "     #21 join()=done\n",
    "     #22 zfill()=done\n",
    "     #23 swapcase()=done\n",
    "     #24 replace()=1,done\n",
    "                                 # Practise problems 22\n",
    "        #8 Write a Python function that takes a list of words and returns the length of the longest one  = \n",
    "          #1,2,3,4,5\n",
    "        #2 Write a Python program to count the number of characters (character frequency) in a string =\n",
    "         # DONE\n",
    "        #11 Write a Python program to remove the characters which have odd index values of a given string\n",
    "         # DONE\n",
    "        #13 Write a Python script that takes input from the user and displays that input back in upper and lower cases.\n",
    "         # DONE\n",
    "        #16 Write a Python function to insert a string in the middle of a string.\n",
    "         #1,2,3,4,5\n",
    "        #19\n",
    "        #20 Write a Python function to reverses a string if it's length is a multiple of 4\n",
    "        # DONE\n",
    "        #21 Write a Python function to convert a given string to all uppercase if it contains at least 2 uppercase,\n",
    "        #   characters in the first 4 characters.DONE\n",
    "        #44 Write a Python program to print the index of the character in a string\n",
    "        # DONE\n",
    "        #43\n",
    "        #49 Write a Python program to count and display the vowels of a given text\n",
    "        # DONE\n",
    "        #51  Write a Python program to find the first non-repeating character in given string\n",
    "        # DONE\n",
    "        #53 Write a Python program to find the first repeated character in a given string\n",
    "        # \n",
    "        #55 Write a Python program to find the first repeated word in a given string\n",
    "        # DONE\n",
    "        #56 Write a Python program to find the second most repeated word in a given string\n",
    "        #DONE \n",
    "        #59 Write a Python program to find the maximum occurring character in a given string\n",
    "        #1,2,3 DONE\n",
    "        #58 Write a Python program to move spaces to the front of a given string\n",
    "        #Done\n",
    "        #64 Write a Python program to find maximum length of consecutive 0’s in a given binary string.\n",
    "        #1,2,3,4,5\n",
    "    #70Write a Python program to create a string from two given strings concatenating uncommon characters of the said strings.\n",
    "        #DONE\n",
    "        #79  Write a Python program to find smallest and largest word in a given string\n",
    "        #DONE\n",
    "        \n",
    "                                 # List\n",
    "        # del:1,2,3,4,5\n",
    "        # chnage the value:1,2,3,4,5\n",
    "        # Make a copy of a list:1,2,3,4,5\n",
    "        # join/nested list:1,2,3,4,5\n",
    "        # #Fibonacci series: \n",
    "        \n",
    "                               #11 Methods\n",
    "        # Append:1,2,3,4,5,6,7,8,9,0\n",
    "        # Extend:\n",
    "        #**********DONE********"
   ]
  },
  {
   "cell_type": "markdown",
   "metadata": {},
   "source": [
    "\n"
   ]
  },
  {
   "cell_type": "code",
   "execution_count": 105,
   "metadata": {},
   "outputs": [
    {
     "data": {
      "text/plain": [
       "True"
      ]
     },
     "execution_count": 105,
     "metadata": {},
     "output_type": "execute_result"
    }
   ],
   "source": [
    "y = 'rrrrrrr'\n",
    "('r'*7)in y"
   ]
  },
  {
   "cell_type": "code",
   "execution_count": 52,
   "metadata": {},
   "outputs": [
    {
     "name": "stdout",
     "output_type": "stream",
     "text": [
      "1\\7 multiply by 74: 10.571428571428571\n"
     ]
    }
   ],
   "source": [
    "num = (1/7 * 74)\n",
    "c = f'1\\\\7 multiply by 74: {num}'\n",
    "print(c)"
   ]
  },
  {
   "cell_type": "code",
   "execution_count": 187,
   "metadata": {},
   "outputs": [
    {
     "data": {
      "text/plain": [
       "'I hate having chocolate apples in the snow********'"
      ]
     },
     "execution_count": 187,
     "metadata": {},
     "output_type": "execute_result"
    }
   ],
   "source": [
    "f'I hate having chocolate apples in the {\"snow\":*<12}'"
   ]
  },
  {
   "cell_type": "code",
   "execution_count": 1,
   "metadata": {},
   "outputs": [
    {
     "name": "stdout",
     "output_type": "stream",
     "text": [
      "w3w3\n"
     ]
    }
   ],
   "source": [
    "def lastfirst(word):\n",
    "    if len(word)==len('e'):\n",
    "        a = f'Empty string must have more than one character!: {word} '\n",
    "        print(a)\n",
    "    newword = ''\n",
    "    newword+=word[:2]\n",
    "    newword+=word[-2:]\n",
    "    print(newword)\n",
    "lastfirst('w3w3')    "
   ]
  },
  {
   "cell_type": "code",
   "execution_count": 4,
   "metadata": {},
   "outputs": [
    {
     "data": {
      "text/plain": [
       "'Empty string must have more than two characters!: to'"
      ]
     },
     "execution_count": 4,
     "metadata": {},
     "output_type": "execute_result"
    }
   ],
   "source": [
    "def lf(word):\n",
    "    if len(word) == 2:\n",
    "         return f'Empty string must have more than two characters!: {word}'\n",
    "    return word[:2]+word[-2:]\n",
    "lf('to')"
   ]
  },
  {
   "cell_type": "code",
   "execution_count": 44,
   "metadata": {},
   "outputs": [
    {
     "data": {
      "text/plain": [
       "'i love -                                                                                     67'"
      ]
     },
     "execution_count": 44,
     "metadata": {},
     "output_type": "execute_result"
    }
   ],
   "source": [
    "c = 'i love {num:=88}'.format\n",
    "c(num=-67)"
   ]
  },
  {
   "cell_type": "code",
   "execution_count": 60,
   "metadata": {},
   "outputs": [
    {
     "data": {
      "text/plain": [
       "'The temp is between -99 and +44'"
      ]
     },
     "execution_count": 60,
     "metadata": {},
     "output_type": "execute_result"
    }
   ],
   "source": [
    "txt = 'The temp is between {num1:-} and {num2:+}'\n",
    "txt.format(num1 = -99, num2 = 44)"
   ]
  },
  {
   "cell_type": "code",
   "execution_count": 80,
   "metadata": {},
   "outputs": [
    {
     "data": {
      "text/plain": [
       "'i want 120,338'"
      ]
     },
     "execution_count": 80,
     "metadata": {},
     "output_type": "execute_result"
    }
   ],
   "source": [
    "f'i want {120338:,}'"
   ]
  },
  {
   "cell_type": "code",
   "execution_count": 112,
   "metadata": {},
   "outputs": [
    {
     "data": {
      "text/plain": [
       "'23 divided by 100 is: 0.230000'"
      ]
     },
     "execution_count": 112,
     "metadata": {},
     "output_type": "execute_result"
    }
   ],
   "source": [
    "txt = '23 divided by 100 is: {:f}'\n",
    "txt.format(23/100)"
   ]
  },
  {
   "cell_type": "code",
   "execution_count": 83,
   "metadata": {},
   "outputs": [
    {
     "data": {
      "text/plain": [
       "'23 divided 7 is exactly: 3.286'"
      ]
     },
     "execution_count": 83,
     "metadata": {},
     "output_type": "execute_result"
    }
   ],
   "source": [
    "txt = '23 divided 7 is exactly: {:.3f}'\n",
    "txt.format(23/7)"
   ]
  },
  {
   "cell_type": "code",
   "execution_count": 130,
   "metadata": {},
   "outputs": [
    {
     "data": {
      "text/plain": [
       "'22.000000%'"
      ]
     },
     "execution_count": 130,
     "metadata": {},
     "output_type": "execute_result"
    }
   ],
   "source": [
    "f'{22/100:%}'"
   ]
  },
  {
   "cell_type": "code",
   "execution_count": 135,
   "metadata": {},
   "outputs": [
    {
     "data": {
      "text/plain": [
       "'the percenatge of 22 divideby 57 is: 38.5965%'"
      ]
     },
     "execution_count": 135,
     "metadata": {},
     "output_type": "execute_result"
    }
   ],
   "source": [
    "txt = 'the percenatge of 22 divideby 57 is: {:.4%}'\n",
    "cal = 22/57\n",
    "txt.format(cal)"
   ]
  },
  {
   "cell_type": "code",
   "execution_count": 159,
   "metadata": {},
   "outputs": [
    {
     "data": {
      "text/plain": [
       "'His name is JACK'"
      ]
     },
     "execution_count": 159,
     "metadata": {},
     "output_type": "execute_result"
    }
   ],
   "source": [
    "info = {'fname':'Jack','lname':'Smith','Age':22}\n",
    "\"His name is {}\".format(info['fname'].upper())"
   ]
  },
  {
   "cell_type": "code",
   "execution_count": 173,
   "metadata": {},
   "outputs": [
    {
     "data": {
      "text/plain": [
       "\"she said :'YESSSS!!!'\""
      ]
     },
     "execution_count": 173,
     "metadata": {},
     "output_type": "execute_result"
    }
   ],
   "source": [
    "t = 'YESSSS!!!'\n",
    "f'she said :{t!r}'"
   ]
  },
  {
   "cell_type": "code",
   "execution_count": 34,
   "metadata": {},
   "outputs": [
    {
     "data": {
      "text/plain": [
       "'89 divide by 3 is: 29.67'"
      ]
     },
     "execution_count": 34,
     "metadata": {},
     "output_type": "execute_result"
    }
   ],
   "source": [
    "\n",
    "c = '89 divide by 3 is: {:.2f}'.format\n",
    "c(89/3)"
   ]
  },
  {
   "cell_type": "code",
   "execution_count": 50,
   "metadata": {},
   "outputs": [
    {
     "name": "stdout",
     "output_type": "stream",
     "text": [
      "| Jaden  | Smith      | 34 | 5'10 | brown  |\n",
      "| Ruby   | Johnson    | 56 | 5'6  | Purple |\n",
      "| Alex   | Blacksmith | 23 | 6'3  | White  |\n",
      "| Mary   | Ovuike     | 44 | 5'5  | Black  |\n"
     ]
    }
   ],
   "source": [
    "info = [\n",
    "    ['Jaden','Smith',34, \"5'10\",'brown'],\n",
    "    ['Ruby','Johnson',56,\"5'6\",'Purple'],\n",
    "    ['Alex','Blacksmith',23,\"6'3\",'White'],\n",
    "    ['Mary','Ovuike',44,\"5'5\",'Black']\n",
    "]\n",
    "c = '| {x:6} | {z:10} | {c:2} | {b:4} | {n:6} |'.format\n",
    "for i in info:\n",
    "    print(c(x = i[0], z = i[1],c=  i[2], b = i[3], n =i[4]))"
   ]
  },
  {
   "cell_type": "code",
   "execution_count": 61,
   "metadata": {},
   "outputs": [
    {
     "data": {
      "text/plain": [
       "'8976.895'"
      ]
     },
     "execution_count": 61,
     "metadata": {},
     "output_type": "execute_result"
    }
   ],
   "source": [
    "num = 8976.89487\n",
    "per =3\n",
    "f'{num:.{per}f}'"
   ]
  },
  {
   "cell_type": "code",
   "execution_count": 63,
   "metadata": {},
   "outputs": [
    {
     "data": {
      "text/plain": [
       "'567 plus it self is: 1134'"
      ]
     },
     "execution_count": 63,
     "metadata": {},
     "output_type": "execute_result"
    }
   ],
   "source": [
    "def add(num):\n",
    "    return num+num\n",
    "'567 plus it self is: {}'.format(add(567))"
   ]
  },
  {
   "cell_type": "code",
   "execution_count": 67,
   "metadata": {},
   "outputs": [
    {
     "data": {
      "text/plain": [
       "\"Your word 'Chocolate' has 9 words\""
      ]
     },
     "execution_count": 67,
     "metadata": {},
     "output_type": "execute_result"
    }
   ],
   "source": [
    "def add(word):\n",
    "    counter = 0\n",
    "    for i in word:\n",
    "        counter+= 1\n",
    "    return f'Your word {word!r} has {counter} words'\n",
    "add('Chocolate')"
   ]
  },
  {
   "cell_type": "code",
   "execution_count": 85,
   "metadata": {},
   "outputs": [
    {
     "data": {
      "text/plain": [
       "'Ruth'"
      ]
     },
     "execution_count": 85,
     "metadata": {},
     "output_type": "execute_result"
    }
   ],
   "source": [
    "x = 'ruth'\n",
    "f'{x.capitalize()}'"
   ]
  },
  {
   "cell_type": "code",
   "execution_count": 107,
   "metadata": {},
   "outputs": [
    {
     "data": {
      "text/plain": [
       "'ruth'"
      ]
     },
     "execution_count": 107,
     "metadata": {},
     "output_type": "execute_result"
    }
   ],
   "source": [
    "f'RUTH'.casefold()"
   ]
  },
  {
   "cell_type": "code",
   "execution_count": 108,
   "metadata": {},
   "outputs": [
    {
     "data": {
      "text/plain": [
       "'ruth'"
      ]
     },
     "execution_count": 108,
     "metadata": {},
     "output_type": "execute_result"
    }
   ],
   "source": [
    "'RUTH'.format().casefold()"
   ]
  },
  {
   "cell_type": "code",
   "execution_count": 125,
   "metadata": {},
   "outputs": [
    {
     "data": {
      "text/plain": [
       "'Lllapplellll'"
      ]
     },
     "execution_count": 125,
     "metadata": {},
     "output_type": "execute_result"
    }
   ],
   "source": [
    "'apple'.center(12,'l').capitalize()"
   ]
  },
  {
   "cell_type": "code",
   "execution_count": 139,
   "metadata": {},
   "outputs": [
    {
     "data": {
      "text/plain": [
       "0"
      ]
     },
     "execution_count": 139,
     "metadata": {},
     "output_type": "execute_result"
    }
   ],
   "source": [
    "'ruthovuikeezinne'.count('e',3,6)"
   ]
  },
  {
   "cell_type": "code",
   "execution_count": 154,
   "metadata": {},
   "outputs": [
    {
     "data": {
      "text/plain": [
       "False"
      ]
     },
     "execution_count": 154,
     "metadata": {},
     "output_type": "execute_result"
    }
   ],
   "source": [
    "word = 'mygod'\n",
    "word.startswith('M')"
   ]
  },
  {
   "cell_type": "code",
   "execution_count": 169,
   "metadata": {},
   "outputs": [
    {
     "data": {
      "text/plain": [
       "'love                             you'"
      ]
     },
     "execution_count": 169,
     "metadata": {},
     "output_type": "execute_result"
    }
   ],
   "source": [
    "'love\\tyou'.expandtabs(33)"
   ]
  },
  {
   "cell_type": "code",
   "execution_count": 217,
   "metadata": {},
   "outputs": [
    {
     "data": {
      "text/plain": [
       "1"
      ]
     },
     "execution_count": 217,
     "metadata": {},
     "output_type": "execute_result"
    }
   ],
   "source": [
    "'sam'.index('a')"
   ]
  },
  {
   "cell_type": "code",
   "execution_count": 221,
   "metadata": {},
   "outputs": [
    {
     "data": {
      "text/plain": [
       "\"Your name is Ruth Ovuike and you are 20 years old and your height is 5'6\""
      ]
     },
     "execution_count": 221,
     "metadata": {},
     "output_type": "execute_result"
    }
   ],
   "source": [
    "def info(a,b,c,d):\n",
    "    x = {'fname':a, 'lname':b, 'age':c, 'height':d}\n",
    "    return 'Your name is {fname} {lname} and you are {age} years old and your height is {height}'.format_map(x)\n",
    "info('Ruth','Ovuike',20,\"5'6\")"
   ]
  },
  {
   "cell_type": "code",
   "execution_count": 224,
   "metadata": {},
   "outputs": [
    {
     "data": {
      "text/plain": [
       "True"
      ]
     },
     "execution_count": 224,
     "metadata": {},
     "output_type": "execute_result"
    }
   ],
   "source": [
    "'Ruth'.isalpha()"
   ]
  },
  {
   "cell_type": "code",
   "execution_count": 228,
   "metadata": {},
   "outputs": [
    {
     "data": {
      "text/plain": [
       "False"
      ]
     },
     "execution_count": 228,
     "metadata": {},
     "output_type": "execute_result"
    }
   ],
   "source": [
    "'2/4'.isalnum()"
   ]
  },
  {
   "cell_type": "code",
   "execution_count": 234,
   "metadata": {},
   "outputs": [
    {
     "data": {
      "text/plain": [
       "False"
      ]
     },
     "execution_count": 234,
     "metadata": {},
     "output_type": "execute_result"
    }
   ],
   "source": [
    "'4c'.isnumeric()"
   ]
  },
  {
   "cell_type": "code",
   "execution_count": 243,
   "metadata": {},
   "outputs": [
    {
     "data": {
      "text/plain": [
       "True"
      ]
     },
     "execution_count": 243,
     "metadata": {},
     "output_type": "execute_result"
    }
   ],
   "source": [
    "'90'.isdigit()"
   ]
  },
  {
   "cell_type": "code",
   "execution_count": 255,
   "metadata": {},
   "outputs": [
    {
     "data": {
      "text/plain": [
       "'44424442'"
      ]
     },
     "execution_count": 255,
     "metadata": {},
     "output_type": "execute_result"
    }
   ],
   "source": [
    "num = '4442'*2\n",
    "num.isdigit()\n",
    "num\n"
   ]
  },
  {
   "cell_type": "code",
   "execution_count": 266,
   "metadata": {},
   "outputs": [
    {
     "data": {
      "text/plain": [
       "True"
      ]
     },
     "execution_count": 266,
     "metadata": {},
     "output_type": "execute_result"
    }
   ],
   "source": [
    "'Is Upper'.istitle()"
   ]
  },
  {
   "cell_type": "code",
   "execution_count": 282,
   "metadata": {},
   "outputs": [
    {
     "data": {
      "text/plain": [
       "'Pear'"
      ]
     },
     "execution_count": 282,
     "metadata": {},
     "output_type": "execute_result"
    }
   ],
   "source": [
    "'pear'.title()"
   ]
  },
  {
   "cell_type": "code",
   "execution_count": 292,
   "metadata": {},
   "outputs": [
    {
     "data": {
      "text/plain": [
       "False"
      ]
     },
     "execution_count": 292,
     "metadata": {},
     "output_type": "execute_result"
    }
   ],
   "source": [
    "'ruth\\rovuike'.isprintable()"
   ]
  },
  {
   "cell_type": "code",
   "execution_count": 295,
   "metadata": {},
   "outputs": [
    {
     "data": {
      "text/plain": [
       "False"
      ]
     },
     "execution_count": 295,
     "metadata": {},
     "output_type": "execute_result"
    }
   ],
   "source": [
    "'ruth 20'.isidentifier()"
   ]
  },
  {
   "cell_type": "code",
   "execution_count": 329,
   "metadata": {},
   "outputs": [
    {
     "data": {
      "text/plain": [
       "'4444444444444444444ruth'"
      ]
     },
     "execution_count": 329,
     "metadata": {},
     "output_type": "execute_result"
    }
   ],
   "source": [
    "'ruth'.rjust(23,'4')"
   ]
  },
  {
   "cell_type": "code",
   "execution_count": 326,
   "metadata": {},
   "outputs": [
    {
     "data": {
      "text/plain": [
       "'ruth#####ruth'"
      ]
     },
     "execution_count": 326,
     "metadata": {},
     "output_type": "execute_result"
    }
   ],
   "source": [
    "x = '#####ruth#####ruth'\n",
    "x.lstrip('#').rstrip('#')"
   ]
  },
  {
   "cell_type": "code",
   "execution_count": 346,
   "metadata": {},
   "outputs": [
    {
     "data": {
      "text/plain": [
       "['second element contains, the', ' specified', ' string']"
      ]
     },
     "execution_count": 346,
     "metadata": {},
     "output_type": "execute_result"
    }
   ],
   "source": [
    "x = 'second element contains, the, specified, string'\n",
    "x.rsplit(',',2)"
   ]
  },
  {
   "cell_type": "code",
   "execution_count": 353,
   "metadata": {},
   "outputs": [
    {
     "data": {
      "text/plain": [
       "['second', 'element', 'contains', 'the', 'specified', 'string']"
      ]
     },
     "execution_count": 353,
     "metadata": {},
     "output_type": "execute_result"
    }
   ],
   "source": [
    "v = 'second\\nelement\\ncontains\\nthe\\nspecified\\nstring'\n",
    "v.splitlines()\n"
   ]
  },
  {
   "cell_type": "code",
   "execution_count": 368,
   "metadata": {},
   "outputs": [
    {
     "data": {
      "text/plain": [
       "('second element contains, the, specified, ', 'string', '')"
      ]
     },
     "execution_count": 368,
     "metadata": {},
     "output_type": "execute_result"
    }
   ],
   "source": [
    "'second element contains, the, specified, string'.rpartition('string')"
   ]
  },
  {
   "cell_type": "code",
   "execution_count": 367,
   "metadata": {},
   "outputs": [
    {
     "data": {
      "text/plain": [
       "('second element contains', ',', ' the, specified, string')"
      ]
     },
     "execution_count": 367,
     "metadata": {},
     "output_type": "execute_result"
    }
   ],
   "source": [
    "'second element contains, the, specified, string'.partition(',')"
   ]
  },
  {
   "cell_type": "code",
   "execution_count": 391,
   "metadata": {},
   "outputs": [
    {
     "data": {
      "text/plain": [
       "'123456ghijklmnopkrstuvwxyz123456ghijklmnopkrstuvwxyz123456ghijklmnopkrstuvwxyz'"
      ]
     },
     "execution_count": 391,
     "metadata": {},
     "output_type": "execute_result"
    }
   ],
   "source": [
    "c = 'abcdefghijklmnopkrstuvwxyzabcdefghijklmnopkrstuvwxyzabcdefghijklmnopkrstuvwxyz'\n",
    "r = str.maketrans('abcdef','123456')\n",
    "c.translate(r)"
   ]
  },
  {
   "cell_type": "code",
   "execution_count": 401,
   "metadata": {},
   "outputs": [
    {
     "data": {
      "text/plain": [
       "'bcdeffghijklmnopkrstuvwxyzbcdeffghijklmnopkrstuvwxyzabcdefghijklmnopkrstuvwxyz'"
      ]
     },
     "execution_count": 401,
     "metadata": {},
     "output_type": "execute_result"
    }
   ],
   "source": [
    "c = 'abcdefghijklmnopkrstuvwxyzabcdefghijklmnopkrstuvwxyzabcdefghijklmnopkrstuvwxyz'\n",
    "c.replace('abcde','bcdef',2)"
   ]
  },
  {
   "cell_type": "code",
   "execution_count": 397,
   "metadata": {},
   "outputs": [
    {
     "data": {
      "text/plain": [
       "'ffffffghijklmnopkrstuvwxyzffffffghijklmnopkrstuvwxyzffffffghijklmnopkrstuvwxyz'"
      ]
     },
     "execution_count": 397,
     "metadata": {},
     "output_type": "execute_result"
    }
   ],
   "source": [
    "c = 'abcdefghijklmnopkrstuvwxyzabcdefghijklmnopkrstuvwxyzabcdefghijklmnopkrstuvwxyz'\n",
    "c.replace('a','b').replace('b','c').replace('c','d').replace('d','e').replace('e','f')"
   ]
  },
  {
   "cell_type": "code",
   "execution_count": 404,
   "metadata": {},
   "outputs": [
    {
     "data": {
      "text/plain": [
       "'a,b,c'"
      ]
     },
     "execution_count": 404,
     "metadata": {},
     "output_type": "execute_result"
    }
   ],
   "source": [
    "a =','\n",
    "a.join('a''b''c')"
   ]
  },
  {
   "cell_type": "code",
   "execution_count": 406,
   "metadata": {},
   "outputs": [
    {
     "data": {
      "text/plain": [
       "'a,b,c'"
      ]
     },
     "execution_count": 406,
     "metadata": {},
     "output_type": "execute_result"
    }
   ],
   "source": [
    "a= ','\n",
    "a.join('abc')"
   ]
  },
  {
   "cell_type": "code",
   "execution_count": 18,
   "metadata": {},
   "outputs": [
    {
     "data": {
      "text/plain": [
       "'Daniel'"
      ]
     },
     "execution_count": 18,
     "metadata": {},
     "output_type": "execute_result"
    }
   ],
   "source": [
    "#8\n",
    "def long(h):\n",
    "    l = []\n",
    "    for i in h:\n",
    "        l.append((len(i),i))\n",
    "    l = sorted(l)\n",
    "    return l[-1][1]\n",
    "long(['David','Daniel'])"
   ]
  },
  {
   "cell_type": "code",
   "execution_count": 19,
   "metadata": {},
   "outputs": [
    {
     "data": {
      "text/plain": [
       "{'g': 1, 'o': 3, 'd': 1, 'l': 1, 'e': 1, '.': 1, 'c': 1, 'm': 1}"
      ]
     },
     "execution_count": 19,
     "metadata": {},
     "output_type": "execute_result"
    }
   ],
   "source": [
    "#2\n",
    "def frequency(d):\n",
    "    f = {}\n",
    "    for i in d:\n",
    "        if i in f:f[i]+=1\n",
    "        else:f[i] = 1\n",
    "    return f\n",
    "frequency('goodle.com')"
   ]
  },
  {
   "cell_type": "code",
   "execution_count": 22,
   "metadata": {},
   "outputs": [
    {
     "data": {
      "text/plain": [
       "'ace'"
      ]
     },
     "execution_count": 22,
     "metadata": {},
     "output_type": "execute_result"
    }
   ],
   "source": [
    "#11\n",
    "def odd(l):\n",
    "    k = ''\n",
    "    for i in l:\n",
    "        if (l.find(i)) %2 == 0:k+=i\n",
    "    return k\n",
    "odd('abcdef')"
   ]
  },
  {
   "cell_type": "code",
   "execution_count": 26,
   "metadata": {},
   "outputs": [
    {
     "name": "stdout",
     "output_type": "stream",
     "text": [
      "Please enter a word:ruth love apple dog cat\n",
      "This is the word you enetered: ruth love apple dog cat\n",
      "This is the word you enetered: RUTH LOVE APPLE DOG CAT\n"
     ]
    }
   ],
   "source": [
    "#13\n",
    "words = input('Please enter a word:')\n",
    "print('This is the word you enetered: '+words.lower()+'\\n'+'This is the word you enetered: '+words.upper())"
   ]
  },
  {
   "cell_type": "code",
   "execution_count": 38,
   "metadata": {},
   "outputs": [
    {
     "data": {
      "text/plain": [
       "'((Ruth))'"
      ]
     },
     "execution_count": 38,
     "metadata": {},
     "output_type": "execute_result"
    }
   ],
   "source": [
    "#16\n",
    "def tags(l,m):\n",
    "    return f'{l[:2]}{m}{l[2:]}'\n",
    "tags('(())','Ruth')"
   ]
  },
  {
   "cell_type": "code",
   "execution_count": 39,
   "metadata": {},
   "outputs": [
    {
     "data": {
      "text/plain": [
       "'htuR'"
      ]
     },
     "execution_count": 39,
     "metadata": {},
     "output_type": "execute_result"
    }
   ],
   "source": [
    "#20\n",
    "def four(m):\n",
    "    if len(m) %4 == 0:return m[::-1]\n",
    "    return f'Not muliple of four!'\n",
    "four('Ruth')"
   ]
  },
  {
   "cell_type": "code",
   "execution_count": 45,
   "metadata": {},
   "outputs": [
    {
     "data": {
      "text/plain": [
       "'CHOCOLATE'"
      ]
     },
     "execution_count": 45,
     "metadata": {},
     "output_type": "execute_result"
    }
   ],
   "source": [
    "#21\n",
    "def upper(p):\n",
    "    counter = 0\n",
    "    for i in p[:4]:\n",
    "        if i.isupper() == True:counter+=1\n",
    "    if counter == 2:p=p.upper() \n",
    "    return p\n",
    "upper('ChOcolate')"
   ]
  },
  {
   "cell_type": "code",
   "execution_count": 47,
   "metadata": {},
   "outputs": [
    {
     "name": "stdout",
     "output_type": "stream",
     "text": [
      "0 R\n",
      "1 u\n",
      "2 t\n",
      "3 h\n"
     ]
    }
   ],
   "source": [
    "#44\n",
    "def iindex(h):\n",
    "    for i,x in enumerate(h):\n",
    "        print(i,x)\n",
    "iindex('Ruth')"
   ]
  },
  {
   "cell_type": "code",
   "execution_count": 173,
   "metadata": {},
   "outputs": [
    {
     "data": {
      "text/plain": [
       "(2, 'ae')"
      ]
     },
     "execution_count": 173,
     "metadata": {},
     "output_type": "execute_result"
    }
   ],
   "source": [
    "#49\n",
    "def vowels(l):\n",
    "    counter,word = 0,''\n",
    "    for i in l:\n",
    "        if i in 'aeiou':\n",
    "            counter+=1 \n",
    "            word+=i\n",
    "    return counter,word\n",
    "vowels('apple')"
   ]
  },
  {
   "cell_type": "code",
   "execution_count": 59,
   "metadata": {},
   "outputs": [
    {
     "name": "stdout",
     "output_type": "stream",
     "text": [
      "2\n",
      "['a', 'e']\n"
     ]
    }
   ],
   "source": [
    "#49\n",
    "def vowels1(l):\n",
    "    print(len([i for i in l if i in 'aeiou']))\n",
    "    print([x for x in l if x in 'aeiou'])\n",
    "vowels1('apple')"
   ]
  },
  {
   "cell_type": "code",
   "execution_count": 77,
   "metadata": {},
   "outputs": [
    {
     "data": {
      "text/plain": [
       "'First non-repeating letter: f'"
      ]
     },
     "execution_count": 77,
     "metadata": {},
     "output_type": "execute_result"
    }
   ],
   "source": [
    "#51\n",
    "def frst(l):\n",
    "    f = {}\n",
    "    for i in l:\n",
    "        if i in f:f[i]+=1\n",
    "        else:f[i]=1\n",
    "    for i in f:\n",
    "        if f[i]==1:\n",
    "            return f'First non-repeating letter: {i}'\n",
    "            break\n",
    "frst('abcabcbfgh')"
   ]
  },
  {
   "cell_type": "code",
   "execution_count": 78,
   "metadata": {},
   "outputs": [
    {
     "data": {
      "text/plain": [
       "'First repeated letter: a'"
      ]
     },
     "execution_count": 78,
     "metadata": {},
     "output_type": "execute_result"
    }
   ],
   "source": [
    "#52\n",
    "def frst1(l):\n",
    "    f = {}\n",
    "    for i in l:\n",
    "        if i in f:f[i]+=1\n",
    "        else:f[i]=1\n",
    "    for i in f:\n",
    "        if f[i]==2:\n",
    "            return f'First repeated letter: {i}'\n",
    "            break\n",
    "frst1('abcabcbfgh')"
   ]
  },
  {
   "cell_type": "code",
   "execution_count": 80,
   "metadata": {},
   "outputs": [
    {
     "data": {
      "text/plain": [
       "'The first repeated word: apples'"
      ]
     },
     "execution_count": 80,
     "metadata": {},
     "output_type": "execute_result"
    }
   ],
   "source": [
    "#55\n",
    "def word1(l):\n",
    "    l = l.split()\n",
    "    for x,y in enumerate(l):\n",
    "        if l[:x+1].count(y)>1:\n",
    "            return f'The first repeated word: {y}'\n",
    "word1('I like apples and used apples to make a pie ')"
   ]
  },
  {
   "cell_type": "code",
   "execution_count": 174,
   "metadata": {},
   "outputs": [
    {
     "data": {
      "text/plain": [
       "'The second most repeated word: love'"
      ]
     },
     "execution_count": 174,
     "metadata": {},
     "output_type": "execute_result"
    }
   ],
   "source": [
    "#56\n",
    "def word2(h):\n",
    "    h,r = h.split(),[]\n",
    "    for x,y in enumerate(h):\n",
    "        if h[:x+1].count(y) == 2:\n",
    "            r.append(y)\n",
    "    return f'The second most repeated word: {r[1]}'\n",
    "word2('I love eating apples and I love drawing')    "
   ]
  },
  {
   "cell_type": "code",
   "execution_count": 93,
   "metadata": {},
   "outputs": [
    {
     "data": {
      "text/plain": [
       "[2, 4]"
      ]
     },
     "execution_count": 93,
     "metadata": {},
     "output_type": "execute_result"
    }
   ],
   "source": [
    "#brain storm\n",
    "e = [1,2,3,4]\n",
    "e[1:4:2]"
   ]
  },
  {
   "cell_type": "code",
   "execution_count": 113,
   "metadata": {},
   "outputs": [
    {
     "data": {
      "text/plain": [
       "('h', 3)"
      ]
     },
     "execution_count": 113,
     "metadata": {},
     "output_type": "execute_result"
    }
   ],
   "source": [
    "#59\n",
    "def maxx(h):\n",
    "    k = {}\n",
    "    for i in h:\n",
    "        if i in k:k[i]+=1\n",
    "        else: k[i]=1\n",
    "    k = sorted(k.items(), key = lambda x:x[1])\n",
    "    return k[-1]\n",
    "maxx('ruthhh')"
   ]
  },
  {
   "cell_type": "code",
   "execution_count": 136,
   "metadata": {},
   "outputs": [
    {
     "data": {
      "text/plain": [
       "'            ruth'"
      ]
     },
     "execution_count": 136,
     "metadata": {},
     "output_type": "execute_result"
    }
   ],
   "source": [
    "#58\n",
    "def space(k):\n",
    "    counter = 0\n",
    "    for i in k:\n",
    "        if i.isspace() == True:counter+=1\n",
    "    k = k.replace(' ','')\n",
    "    return' '*counter + k\n",
    "space('r u t          h')"
   ]
  },
  {
   "cell_type": "code",
   "execution_count": 118,
   "metadata": {},
   "outputs": [
    {
     "data": {
      "text/plain": [
       "4"
      ]
     },
     "execution_count": 118,
     "metadata": {},
     "output_type": "execute_result"
    }
   ],
   "source": [
    "#brainstorm\n",
    "l= 'r u t h '\n",
    "counter = 0\n",
    "for i in l:\n",
    "    if i.isspace()== True:counter+=1\n",
    "counter"
   ]
  },
  {
   "cell_type": "code",
   "execution_count": 151,
   "metadata": {},
   "outputs": [
    {
     "data": {
      "text/plain": [
       "7"
      ]
     },
     "execution_count": 151,
     "metadata": {},
     "output_type": "execute_result"
    }
   ],
   "source": [
    "#64\n",
    "def zero(o):\n",
    "    return max(map(len,o.split('1')))\n",
    "zero('110000110000000')"
   ]
  },
  {
   "cell_type": "code",
   "execution_count": 143,
   "metadata": {},
   "outputs": [
    {
     "data": {
      "text/plain": [
       "['', '', '0000', '', '', '0000000', '', '', '', '']"
      ]
     },
     "execution_count": 143,
     "metadata": {},
     "output_type": "execute_result"
    }
   ],
   "source": [
    "#Brainstorm\n",
    "c = '11000011100000001111'\n",
    "c=c.split('1')\n",
    "c"
   ]
  },
  {
   "cell_type": "code",
   "execution_count": 145,
   "metadata": {},
   "outputs": [
    {
     "data": {
      "text/plain": [
       "7"
      ]
     },
     "execution_count": 145,
     "metadata": {},
     "output_type": "execute_result"
    }
   ],
   "source": [
    "#Brainstorm\n",
    "b= max(map(len,c))\n",
    "b"
   ]
  },
  {
   "cell_type": "code",
   "execution_count": 163,
   "metadata": {},
   "outputs": [
    {
     "data": {
      "text/plain": [
       "'pqrxyz'"
      ]
     },
     "execution_count": 163,
     "metadata": {},
     "output_type": "execute_result"
    }
   ],
   "source": [
    "#70\n",
    "def common(d,f):\n",
    "    counter = ''\n",
    "    for i in d:\n",
    "        if (i in f) == False:counter+=i\n",
    "    for x in f:\n",
    "        if (x in d) == False:counter+=x\n",
    "    return counter\n",
    "common('abcdpqr','xyzabcd')"
   ]
  },
  {
   "cell_type": "code",
   "execution_count": 176,
   "metadata": {},
   "outputs": [
    {
     "name": "stdout",
     "output_type": "stream",
     "text": [
      "d\n",
      "s\n"
     ]
    }
   ],
   "source": [
    "#Brainstorm\n",
    "c,d= 'abds','abce'\n",
    "for i in c:\n",
    "    if (i in d) == False:\n",
    "        print(i)"
   ]
  },
  {
   "cell_type": "code",
   "execution_count": 175,
   "metadata": {},
   "outputs": [
    {
     "data": {
      "text/plain": [
       "\"Smallest word:(1, 'a') Longest word:(9, 'Algorithm')\""
      ]
     },
     "execution_count": 175,
     "metadata": {},
     "output_type": "execute_result"
    }
   ],
   "source": [
    "#79\n",
    "def long(k):\n",
    "    l,k = [],k.split()\n",
    "    for i in k:l.append((len(i),i))\n",
    "    l = sorted(l)\n",
    "    return f'Smallest word:{l[0]} Longest word:{l[-1]}'\n",
    "long('Write a Java program to sort an array of given integers using Quick sort Algorithm')"
   ]
  },
  {
   "cell_type": "code",
   "execution_count": 187,
   "metadata": {},
   "outputs": [
    {
     "data": {
      "text/plain": [
       "['Ovuike', 'Pretty']"
      ]
     },
     "execution_count": 187,
     "metadata": {},
     "output_type": "execute_result"
    }
   ],
   "source": [
    "#Del\n",
    "h = ['Ruth','Ovuike','Pretty']\n",
    "del h[0]\n",
    "h"
   ]
  },
  {
   "cell_type": "code",
   "execution_count": 196,
   "metadata": {},
   "outputs": [
    {
     "data": {
      "text/plain": [
       "[1, 2, 3, 4, 5, 'Ruth', 7, 8, 9, 10]"
      ]
     },
     "execution_count": 196,
     "metadata": {},
     "output_type": "execute_result"
    }
   ],
   "source": [
    "# change the value\n",
    "c = [1,2,3,4,5,6,7,8,9,10]\n",
    "c[5:6] = ['Ruth']\n",
    "c"
   ]
  },
  {
   "cell_type": "code",
   "execution_count": 203,
   "metadata": {},
   "outputs": [
    {
     "data": {
      "text/plain": [
       "[1, 2, 3, 4, 5, 6]"
      ]
     },
     "execution_count": 203,
     "metadata": {},
     "output_type": "execute_result"
    }
   ],
   "source": [
    "#copy a list\n",
    "b = [1,2,3,4,5,6]\n",
    "newg = list(b)\n",
    "newg"
   ]
  },
  {
   "cell_type": "code",
   "execution_count": 227,
   "metadata": {},
   "outputs": [
    {
     "name": "stdout",
     "output_type": "stream",
     "text": [
      "[2, 3, 4, 5, 6] [7, 8, 9, 10] [2, 3, 4, 5, 6, 7, 8, 9, 10]\n"
     ]
    }
   ],
   "source": [
    "#join/nested\n",
    "g,t,y=[2,3,4,5,6],[7,8,9,10],g+t\n",
    "print(g,t,y)"
   ]
  },
  {
   "cell_type": "code",
   "execution_count": 231,
   "metadata": {},
   "outputs": [
    {
     "name": "stdout",
     "output_type": "stream",
     "text": [
      "0\n",
      "1\n",
      "1\n",
      "2\n",
      "3\n",
      "5\n",
      "8\n",
      "13\n",
      "21\n",
      "34\n",
      "55\n",
      "89\n"
     ]
    }
   ],
   "source": [
    "#Fibonacci series:\n",
    "def fib(p):\n",
    "    a,b = 0,1\n",
    "    while a<p:\n",
    "        print(a)\n",
    "        a,b = b, a+b\n",
    "fib(110)"
   ]
  },
  {
   "cell_type": "code",
   "execution_count": 10,
   "metadata": {},
   "outputs": [
    {
     "data": {
      "text/plain": [
       "[{'ruth': 20}, {'okay': 12}, {'ovuike': 1972}]"
      ]
     },
     "execution_count": 10,
     "metadata": {},
     "output_type": "execute_result"
    }
   ],
   "source": [
    "#append \n",
    "d = [{'ruth':20},{'okay':12}]\n",
    "d.append({'ovuike':1972})\n",
    "d"
   ]
  },
  {
   "cell_type": "code",
   "execution_count": 16,
   "metadata": {},
   "outputs": [
    {
     "data": {
      "text/plain": [
       "[2, 12, 30, [(1, 2), (3, 4), (5, 6)]]"
      ]
     },
     "execution_count": 16,
     "metadata": {},
     "output_type": "execute_result"
    }
   ],
   "source": [
    "g = [(1,2),(3,4),(5,6)]\n",
    "h = [(1*2),(3*4),(5*6)]\n",
    "h[len(h):]=[g]\n",
    "h"
   ]
  },
  {
   "cell_type": "code",
   "execution_count": 23,
   "metadata": {},
   "outputs": [],
   "source": []
  },
  {
   "cell_type": "code",
   "execution_count": null,
   "metadata": {},
   "outputs": [],
   "source": []
  }
 ],
 "metadata": {
  "kernelspec": {
   "display_name": "Python 3",
   "language": "python",
   "name": "python3"
  },
  "language_info": {
   "codemirror_mode": {
    "name": "ipython",
    "version": 3
   },
   "file_extension": ".py",
   "mimetype": "text/x-python",
   "name": "python",
   "nbconvert_exporter": "python",
   "pygments_lexer": "ipython3",
   "version": "3.7.4"
  }
 },
 "nbformat": 4,
 "nbformat_minor": 2
}
